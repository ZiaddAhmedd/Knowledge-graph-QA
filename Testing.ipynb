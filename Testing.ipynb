{
 "cells": [
  {
   "cell_type": "code",
   "execution_count": 1,
   "metadata": {},
   "outputs": [
    {
     "name": "stderr",
     "output_type": "stream",
     "text": [
      "c:\\Users\\zisak\\anaconda3\\Lib\\site-packages\\transformers\\utils\\generic.py:441: UserWarning: torch.utils._pytree._register_pytree_node is deprecated. Please use torch.utils._pytree.register_pytree_node instead.\n",
      "  _torch_pytree._register_pytree_node(\n"
     ]
    },
    {
     "name": "stdout",
     "output_type": "stream",
     "text": [
      "WARNING:tensorflow:From c:\\Users\\zisak\\anaconda3\\Lib\\site-packages\\keras\\src\\losses.py:2976: The name tf.losses.sparse_softmax_cross_entropy is deprecated. Please use tf.compat.v1.losses.sparse_softmax_cross_entropy instead.\n",
      "\n"
     ]
    }
   ],
   "source": [
    "import regex as re\n",
    "import pandas as pd\n",
    "from nltk.translate.bleu_score import SmoothingFunction\n",
    "import random\n",
    "from datasets import load_dataset\n",
    "\n",
    "dataset = load_dataset(\"rajpurkar/squad\")\n",
    "validation = dataset['validation']\n",
    "\n",
    "random.seed(42)\n",
    "\n",
    "import pandas as pd\n",
    "import regex as re\n",
    "from tqdm import tqdm\n",
    "import nltk\n",
    "import RagNRollQA"
   ]
  },
  {
   "cell_type": "code",
   "execution_count": 2,
   "metadata": {},
   "outputs": [
    {
     "data": {
      "text/plain": [
       "10570"
      ]
     },
     "execution_count": 2,
     "metadata": {},
     "output_type": "execute_result"
    }
   ],
   "source": [
    "len(validation['question'])"
   ]
  },
  {
   "cell_type": "code",
   "execution_count": 3,
   "metadata": {},
   "outputs": [
    {
     "data": {
      "text/plain": [
       "[260,\n",
       " 1420,\n",
       " 5063,\n",
       " 5788,\n",
       " 6600,\n",
       " 6808,\n",
       " 6885,\n",
       " 6904,\n",
       " 7362,\n",
       " 7459,\n",
       " 8962,\n",
       " 9035,\n",
       " 9599,\n",
       " 9667,\n",
       " 9877,\n",
       " 10253,\n",
       " 10403,\n",
       " 10422]"
      ]
     },
     "execution_count": 3,
     "metadata": {},
     "output_type": "execute_result"
    }
   ],
   "source": [
    "# get length of questions which start with when and doesn't contain what, who, where, how and save the fake when questions indicies\n",
    "when_questions = []\n",
    "fake_when_questions = []\n",
    "fake_when_questions_indices = []\n",
    "for index, question in enumerate(validation['question']):\n",
    "    if question.startswith(\"When\") and not any(word in question.lower() for word in [\", what\", \", who\", \", where\", \", how\"]):\n",
    "        when_questions.append(question)\n",
    "    elif question.startswith(\"When\"):\n",
    "        fake_when_questions.append(question)\n",
    "        fake_when_questions_indices.append(index)\n",
    "        \n",
    "    \n",
    "        \n",
    "# remove rows from validation which contains questions inside fake_when_questions_indices\n",
    "validation = validation.filter(lambda example, idx: idx not in fake_when_questions_indices, with_indices=True)\n",
    "fake_when_questions_indices"
   ]
  },
  {
   "cell_type": "code",
   "execution_count": 4,
   "metadata": {},
   "outputs": [
    {
     "data": {
      "text/plain": [
       "10552"
      ]
     },
     "execution_count": 4,
     "metadata": {},
     "output_type": "execute_result"
    }
   ],
   "source": [
    "len(validation['question'])"
   ]
  },
  {
   "cell_type": "code",
   "execution_count": 5,
   "metadata": {},
   "outputs": [
    {
     "name": "stderr",
     "output_type": "stream",
     "text": [
      "c:\\Users\\zisak\\anaconda3\\Lib\\site-packages\\transformers\\utils\\generic.py:309: UserWarning: torch.utils._pytree._register_pytree_node is deprecated. Please use torch.utils._pytree.register_pytree_node instead.\n",
      "  _torch_pytree._register_pytree_node(\n",
      "c:\\Users\\zisak\\anaconda3\\Lib\\site-packages\\huggingface_hub\\file_download.py:1132: FutureWarning: `resume_download` is deprecated and will be removed in version 1.0.0. Downloads always resume when possible. If you want to force a new download, use `force_download=True`.\n",
      "  warnings.warn(\n",
      "c:\\Users\\zisak\\anaconda3\\Lib\\site-packages\\transformers\\utils\\generic.py:309: UserWarning: torch.utils._pytree._register_pytree_node is deprecated. Please use torch.utils._pytree.register_pytree_node instead.\n",
      "  _torch_pytree._register_pytree_node(\n",
      "c:\\Users\\zisak\\anaconda3\\Lib\\site-packages\\huggingface_hub\\file_download.py:1132: FutureWarning: `resume_download` is deprecated and will be removed in version 1.0.0. Downloads always resume when possible. If you want to force a new download, use `force_download=True`.\n",
      "  warnings.warn(\n",
      "  1%|          | 112/10552 [00:15<20:22,  8.54it/s] "
     ]
    },
    {
     "name": "stdout",
     "output_type": "stream",
     "text": [
      "No facts found in the question\n"
     ]
    },
    {
     "name": "stderr",
     "output_type": "stream",
     "text": [
      "  9%|▊         | 916/10552 [02:26<13:45, 11.67it/s]  c:\\Users\\zisak\\anaconda3\\Lib\\site-packages\\coreferee\\tendencies.py:319: UserWarning: [W008] Evaluating Lexeme.similarity based on empty vectors.\n",
      "  referred_head_lexeme.similarity(referring_head_lexeme)\n",
      "  9%|▉         | 997/10552 [02:29<05:08, 31.01it/s]"
     ]
    },
    {
     "name": "stdout",
     "output_type": "stream",
     "text": [
      "Correct: 51, out of 203: 25.123152709359605%\n",
      "EM: 26, out of 203: 12.807881773399014%\n",
      "BLEU: 50.00304383522701, out of 203: 24.632041298141385%\n",
      "BLEU1: 71.33977059659844, out of 203: 35.142744136255395%\n",
      "BLEU2: 50.778041439330195, out of 203: 25.013813516911423%\n",
      "BLEU3: 44.35792509178475, out of 203: 21.851194626494948%\n",
      "BLEU4: 40.15586527347335, out of 203: 19.781214420430224%\n"
     ]
    },
    {
     "name": "stderr",
     "output_type": "stream",
     "text": [
      " 10%|▉         | 1045/10552 [02:32<07:13, 21.94it/s]c:\\Users\\zisak\\anaconda3\\Lib\\site-packages\\coreferee\\tendencies.py:319: UserWarning: [W008] Evaluating Lexeme.similarity based on empty vectors.\n",
      "  referred_head_lexeme.similarity(referring_head_lexeme)\n",
      " 10%|█         | 1060/10552 [02:32<06:45, 23.38it/s]c:\\Users\\zisak\\anaconda3\\Lib\\site-packages\\coreferee\\tendencies.py:319: UserWarning: [W008] Evaluating Lexeme.similarity based on empty vectors.\n",
      "  referred_head_lexeme.similarity(referring_head_lexeme)\n",
      "c:\\Users\\zisak\\anaconda3\\Lib\\site-packages\\coreferee\\tendencies.py:319: UserWarning: [W008] Evaluating Lexeme.similarity based on empty vectors.\n",
      "  referred_head_lexeme.similarity(referring_head_lexeme)\n",
      " 19%|█▉        | 1988/10552 [03:46<13:17, 10.73it/s]  "
     ]
    },
    {
     "name": "stdout",
     "output_type": "stream",
     "text": [
      "Correct: 90, out of 319: 28.213166144200628%\n",
      "EM: 45, out of 319: 14.106583072100314%\n",
      "BLEU: 83.7430655795856, out of 319: 26.25174469579486%\n",
      "BLEU1: 115.24605049849315, out of 319: 36.12728855752136%\n",
      "BLEU2: 85.51357538701217, out of 319: 26.806763444204442%\n",
      "BLEU3: 75.89517057095965, out of 319: 23.791589520677007%\n",
      "BLEU4: 69.94025369815878, out of 319: 21.924844419485513%\n"
     ]
    },
    {
     "name": "stderr",
     "output_type": "stream",
     "text": [
      " 24%|██▎       | 2484/10552 [04:17<05:15, 25.57it/s]c:\\Users\\zisak\\anaconda3\\Lib\\site-packages\\coreferee\\tendencies.py:319: UserWarning: [W008] Evaluating Lexeme.similarity based on empty vectors.\n",
      "  referred_head_lexeme.similarity(referring_head_lexeme)\n",
      " 28%|██▊       | 2990/10552 [04:48<02:57, 42.64it/s]"
     ]
    },
    {
     "name": "stdout",
     "output_type": "stream",
     "text": [
      "Correct: 122, out of 396: 30.80808080808081%\n",
      "EM: 61, out of 396: 15.404040404040405%\n",
      "BLEU: 110.36314480184244, out of 396: 27.869481010566275%\n",
      "BLEU1: 146.85377564690822, out of 396: 37.08428677952228%\n",
      "BLEU2: 112.76754149562342, out of 396: 28.476651892834198%\n",
      "BLEU3: 101.38411257071881, out of 396: 25.602048628969396%\n",
      "BLEU4: 93.6577437000364, out of 396: 23.650945378797072%\n"
     ]
    },
    {
     "name": "stderr",
     "output_type": "stream",
     "text": [
      " 32%|███▏      | 3374/10552 [05:09<12:42,  9.42it/s]"
     ]
    }
   ],
   "source": [
    "\n",
    "def QuestionStartsWith_Accuracy(dataset, startsWith, RagQA):\n",
    "\n",
    "    correct = 0\n",
    "    EM = 0\n",
    "    BLEU = 0\n",
    "    BLEU1 = 0\n",
    "    BLEU2 = 0\n",
    "    BLEU3 = 0\n",
    "    BLEU4 = 0\n",
    "    total = 0\n",
    "    errors = []\n",
    "    corrects = []\n",
    "    empties = []\n",
    "    kolo = 0\n",
    "    for item in tqdm(dataset):\n",
    "        random_number = random.randint(0, len(dataset))\n",
    "        kolo += 1\n",
    "        included_question = False\n",
    "        try:\n",
    "            context = item['context']\n",
    "            context = re.sub(' +', ' ', context)\n",
    "            \n",
    "            question = item['question']\n",
    "            tempQuestion = question.lower()\n",
    "            question = re.sub(' +', ' ', question)\n",
    "            \n",
    "            answer = item['answers']['text'][0]\n",
    "            title = item['title']\n",
    "    \n",
    "            # check if question starts with startsWith\n",
    "            for start in startsWith:\n",
    "                if tempQuestion.startswith(start):\n",
    "                    included_question = True\n",
    "                    break\n",
    "            \n",
    "            if included_question:\n",
    "    \n",
    "                total += 1\n",
    "                if total == 74:\n",
    "                    pass\n",
    "                outputAnswer = RagQA.answer_question(question, context)\n",
    "                if outputAnswer == \"\":\n",
    "                    empties.append(kolo)\n",
    "                    outputAnswer = \"No_Answer_Found\"\n",
    "                \n",
    "                # print(\"Question: \" , question)\n",
    "                # print(\"Answer: \", answer, \"-------\" , \"Our Answer: \", outputAnswer)\n",
    "                if outputAnswer in answer or answer in outputAnswer:\n",
    "                    correct += 1\n",
    "                    corrects.append(kolo)\n",
    "                else:\n",
    "                    # write to when_wrong_answers.txt\n",
    "                    with open(\"results/where_wrong_answers.txt\", \"a\") as file:\n",
    "                        file.write(f\"Question: {question}\\n\")\n",
    "                        file.write(f\"Answer: {answer}\\n\")\n",
    "                        file.write(f\"Our Answer: {outputAnswer}\\n\\n\")\n",
    "                        \n",
    "                        \n",
    "                if outputAnswer == answer:\n",
    "                    EM += 1\n",
    "\n",
    "                n = min(len(outputAnswer.split()), 4)\n",
    "                if n == 0:\n",
    "                    BLEUscore = 0\n",
    "                else:\n",
    "                    weights = [1.0/n]*n\n",
    "                    smoothie = SmoothingFunction().method4\n",
    "                    BLEUscore = nltk.translate.bleu_score.sentence_bleu([answer], outputAnswer, weights=weights, smoothing_function=smoothie)\n",
    "                    \n",
    "                    BLEU += BLEUscore\n",
    "                    BLEU1 += nltk.translate.bleu_score.sentence_bleu([answer], outputAnswer, weights=(1, 0, 0, 0), smoothing_function=smoothie)\n",
    "                    BLEU2 += nltk.translate.bleu_score.sentence_bleu([answer], outputAnswer, weights=(0.5, 0.5, 0, 0), smoothing_function=smoothie)\n",
    "                    BLEU3 += nltk.translate.bleu_score.sentence_bleu([answer], outputAnswer, weights=(0.33, 0.33, 0.33, 0), smoothing_function=smoothie)\n",
    "                    BLEU4 += nltk.translate.bleu_score.sentence_bleu([answer], outputAnswer, weights=(0.25, 0.25, 0.25, 0.25), smoothing_function=smoothie)\n",
    "                    \n",
    "\n",
    "            if kolo % 1000 == 0:\n",
    "                print(f\"Correct: {correct}, out of {total}: {100*correct/total}%\")\n",
    "                print(f\"EM: {EM}, out of {total}: {100*EM/total}%\")\n",
    "                print(f\"BLEU: {BLEU}, out of {total}: {100*BLEU/total}%\")\n",
    "                print(f\"BLEU1: {BLEU1}, out of {total}: {100*BLEU1/total}%\")\n",
    "                print(f\"BLEU2: {BLEU2}, out of {total}: {100*BLEU2/total}%\")\n",
    "                print(f\"BLEU3: {BLEU3}, out of {total}: {100*BLEU3/total}%\")\n",
    "                print(f\"BLEU4: {BLEU4}, out of {total}: {100*BLEU4/total}%\")\n",
    "        \n",
    "        except Exception as e:\n",
    "            print(\"title: \", title)\n",
    "            print(\"Error in question number: \", total)\n",
    "            print(\"Question: \", question)\n",
    "            print(\"Answer: \", answer)\n",
    "            print(\"Error: \", e)\n",
    "            errors.append(total)\n",
    "            # total -= 1\n",
    "            print(\"\\n\\n\")\n",
    "    \n",
    "    if total != 0:\n",
    "        print(f\"Correct: {correct}, out of {total}: {100*correct/total}%\")\n",
    "        print(f\"EM: {EM}, out of {total}: {100*EM/total}%\")\n",
    "        print(f\"BLEU: {BLEU}, out of {total}: {100*BLEU/total}%\")\n",
    "        print(f\"BLEU1: {BLEU1}, out of {total}: {100*BLEU1/total}%\")\n",
    "        print(f\"BLEU2: {BLEU2}, out of {total}: {100*BLEU2/total}%\")\n",
    "        print(f\"BLEU3: {BLEU3}, out of {total}: {100*BLEU3/total}%\")\n",
    "        print(f\"BLEU4: {BLEU4}, out of {total}: {100*BLEU4/total}%\")\n",
    "    else:\n",
    "        print(\"No Questions found with the given starting word\")\n",
    "    print(\"Errors: \", errors)\n",
    "    print(\"Empties: \", len(empties), empties)\n",
    "    return correct, total, errors, corrects\n",
    "\n",
    "\n",
    "if __name__ == \"__main__\":\n",
    "\n",
    "    startsWith = [\"who \"]\n",
    "    RagQA = RagNRollQA.RagNRollQA()\n",
    "    x = QuestionStartsWith_Accuracy(validation, startsWith, RagQA)"
   ]
  },
  {
   "cell_type": "code",
   "execution_count": null,
   "metadata": {},
   "outputs": [],
   "source": [
    "# [174, 315, 326, 349, 472, 488, 493, 498, 530, 667]\n",
    "# when: 48%"
   ]
  }
 ],
 "metadata": {
  "kernelspec": {
   "display_name": "base",
   "language": "python",
   "name": "python3"
  },
  "language_info": {
   "codemirror_mode": {
    "name": "ipython",
    "version": 3
   },
   "file_extension": ".py",
   "mimetype": "text/x-python",
   "name": "python",
   "nbconvert_exporter": "python",
   "pygments_lexer": "ipython3",
   "version": "3.11.5"
  }
 },
 "nbformat": 4,
 "nbformat_minor": 2
}
