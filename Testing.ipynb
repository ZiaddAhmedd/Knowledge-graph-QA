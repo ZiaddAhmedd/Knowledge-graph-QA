{
 "cells": [
  {
   "cell_type": "code",
   "execution_count": 1,
   "metadata": {},
   "outputs": [
    {
     "name": "stderr",
     "output_type": "stream",
     "text": [
      "c:\\Users\\zisak\\anaconda3\\Lib\\site-packages\\transformers\\utils\\generic.py:441: UserWarning: torch.utils._pytree._register_pytree_node is deprecated. Please use torch.utils._pytree.register_pytree_node instead.\n",
      "  _torch_pytree._register_pytree_node(\n"
     ]
    },
    {
     "name": "stdout",
     "output_type": "stream",
     "text": [
      "WARNING:tensorflow:From c:\\Users\\zisak\\anaconda3\\Lib\\site-packages\\keras\\src\\losses.py:2976: The name tf.losses.sparse_softmax_cross_entropy is deprecated. Please use tf.compat.v1.losses.sparse_softmax_cross_entropy instead.\n",
      "\n"
     ]
    }
   ],
   "source": [
    "import regex as re\n",
    "import pandas as pd\n",
    "from nltk.translate.bleu_score import SmoothingFunction\n",
    "import random\n",
    "from datasets import load_dataset\n",
    "\n",
    "dataset = load_dataset(\"rajpurkar/squad\")\n",
    "validation = dataset['validation']\n",
    "\n",
    "random.seed(42)\n",
    "\n",
    "import pandas as pd\n",
    "import regex as re\n",
    "from tqdm import tqdm\n",
    "import nltk\n",
    "import RagNRollQA"
   ]
  },
  {
   "cell_type": "code",
   "execution_count": 2,
   "metadata": {},
   "outputs": [
    {
     "data": {
      "text/plain": [
       "10570"
      ]
     },
     "execution_count": 2,
     "metadata": {},
     "output_type": "execute_result"
    }
   ],
   "source": [
    "len(validation['question'])"
   ]
  },
  {
   "cell_type": "code",
   "execution_count": 3,
   "metadata": {},
   "outputs": [
    {
     "data": {
      "text/plain": [
       "[260,\n",
       " 1420,\n",
       " 5063,\n",
       " 5788,\n",
       " 6600,\n",
       " 6808,\n",
       " 6885,\n",
       " 6904,\n",
       " 7362,\n",
       " 7459,\n",
       " 8962,\n",
       " 9035,\n",
       " 9599,\n",
       " 9667,\n",
       " 9877,\n",
       " 10253,\n",
       " 10403,\n",
       " 10422]"
      ]
     },
     "execution_count": 3,
     "metadata": {},
     "output_type": "execute_result"
    }
   ],
   "source": [
    "# get length of questions which start with when and doesn't contain what, who, where, how and save the fake when questions indicies\n",
    "when_questions = []\n",
    "fake_when_questions = []\n",
    "fake_when_questions_indices = []\n",
    "for index, question in enumerate(validation['question']):\n",
    "    if question.startswith(\"When\") and not any(word in question.lower() for word in [\", what\", \", who\", \", where\", \", how\"]):\n",
    "        when_questions.append(question)\n",
    "    elif question.startswith(\"When\"):\n",
    "        fake_when_questions.append(question)\n",
    "        fake_when_questions_indices.append(index)\n",
    "        \n",
    "    \n",
    "        \n",
    "# remove rows from validation which contains questions inside fake_when_questions_indices\n",
    "validation = validation.filter(lambda example, idx: idx not in fake_when_questions_indices, with_indices=True)\n",
    "fake_when_questions_indices"
   ]
  },
  {
   "cell_type": "code",
   "execution_count": 4,
   "metadata": {},
   "outputs": [
    {
     "data": {
      "text/plain": [
       "10552"
      ]
     },
     "execution_count": 4,
     "metadata": {},
     "output_type": "execute_result"
    }
   ],
   "source": [
    "len(validation['question'])"
   ]
  },
  {
   "cell_type": "code",
   "execution_count": 7,
   "metadata": {},
   "outputs": [
    {
     "name": "stderr",
     "output_type": "stream",
     "text": [
      "c:\\Users\\zisak\\anaconda3\\Lib\\site-packages\\huggingface_hub\\file_download.py:1132: FutureWarning: `resume_download` is deprecated and will be removed in version 1.0.0. Downloads always resume when possible. If you want to force a new download, use `force_download=True`.\n",
      "  warnings.warn(\n",
      "  8%|▊         | 835/10552 [00:16<00:47, 205.91it/s]c:\\Users\\zisak\\anaconda3\\Lib\\site-packages\\coreferee\\tendencies.py:319: UserWarning: [W008] Evaluating Lexeme.similarity based on empty vectors.\n",
      "  referred_head_lexeme.similarity(referring_head_lexeme)\n",
      "  9%|▊         | 908/10552 [00:23<10:30, 15.30it/s] c:\\Users\\zisak\\anaconda3\\Lib\\site-packages\\coreferee\\tendencies.py:319: UserWarning: [W008] Evaluating Lexeme.similarity based on empty vectors.\n",
      "  referred_head_lexeme.similarity(referring_head_lexeme)\n",
      "  9%|▊         | 921/10552 [00:24<11:01, 14.57it/s]c:\\Users\\zisak\\anaconda3\\Lib\\site-packages\\coreferee\\tendencies.py:319: UserWarning: [W008] Evaluating Lexeme.similarity based on empty vectors.\n",
      "  referred_head_lexeme.similarity(referring_head_lexeme)\n",
      "  9%|▉         | 988/10552 [00:31<21:17,  7.49it/s]"
     ]
    },
    {
     "name": "stdout",
     "output_type": "stream",
     "text": [
      "Correct: 34, out of 51: 66.66666666666667%\n",
      "EM: 22, out of 51: 43.13725490196079%\n",
      "BLEU: 31.19980857987034, out of 51: 61.17609525464773%\n",
      "BLEU1: 32.667965720809974, out of 51: 64.05483474668623%\n",
      "BLEU2: 30.510495040110396, out of 51: 59.82450007864784%\n",
      "BLEU3: 29.853393190260913, out of 51: 58.53606507894297%\n",
      "BLEU4: 29.31288367915695, out of 51: 57.47624250815088%\n"
     ]
    },
    {
     "name": "stderr",
     "output_type": "stream",
     "text": [
      " 10%|▉         | 1042/10552 [00:35<16:05,  9.84it/s]c:\\Users\\zisak\\anaconda3\\Lib\\site-packages\\coreferee\\tendencies.py:319: UserWarning: [W008] Evaluating Lexeme.similarity based on empty vectors.\n",
      "  referred_head_lexeme.similarity(referring_head_lexeme)\n",
      " 20%|█▉        | 2075/10552 [01:11<00:21, 395.71it/s]"
     ]
    },
    {
     "name": "stdout",
     "output_type": "stream",
     "text": [
      "Correct: 88, out of 129: 68.21705426356588%\n",
      "EM: 59, out of 129: 45.736434108527135%\n",
      "BLEU: 79.80435142786126, out of 129: 61.863838316171524%\n",
      "BLEU1: 83.16735853261856, out of 129: 64.47082056792136%\n",
      "BLEU2: 78.51499625966733, out of 129: 60.86433818578863%\n",
      "BLEU3: 76.3987216977013, out of 129: 59.22381526953589%\n",
      "BLEU4: 74.11135898374205, out of 129: 57.450665878869806%\n"
     ]
    },
    {
     "name": "stderr",
     "output_type": "stream",
     "text": [
      " 24%|██▎       | 2488/10552 [01:35<06:57, 19.34it/s] c:\\Users\\zisak\\anaconda3\\Lib\\site-packages\\coreferee\\tendencies.py:319: UserWarning: [W008] Evaluating Lexeme.similarity based on empty vectors.\n",
      "  referred_head_lexeme.similarity(referring_head_lexeme)\n",
      " 28%|██▊       | 2992/10552 [02:00<08:10, 15.41it/s] "
     ]
    },
    {
     "name": "stdout",
     "output_type": "stream",
     "text": [
      "Correct: 149, out of 217: 68.66359447004608%\n",
      "EM: 101, out of 217: 46.54377880184332%\n",
      "BLEU: 134.9366814393242, out of 217: 62.18280250660101%\n",
      "BLEU1: 140.94319730184296, out of 217: 64.9507821667479%\n",
      "BLEU2: 133.46000763853732, out of 217: 61.50230766752872%\n",
      "BLEU3: 129.80714177054935, out of 217: 59.81895934126698%\n",
      "BLEU4: 126.06547409987513, out of 217: 58.094688525288085%\n"
     ]
    },
    {
     "name": "stderr",
     "output_type": "stream",
     "text": [
      " 29%|██▉       | 3037/10552 [02:01<04:58, 25.21it/s]c:\\Users\\zisak\\anaconda3\\Lib\\site-packages\\coreferee\\tendencies.py:319: UserWarning: [W008] Evaluating Lexeme.similarity based on empty vectors.\n",
      "  referred_head_lexeme.similarity(referring_head_lexeme)\n",
      " 38%|███▊      | 3993/10552 [02:33<02:28, 44.21it/s] "
     ]
    },
    {
     "name": "stdout",
     "output_type": "stream",
     "text": [
      "Correct: 192, out of 277: 69.31407942238268%\n",
      "EM: 126, out of 277: 45.48736462093863%\n",
      "BLEU: 172.8505134467151, out of 277: 62.40090738148559%\n",
      "BLEU1: 179.82756527740796, out of 277: 64.91969865610396%\n",
      "BLEU2: 171.30150161237648, out of 277: 61.8416973329879%\n",
      "BLEU3: 166.9282234324856, out of 277: 60.26289654602368%\n",
      "BLEU4: 162.3202808848811, out of 277: 58.5993793808235%\n"
     ]
    },
    {
     "name": "stderr",
     "output_type": "stream",
     "text": [
      " 47%|████▋     | 4934/10552 [03:01<02:50, 32.96it/s] c:\\Users\\zisak\\anaconda3\\Lib\\site-packages\\coreferee\\tendencies.py:319: UserWarning: [W008] Evaluating Lexeme.similarity based on empty vectors.\n",
      "  referred_head_lexeme.similarity(referring_head_lexeme)\n",
      " 47%|████▋     | 4999/10552 [03:05<04:21, 21.25it/s]"
     ]
    },
    {
     "name": "stdout",
     "output_type": "stream",
     "text": [
      "Correct: 219, out of 324: 67.5925925925926%\n",
      "EM: 143, out of 324: 44.135802469135804%\n",
      "BLEU: 201.3152800342532, out of 324: 62.13434568958432%\n",
      "BLEU1: 209.45526549515043, out of 324: 64.64668688121927%\n",
      "BLEU2: 198.89377291015032, out of 324: 61.386966947577264%\n",
      "BLEU3: 193.0376602006348, out of 324: 59.57952475328235%\n",
      "BLEU4: 187.1465599695635, out of 324: 57.761283941223304%\n"
     ]
    },
    {
     "name": "stderr",
     "output_type": "stream",
     "text": [
      " 57%|█████▋    | 5977/10552 [03:55<04:10, 18.24it/s]"
     ]
    },
    {
     "name": "stdout",
     "output_type": "stream",
     "text": [
      "Correct: 262, out of 395: 66.32911392405063%\n",
      "EM: 170, out of 395: 43.037974683544306%\n",
      "BLEU: 239.81102213719757, out of 395: 60.71165117397407%\n",
      "BLEU1: 249.90804564790488, out of 395: 63.267859657697436%\n",
      "BLEU2: 236.69112226498228, out of 395: 59.92180310505881%\n",
      "BLEU3: 229.14708583077277, out of 395: 58.01192046348678%\n",
      "BLEU4: 221.66923648014426, out of 395: 56.11879404560614%\n"
     ]
    },
    {
     "name": "stderr",
     "output_type": "stream",
     "text": [
      " 66%|██████▌   | 6955/10552 [04:09<00:27, 129.96it/s]"
     ]
    },
    {
     "name": "stdout",
     "output_type": "stream",
     "text": [
      "Correct: 276, out of 420: 65.71428571428571%\n",
      "EM: 178, out of 420: 42.38095238095238%\n",
      "BLEU: 251.5726854743151, out of 420: 59.8982584462655%\n",
      "BLEU1: 263.8575524687611, out of 420: 62.82322677827646%\n",
      "BLEU2: 249.06969478070107, out of 420: 59.3023082811193%\n",
      "BLEU3: 240.6818746412156, out of 420: 57.305208247908475%\n",
      "BLEU4: 232.46925158710678, out of 420: 55.349821806453996%\n"
     ]
    },
    {
     "name": "stderr",
     "output_type": "stream",
     "text": [
      " 76%|███████▌  | 7992/10552 [04:38<02:06, 20.18it/s] "
     ]
    },
    {
     "name": "stdout",
     "output_type": "stream",
     "text": [
      "Correct: 300, out of 466: 64.37768240343348%\n",
      "EM: 190, out of 466: 40.772532188841204%\n",
      "BLEU: 271.6146215167682, out of 466: 58.28639946711763%\n",
      "BLEU1: 285.16919591916803, out of 466: 61.19510642042233%\n",
      "BLEU2: 268.99838736675656, out of 466: 57.72497582977609%\n",
      "BLEU3: 259.6040378366066, out of 466: 55.70902099497996%\n",
      "BLEU4: 250.80142491683074, out of 466: 53.82004826541432%\n"
     ]
    },
    {
     "name": "stderr",
     "output_type": "stream",
     "text": [
      " 77%|███████▋  | 8125/10552 [04:42<01:22, 29.59it/s]c:\\Users\\zisak\\anaconda3\\Lib\\site-packages\\coreferee\\tendencies.py:319: UserWarning: [W008] Evaluating Lexeme.similarity based on empty vectors.\n",
      "  referred_head_lexeme.similarity(referring_head_lexeme)\n",
      " 77%|███████▋  | 8130/10552 [04:43<01:41, 23.78it/s]c:\\Users\\zisak\\anaconda3\\Lib\\site-packages\\coreferee\\tendencies.py:319: UserWarning: [W008] Evaluating Lexeme.similarity based on empty vectors.\n",
      "  referred_head_lexeme.similarity(referring_head_lexeme)\n",
      " 78%|███████▊  | 8182/10552 [04:51<07:45,  5.09it/s]c:\\Users\\zisak\\anaconda3\\Lib\\site-packages\\coreferee\\tendencies.py:319: UserWarning: [W008] Evaluating Lexeme.similarity based on empty vectors.\n",
      "  referred_head_lexeme.similarity(referring_head_lexeme)\n",
      " 78%|███████▊  | 8183/10552 [04:52<09:34,  4.13it/s]c:\\Users\\zisak\\anaconda3\\Lib\\site-packages\\coreferee\\tendencies.py:319: UserWarning: [W008] Evaluating Lexeme.similarity based on empty vectors.\n",
      "  referred_head_lexeme.similarity(referring_head_lexeme)\n",
      " 78%|███████▊  | 8185/10552 [04:53<10:17,  3.84it/s]c:\\Users\\zisak\\anaconda3\\Lib\\site-packages\\coreferee\\tendencies.py:319: UserWarning: [W008] Evaluating Lexeme.similarity based on empty vectors.\n",
      "  referred_head_lexeme.similarity(referring_head_lexeme)\n",
      " 78%|███████▊  | 8205/10552 [04:55<04:16,  9.16it/s]c:\\Users\\zisak\\anaconda3\\Lib\\site-packages\\coreferee\\tendencies.py:319: UserWarning: [W008] Evaluating Lexeme.similarity based on empty vectors.\n",
      "  referred_head_lexeme.similarity(referring_head_lexeme)\n",
      " 79%|███████▉  | 8381/10552 [05:07<02:49, 12.83it/s]c:\\Users\\zisak\\anaconda3\\Lib\\site-packages\\coreferee\\tendencies.py:319: UserWarning: [W008] Evaluating Lexeme.similarity based on empty vectors.\n",
      "  referred_head_lexeme.similarity(referring_head_lexeme)\n",
      " 80%|███████▉  | 8389/10552 [05:07<02:45, 13.05it/s]c:\\Users\\zisak\\anaconda3\\Lib\\site-packages\\coreferee\\tendencies.py:319: UserWarning: [W008] Evaluating Lexeme.similarity based on empty vectors.\n",
      "  referred_head_lexeme.similarity(referring_head_lexeme)\n",
      " 82%|████████▏ | 8633/10552 [05:20<01:49, 17.49it/s]c:\\Users\\zisak\\anaconda3\\Lib\\site-packages\\coreferee\\tendencies.py:319: UserWarning: [W008] Evaluating Lexeme.similarity based on empty vectors.\n",
      "  referred_head_lexeme.similarity(referring_head_lexeme)\n",
      " 85%|████████▌ | 8985/10552 [05:27<00:17, 91.19it/s]"
     ]
    },
    {
     "name": "stdout",
     "output_type": "stream",
     "text": [
      "Correct: 353, out of 551: 64.06533575317604%\n",
      "EM: 225, out of 551: 40.83484573502722%\n",
      "BLEU: 323.6112677413987, out of 551: 58.73162753927381%\n",
      "BLEU1: 339.25762964418726, out of 551: 61.57125764867282%\n",
      "BLEU2: 319.9741669648934, out of 551: 58.07153665424563%\n",
      "BLEU3: 308.4896570672571, out of 551: 55.987233587523974%\n",
      "BLEU4: 298.0155533927244, out of 551: 54.08630733080298%\n"
     ]
    },
    {
     "name": "stderr",
     "output_type": "stream",
     "text": [
      " 87%|████████▋ | 9150/10552 [05:29<00:21, 64.72it/s] c:\\Users\\zisak\\anaconda3\\Lib\\site-packages\\coreferee\\tendencies.py:319: UserWarning: [W008] Evaluating Lexeme.similarity based on empty vectors.\n",
      "  referred_head_lexeme.similarity(referring_head_lexeme)\n",
      " 89%|████████▉ | 9370/10552 [05:36<01:30, 13.13it/s] c:\\Users\\zisak\\anaconda3\\Lib\\site-packages\\coreferee\\tendencies.py:319: UserWarning: [W008] Evaluating Lexeme.similarity based on empty vectors.\n",
      "  referred_head_lexeme.similarity(referring_head_lexeme)\n",
      " 89%|████████▉ | 9374/10552 [05:36<01:30, 12.97it/s]c:\\Users\\zisak\\anaconda3\\Lib\\site-packages\\coreferee\\tendencies.py:319: UserWarning: [W008] Evaluating Lexeme.similarity based on empty vectors.\n",
      "  referred_head_lexeme.similarity(referring_head_lexeme)\n",
      " 92%|█████████▏| 9660/10552 [05:51<00:27, 32.93it/s]c:\\Users\\zisak\\anaconda3\\Lib\\site-packages\\coreferee\\tendencies.py:319: UserWarning: [W008] Evaluating Lexeme.similarity based on empty vectors.\n",
      "  referred_head_lexeme.similarity(referring_head_lexeme)\n",
      " 95%|█████████▍| 9996/10552 [06:18<00:45, 12.19it/s]"
     ]
    },
    {
     "name": "stdout",
     "output_type": "stream",
     "text": [
      "Correct: 409, out of 648: 63.117283950617285%\n",
      "EM: 256, out of 648: 39.50617283950617%\n",
      "BLEU: 375.9565897800352, out of 648: 58.017992250005435%\n",
      "BLEU1: 394.25360006648623, out of 648: 60.84160494853183%\n",
      "BLEU2: 370.7638863254532, out of 648: 57.216649124298335%\n",
      "BLEU3: 356.3985431510158, out of 648: 54.9997751776259%\n",
      "BLEU4: 343.81492213234515, out of 648: 53.05785835375697%\n"
     ]
    },
    {
     "name": "stderr",
     "output_type": "stream",
     "text": [
      "100%|██████████| 10552/10552 [06:33<00:00, 26.82it/s]"
     ]
    },
    {
     "name": "stdout",
     "output_type": "stream",
     "text": [
      "Correct: 433, out of 677: 63.95864106351551%\n",
      "EM: 273, out of 677: 40.32496307237814%\n",
      "BLEU: 396.7466477836856, out of 677: 58.60364073614263%\n",
      "BLEU1: 415.2567637898696, out of 677: 61.337778994072316%\n",
      "BLEU2: 391.5667417064835, out of 677: 57.83851428456182%\n",
      "BLEU3: 376.89789847480324, out of 677: 55.67177230056178%\n",
      "BLEU4: 364.0704275655422, out of 677: 53.777020319873294%\n",
      "Errors:  []\n",
      "Empties:  24 [1624, 1763, 1951, 4632, 4636, 5022, 5045, 5679, 6498, 6583, 6849, 6955, 7372, 7595, 7720, 8253, 8894, 8895, 8905, 8927, 8932, 9205, 9512, 10089]\n"
     ]
    },
    {
     "name": "stderr",
     "output_type": "stream",
     "text": [
      "\n"
     ]
    }
   ],
   "source": [
    "\n",
    "def QuestionStartsWith_Accuracy(dataset, startsWith, RagQA):\n",
    "\n",
    "    correct = 0\n",
    "    EM = 0\n",
    "    BLEU = 0\n",
    "    BLEU1 = 0\n",
    "    BLEU2 = 0\n",
    "    BLEU3 = 0\n",
    "    BLEU4 = 0\n",
    "    total = 0\n",
    "    errors = []\n",
    "    corrects = []\n",
    "    empties = []\n",
    "    kolo = 0\n",
    "    for item in tqdm(dataset):\n",
    "        random_number = random.randint(0, len(dataset))\n",
    "        kolo += 1\n",
    "        included_question = False\n",
    "        try:\n",
    "            context = item['context']\n",
    "            context = re.sub(' +', ' ', context)\n",
    "            \n",
    "            question = item['question']\n",
    "            tempQuestion = question.lower()\n",
    "            question = re.sub(' +', ' ', question)\n",
    "            \n",
    "            answer = item['answers']['text'][0]\n",
    "            title = item['title']\n",
    "    \n",
    "            # check if question starts with startsWith\n",
    "            for start in startsWith:\n",
    "                if tempQuestion.startswith(start):\n",
    "                    included_question = True\n",
    "                    break\n",
    "            \n",
    "            if included_question:\n",
    "    \n",
    "                total += 1\n",
    "                if total == 74:\n",
    "                    pass\n",
    "                outputAnswer = RagQA.answer_question(question, context)\n",
    "                if outputAnswer == \"\":\n",
    "                    empties.append(kolo)\n",
    "                    outputAnswer = \"No_Answer_Found\"\n",
    "                \n",
    "                # print(\"Question: \" , question)\n",
    "                # print(\"Answer: \", answer, \"-------\" , \"Our Answer: \", outputAnswer)\n",
    "                if outputAnswer in answer or answer in outputAnswer:\n",
    "                    correct += 1\n",
    "                    corrects.append(kolo)\n",
    "                else:\n",
    "                    # write to when_wrong_answers.txt\n",
    "                    with open(\"results/where_wrong_answers.txt\", \"a\") as file:\n",
    "                        file.write(f\"Question: {question}\\n\")\n",
    "                        file.write(f\"Answer: {answer}\\n\")\n",
    "                        file.write(f\"Our Answer: {outputAnswer}\\n\\n\")\n",
    "                        \n",
    "                        \n",
    "                if outputAnswer == answer:\n",
    "                    EM += 1\n",
    "\n",
    "                n = min(len(outputAnswer.split()), 4)\n",
    "                if n == 0:\n",
    "                    BLEUscore = 0\n",
    "                else:\n",
    "                    weights = [1.0/n]*n\n",
    "                    smoothie = SmoothingFunction().method4\n",
    "                    BLEUscore = nltk.translate.bleu_score.sentence_bleu([answer], outputAnswer, weights=weights, smoothing_function=smoothie)\n",
    "                    \n",
    "                    BLEU += BLEUscore\n",
    "                    BLEU1 += nltk.translate.bleu_score.sentence_bleu([answer], outputAnswer, weights=(1, 0, 0, 0), smoothing_function=smoothie)\n",
    "                    BLEU2 += nltk.translate.bleu_score.sentence_bleu([answer], outputAnswer, weights=(0.5, 0.5, 0, 0), smoothing_function=smoothie)\n",
    "                    BLEU3 += nltk.translate.bleu_score.sentence_bleu([answer], outputAnswer, weights=(0.33, 0.33, 0.33, 0), smoothing_function=smoothie)\n",
    "                    BLEU4 += nltk.translate.bleu_score.sentence_bleu([answer], outputAnswer, weights=(0.25, 0.25, 0.25, 0.25), smoothing_function=smoothie)\n",
    "                    \n",
    "\n",
    "            if kolo % 1000 == 0:\n",
    "                print(f\"Correct: {correct}, out of {total}: {100*correct/total}%\")\n",
    "                print(f\"EM: {EM}, out of {total}: {100*EM/total}%\")\n",
    "                print(f\"BLEU: {BLEU}, out of {total}: {100*BLEU/total}%\")\n",
    "                print(f\"BLEU1: {BLEU1}, out of {total}: {100*BLEU1/total}%\")\n",
    "                print(f\"BLEU2: {BLEU2}, out of {total}: {100*BLEU2/total}%\")\n",
    "                print(f\"BLEU3: {BLEU3}, out of {total}: {100*BLEU3/total}%\")\n",
    "                print(f\"BLEU4: {BLEU4}, out of {total}: {100*BLEU4/total}%\")\n",
    "        \n",
    "        except Exception as e:\n",
    "            print(\"title: \", title)\n",
    "            print(\"Error in question number: \", total)\n",
    "            print(\"Question: \", question)\n",
    "            print(\"Answer: \", answer)\n",
    "            print(\"Error: \", e)\n",
    "            errors.append(total)\n",
    "            # total -= 1\n",
    "            print(\"\\n\\n\")\n",
    "    \n",
    "    if total != 0:\n",
    "        print(f\"Correct: {correct}, out of {total}: {100*correct/total}%\")\n",
    "        print(f\"EM: {EM}, out of {total}: {100*EM/total}%\")\n",
    "        print(f\"BLEU: {BLEU}, out of {total}: {100*BLEU/total}%\")\n",
    "        print(f\"BLEU1: {BLEU1}, out of {total}: {100*BLEU1/total}%\")\n",
    "        print(f\"BLEU2: {BLEU2}, out of {total}: {100*BLEU2/total}%\")\n",
    "        print(f\"BLEU3: {BLEU3}, out of {total}: {100*BLEU3/total}%\")\n",
    "        print(f\"BLEU4: {BLEU4}, out of {total}: {100*BLEU4/total}%\")\n",
    "    else:\n",
    "        print(\"No Questions found with the given starting word\")\n",
    "    print(\"Errors: \", errors)\n",
    "    print(\"Empties: \", len(empties), empties)\n",
    "    return correct, total, errors, corrects\n",
    "\n",
    "\n",
    "if __name__ == \"__main__\":\n",
    "\n",
    "    startsWith = [\"when \"]\n",
    "    RagQA = RagNRollQA.RagNRollQA()\n",
    "    x = QuestionStartsWith_Accuracy(validation, startsWith, RagQA)"
   ]
  },
  {
   "cell_type": "code",
   "execution_count": 6,
   "metadata": {},
   "outputs": [],
   "source": [
    "# [174, 315, 326, 349, 472, 488, 493, 498, 530, 667]\n",
    "# when: 48%"
   ]
  }
 ],
 "metadata": {
  "kernelspec": {
   "display_name": "base",
   "language": "python",
   "name": "python3"
  },
  "language_info": {
   "codemirror_mode": {
    "name": "ipython",
    "version": 3
   },
   "file_extension": ".py",
   "mimetype": "text/x-python",
   "name": "python",
   "nbconvert_exporter": "python",
   "pygments_lexer": "ipython3",
   "version": "3.11.5"
  }
 },
 "nbformat": 4,
 "nbformat_minor": 2
}
