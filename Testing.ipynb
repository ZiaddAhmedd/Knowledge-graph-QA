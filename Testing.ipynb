{
 "cells": [
  {
   "cell_type": "code",
   "execution_count": 1,
   "metadata": {},
   "outputs": [
    {
     "name": "stdout",
     "output_type": "stream",
     "text": [
      "WARNING:tensorflow:From c:\\Users\\zisak\\anaconda3\\Lib\\site-packages\\keras\\src\\losses.py:2976: The name tf.losses.sparse_softmax_cross_entropy is deprecated. Please use tf.compat.v1.losses.sparse_softmax_cross_entropy instead.\n",
      "\n"
     ]
    },
    {
     "name": "stderr",
     "output_type": "stream",
     "text": [
      "c:\\Users\\zisak\\anaconda3\\Lib\\site-packages\\transformers\\utils\\generic.py:441: UserWarning: torch.utils._pytree._register_pytree_node is deprecated. Please use torch.utils._pytree.register_pytree_node instead.\n",
      "  _torch_pytree._register_pytree_node(\n",
      "c:\\Users\\zisak\\anaconda3\\Lib\\site-packages\\transformers\\utils\\generic.py:309: UserWarning: torch.utils._pytree._register_pytree_node is deprecated. Please use torch.utils._pytree.register_pytree_node instead.\n",
      "  _torch_pytree._register_pytree_node(\n",
      "c:\\Users\\zisak\\anaconda3\\Lib\\site-packages\\huggingface_hub\\file_download.py:1132: FutureWarning: `resume_download` is deprecated and will be removed in version 1.0.0. Downloads always resume when possible. If you want to force a new download, use `force_download=True`.\n",
      "  warnings.warn(\n",
      "c:\\Users\\zisak\\anaconda3\\Lib\\site-packages\\transformers\\utils\\generic.py:309: UserWarning: torch.utils._pytree._register_pytree_node is deprecated. Please use torch.utils._pytree.register_pytree_node instead.\n",
      "  _torch_pytree._register_pytree_node(\n",
      "c:\\Users\\zisak\\anaconda3\\Lib\\site-packages\\huggingface_hub\\file_download.py:1132: FutureWarning: `resume_download` is deprecated and will be removed in version 1.0.0. Downloads always resume when possible. If you want to force a new download, use `force_download=True`.\n",
      "  warnings.warn(\n"
     ]
    }
   ],
   "source": [
    "import warnings\n",
    "import regex as re\n",
    "from pathlib import Path\n",
    "import spacy\n",
    "from spacy import displacy\n",
    "import pandas as pd\n",
    "import numpy as np\n",
    "import coreferee\n",
    "from sentence_transformers import SentenceTransformer, util\n",
    "from nltk.translate.bleu_score import SmoothingFunction\n",
    "\n",
    "\n",
    "def resolve_coreference(text):\n",
    "    doc = nlp(text)\n",
    "    doc_list = list(doc)\n",
    "    # doc._.coref_chains.print()\n",
    "    resolving_indecies = []\n",
    "    for _,item in enumerate(doc._.coref_chains):\n",
    "        resolving_indecies.extend(item)\n",
    "        \n",
    "    for word in resolving_indecies:\n",
    "        new_word = \"\"\n",
    "        for index in word:\n",
    "            if doc[index]._.coref_chains.resolve(doc[index]) is not None:\n",
    "                temp = []\n",
    "                for item in doc._.coref_chains.resolve(doc[index]):\n",
    "                    temp.append(str(item))\n",
    "                new_word = \", \".join(temp)\n",
    "            \n",
    "                doc_list[index] = new_word\n",
    "\n",
    "    final_doc = []\n",
    "    for item in doc_list:\n",
    "        final_doc.append(str(item))\n",
    "    return \" \".join(final_doc)\n",
    "\n",
    "\n",
    "def extract_subjects(sentence):\n",
    "    subjects = []\n",
    "    for token in sentence:\n",
    "        if token.dep_ in (\"nsubj\",\"csubj\", \"nsubjpass\",\"relcl\"):\n",
    "            if token.dep_ == \"relcl\":\n",
    "                # The head of the token with the \"relcl\" dependency is the noun that the relative clause is modifying\n",
    "                subject = str(token.head)\n",
    "                verb = token\n",
    "                subjects.append((subject, verb))\n",
    "            elif token.dep_ == \"nsubjpass\":\n",
    "                verb = token.head\n",
    "                for child in verb.children:\n",
    "                    if child.dep_ == \"agent\":\n",
    "                        subject = [str(t) for t in list(child.children)[0].subtree]\n",
    "                        subject = \" \".join(subject)\n",
    "                        break\n",
    "                    else:\n",
    "                        subject = \"Unknown\"\n",
    "                subjects.append((subject, verb))\n",
    "            else:                       \n",
    "                subtree_tokens = [str(t) for t in token.subtree]\n",
    "                verb = token.head\n",
    "                subjects.append((\" \".join(subtree_tokens), verb))\n",
    "    return subjects\n",
    "\n",
    "def extract_objects(sentence):\n",
    "    objects = []\n",
    "    for token in sentence:\n",
    "        if token.dep_ in (\"dobj\", \"dative\", \"attr\", \"oprd\", \"acomp\",\"ccomp\", \"xcomp\", \"nsubjpass\"):\n",
    "            subtree_tokens = [str(t) for t in token.subtree]\n",
    "            verb = token.head\n",
    "            objects.append((\" \".join(subtree_tokens), verb))\n",
    "    return objects\n",
    "\n",
    "def extract_state(sentence):\n",
    "    states = []\n",
    "    for token in sentence:\n",
    "        if token.pos_ ==\"VERB\" or token.pos_ == \"AUX\":\n",
    "            for child in token.children:\n",
    "                if child.dep_ == \"prep\":\n",
    "                    subtree_tokens = [str(t) for t in child.subtree if t != child]\n",
    "                    states.append(((\" \".join(subtree_tokens), token)))\n",
    "    return states\n",
    "\n",
    "def extract_time(sentence):\n",
    "    times = {}\n",
    "    for token in sentence:\n",
    "        if token.pos_ == \"VERB\" or token.pos_ == \"AUX\":\n",
    "            for child in token.subtree:\n",
    "                if child.ent_type_ == \"DATE\" or child.ent_type_ == \"TIME\":\n",
    "                    times[child.text] = token\n",
    "    return list(times.items())\n",
    "\n",
    "def extract_location(sentence):\n",
    "    locations = {}\n",
    "    for token in sentence:\n",
    "        if token.pos_ == \"VERB\" or token.pos_ == \"AUX\":\n",
    "            for child in token.subtree:\n",
    "                if child.ent_type_ in (\"GPE\", \"LOC\", \"FAC\"):\n",
    "                    locations[child.text] = token\n",
    "    return list(locations.items())\n",
    "                    \n",
    "    \n",
    "\n",
    "def extract_facts(sentence):\n",
    "    sentence = nlp(sentence)\n",
    "    states = extract_state(sentence)\n",
    "    subjects = extract_subjects(sentence)\n",
    "    objects = extract_objects(sentence)\n",
    "    times = extract_time(sentence)\n",
    "    locations = extract_location(sentence)\n",
    "    # print(subjects, objects)\n",
    "    \n",
    "    facts = pd.DataFrame(columns=[\"Subject\", \"Relation\", \"Objects\", \"States\", \"Times\", \"Locations\"])\n",
    "    \n",
    "    for subject in subjects:\n",
    "        verb = subject[1].lemma_\n",
    "        currentSubject = subject[0]\n",
    "        if verb in facts[\"Relation\"].values:\n",
    "            facts.loc[facts[\"Relation\"] == verb, \"Subject\"] = currentSubject\n",
    "        else:\n",
    "            new_row = pd.DataFrame([{\"Subject\": currentSubject, \"Relation\": verb, \"Objects\": [], \"States\": [], \"Times\": [], \"Locations\": []}])\n",
    "            facts = pd.concat([facts, new_row], ignore_index=True)\n",
    "    for obj in objects:\n",
    "        verb = obj[1].lemma_\n",
    "        currentObj = obj[0]\n",
    "        if verb in facts[\"Relation\"].values:\n",
    "            oldObjects = list(facts.loc[facts[\"Relation\"] == verb, \"Objects\"].values[0])\n",
    "            oldObjects.append(currentObj)\n",
    "            facts.loc[facts[\"Relation\"] == verb, \"Objects\"] = [oldObjects] \n",
    "            \n",
    "\n",
    "    for state in states:\n",
    "        verb = state[1].lemma_\n",
    "        currentState = state[0]\n",
    "        if verb in facts[\"Relation\"].values:\n",
    "            oldStates = list(facts.loc[facts[\"Relation\"] == verb, \"States\"].values[0])\n",
    "            oldStates.append(currentState)\n",
    "            facts.loc[facts[\"Relation\"] == verb, \"States\"] = [oldStates]\n",
    "            \n",
    "    for time in times:\n",
    "        verb = time[1].lemma_\n",
    "        currentTime = time[0]\n",
    "        if verb in facts[\"Relation\"].values:\n",
    "            oldTimes = list(facts.loc[facts[\"Relation\"] == verb, \"Times\"].values[0])\n",
    "            oldTimes.append(currentTime)\n",
    "            facts.loc[facts[\"Relation\"] == verb, \"Times\"] = [oldTimes]\n",
    "            \n",
    "    for location in locations:\n",
    "        verb = location[1].lemma_\n",
    "        currentLocation = location[0]\n",
    "        if verb in facts[\"Relation\"].values:\n",
    "            oldLocations = list(facts.loc[facts[\"Relation\"] == verb, \"Locations\"].values[0])\n",
    "            oldLocations.append(currentLocation)\n",
    "            facts.loc[facts[\"Relation\"] == verb, \"Locations\"] = [oldLocations]\n",
    "            \n",
    "    return facts\n",
    "        \n",
    "def preprocess_context(doc):\n",
    "    text = doc.strip()\n",
    "    text.replace(\".\", \",\")\n",
    "    resolved_text = resolve_coreference(text)\n",
    "    resolved_text = resolved_text.strip()\n",
    "    resolved_text = resolved_text.replace(\"  \", \" \").replace(\" ,\", \",\").replace(\" .\", \".\").replace(\"\\n\", \"\")\n",
    "    return resolved_text\n",
    "\n",
    "def join_sentences_facts(sentences):\n",
    "    all_facts = pd.DataFrame(columns=[\"Subject\", \"Relation\", \"Objects\", \"States\", \"Times\", \"Locations\"])\n",
    "    for sentence in sentences:\n",
    "        facts = extract_facts(sentence)\n",
    "        all_facts = pd.concat([all_facts, facts])\n",
    "    all_facts = all_facts.groupby([\"Subject\", \"Relation\"], as_index=False).agg({\n",
    "        \"Objects\": lambda x: [item for sublist in x for item in sublist],\n",
    "        \"States\": lambda x: [item for sublist in x for item in sublist],\n",
    "        \"Times\": lambda x: [item for sublist in x for item in sublist],\n",
    "        \"Locations\": lambda x: [item for sublist in x for item in sublist]\n",
    "    })\n",
    "    return all_facts\n",
    "\n",
    "def change_subject_relation(factsDF):\n",
    "    for index, row in factsDF.iterrows():\n",
    "        factsDF.loc[index, \"Subject\"] = [row['Subject']]\n",
    "        factsDF.loc[index, \"Relation\"] = [row['Relation']]\n",
    "    return factsDF\n",
    "\n",
    "def similarity(factRow, questionRow, column):\n",
    "    if len(factRow[column]) == 0 or len(questionRow[column]) == 0:\n",
    "        return 0\n",
    "    columnString = \" \".join(factRow[column])\n",
    "    questionString = \" \".join(questionRow[column])\n",
    "    embeddingFact = model.encode(columnString)\n",
    "    embeddingQuestion = model.encode(questionString)\n",
    "    return util.cos_sim(embeddingFact, embeddingQuestion)\n",
    "\n",
    "        \n",
    "def cost_function(factsDf, questionFact, excludeColumns=[]):\n",
    "    score = 0\n",
    "    maxFactIdx = 0\n",
    "    columnNames = [\"Subject\",\"Relation\", \"Objects\", \"States\", \"Times\", \"Locations\"]\n",
    "    for column in excludeColumns:\n",
    "        columnNames.remove(column)\n",
    "    for factIdx, factRow in factsDf.iterrows():\n",
    "        currScore = 0\n",
    "        for _, questionRow in questionFact.iterrows():\n",
    "            if len(factRow[excludeColumns[0]]) == 0:\n",
    "                continue\n",
    "            for column in columnNames:\n",
    "                currScore += similarity(factRow, questionRow, column)\n",
    "        if currScore > score:\n",
    "            score = currScore\n",
    "            maxFactIdx = factIdx\n",
    "    return maxFactIdx, score\n",
    "\n",
    "def process_question_context(question, doc):\n",
    "    splitted_question = question.split(\" \")\n",
    "    question_type = splitted_question[0].lower()\n",
    "    question_nlp = nlp(question)\n",
    "    if question_nlp[0].ent_type_ == \"DATE\":\n",
    "        question_type = \"when\"\n",
    "    resolved_doc = preprocess_context(doc)\n",
    "    cleaned_doc = nlp(resolved_doc)\n",
    "    sentences = [one_sentence.text.strip() for one_sentence in cleaned_doc.sents]\n",
    "    \n",
    "    questionDF = extract_facts(question)\n",
    "    factsDF = join_sentences_facts(sentences)\n",
    "    \n",
    "    newFactsDF = change_subject_relation(factsDF)\n",
    "    newQuestionDF = change_subject_relation(questionDF)\n",
    "    \n",
    "    return newFactsDF, newQuestionDF, question_type\n",
    "\n",
    "def get_answer(factsDF, questionDF, question_type):\n",
    "    correctIdx, _ = cost_function(factsDF, questionDF, excludeColumns=[excludesPerQuestionType[question_type]])\n",
    "    answer = factsDF.loc[correctIdx, excludesPerQuestionType[question_type]]\n",
    "    if answer == []:\n",
    "        answer = factsDF.loc[correctIdx, \"States\"]    \n",
    "    return \" \".join(answer)\n",
    "    \n",
    "\n",
    "# if __name__ == \"__main__\":\n",
    "nlp = spacy.load('en_core_web_md')\n",
    "nlp.add_pipe(\"merge_entities\")\n",
    "nlp.add_pipe(\"merge_noun_chunks\")\n",
    "nlp.add_pipe('coreferee')\n",
    "model = SentenceTransformer(\"all-MiniLM-L6-v2\")\n",
    "\n",
    "excludesPerQuestionType = {\n",
    "    \"when\": \"Times\",\n",
    "    \"where\": \"Locations\",\n",
    "    \"who\": \"Subject\",\n",
    "    \"what\": \"Objects\",\n",
    "    \"how\": \"States\"\n",
    "}   \n",
    "    \n",
    "# doc = \"\"\"\n",
    "# Lionel Andrés \"Leo\" Messi was born in 24 June 1987 is an Argentine professional footballer plays as a forward for and captains both Major League Soccer club Inter Miami and the Argentina national team.\n",
    "# He played in Barcelona in 2010.\n",
    "# Widely regarded as one of the greatest players of all time, Messi has won a record eight Ballon d'Or awards, a record six European Golden Shoes, and was named the world's best player for a record eight times by FIFA.\n",
    "# Until 2021, he had spent his entire professional career with Barcelona, where he won a club-record 34 trophies, including ten La Liga titles, seven Copa del Rey titles, and the UEFA Champions League four times.\n",
    "# With his country, he won the 2021 Copa América and the 2022 FIFA World Cup. A prolific goalscorer and creative playmaker, Messi holds the records for most goals, hat-tricks, and assists in La Liga. He has the most international goals by a South American male. Messi has scored over 800 senior career goals for club and country, and the most goals for a single club.\n",
    "# \"\"\"\n",
    "# question = \"how did messi play?\"\n",
    "# factsDF, questionDF, question_type = process_question_context(question, doc)\n",
    "# answer = get_answer(factsDF, questionDF, question_type)\n",
    "\n",
    "# print(\"========================================================\")\n",
    "# print(\"Question: \", question)\n",
    "# print(\"Answer: \", answer)\n"
   ]
  },
  {
   "cell_type": "code",
   "execution_count": 2,
   "metadata": {},
   "outputs": [],
   "source": [
    "import random\n",
    "from datasets import load_dataset\n",
    "\n",
    "dataset = load_dataset(\"rajpurkar/squad\")\n",
    "# train = dataset['train']\n",
    "validation = dataset['validation']\n",
    "\n",
    "random.seed(42)\n",
    "import getopt\n",
    "import sys\n",
    "\n",
    "import pandas as pd\n",
    "import json \n",
    "import regex as re\n",
    "from tqdm import tqdm\n",
    "import nltk"
   ]
  },
  {
   "cell_type": "code",
   "execution_count": 3,
   "metadata": {},
   "outputs": [
    {
     "name": "stderr",
     "output_type": "stream",
     "text": [
      "  0%|          | 5/10570 [00:00<21:29,  8.19it/s]"
     ]
    },
    {
     "name": "stdout",
     "output_type": "stream",
     "text": [
      "Question:  What color was used to emphasize the 50th anniversary of the Super Bowl?\n",
      "Answer:  gold ------- Our Answer:  The game\n"
     ]
    },
    {
     "name": "stderr",
     "output_type": "stream",
     "text": [
      "  0%|          | 6/10570 [00:01<37:39,  4.68it/s]"
     ]
    },
    {
     "name": "stdout",
     "output_type": "stream",
     "text": [
      "Question:  What was the theme of Super Bowl 50?\n",
      "Answer:  \"golden anniversary\" ------- Our Answer:  an American football game to determine the champion of the National Football League ( NFL ) for the 2015 season\n"
     ]
    },
    {
     "name": "stderr",
     "output_type": "stream",
     "text": [
      "  0%|          | 8/10570 [00:02<56:49,  3.10it/s]"
     ]
    },
    {
     "name": "stdout",
     "output_type": "stream",
     "text": [
      "Question:  What is the AFC short for?\n",
      "Answer:  American Football Conference ------- Our Answer:  an American football game to determine the champion of the National Football League ( NFL ) for the 2015 season\n"
     ]
    },
    {
     "name": "stderr",
     "output_type": "stream",
     "text": [
      "  0%|          | 9/10570 [00:02<1:08:00,  2.59it/s]"
     ]
    },
    {
     "name": "stdout",
     "output_type": "stream",
     "text": [
      "Question:  What was the theme of Super Bowl 50?\n",
      "Answer:  \"golden anniversary\" ------- Our Answer:  an American football game to determine the champion of the National Football League ( NFL ) for the 2015 season\n"
     ]
    },
    {
     "name": "stderr",
     "output_type": "stream",
     "text": [
      "  0%|          | 10/10570 [00:03<1:20:32,  2.19it/s]"
     ]
    },
    {
     "name": "stdout",
     "output_type": "stream",
     "text": [
      "Question:  What does AFC stand for?\n",
      "Answer:  American Football Conference ------- Our Answer:  the National Football Conference (NFC) champion Carolina Panthers 24–10\n"
     ]
    },
    {
     "name": "stderr",
     "output_type": "stream",
     "text": [
      "  0%|          | 13/10570 [00:04<1:19:24,  2.22it/s]"
     ]
    },
    {
     "name": "stdout",
     "output_type": "stream",
     "text": [
      "Question:  What venue did Super Bowl 50 take place in?\n",
      "Answer:  Levi's Stadium ------- Our Answer:  an American football game to determine the champion of the National Football League ( NFL ) for the 2015 season\n"
     ]
    },
    {
     "name": "stderr",
     "output_type": "stream",
     "text": [
      "  0%|          | 14/10570 [00:05<1:41:10,  1.74it/s]"
     ]
    },
    {
     "name": "stdout",
     "output_type": "stream",
     "text": [
      "Question:  What city did Super Bowl 50 take place in?\n",
      "Answer:  Santa Clara ------- Our Answer:  an American football game to determine the champion of the National Football League ( NFL ) for the 2015 season\n"
     ]
    },
    {
     "name": "stderr",
     "output_type": "stream",
     "text": [
      "  0%|          | 18/10570 [00:06<1:22:02,  2.14it/s]"
     ]
    },
    {
     "name": "stdout",
     "output_type": "stream",
     "text": [
      "Question:  What city did Super Bowl 50 take place in?\n",
      "Answer:  Santa Clara ------- Our Answer:  an American football game to determine the champion of the National Football League ( NFL ) for the 2015 season\n"
     ]
    },
    {
     "name": "stderr",
     "output_type": "stream",
     "text": [
      "  0%|          | 19/10570 [00:07<1:40:30,  1.75it/s]"
     ]
    },
    {
     "name": "stdout",
     "output_type": "stream",
     "text": [
      "Question:  What stadium did Super Bowl 50 take place in?\n",
      "Answer:  Levi's Stadium ------- Our Answer:  an American football game to determine the champion of the National Football League ( NFL ) for the 2015 season\n"
     ]
    },
    {
     "name": "stderr",
     "output_type": "stream",
     "text": [
      "  0%|          | 20/10570 [00:08<1:45:54,  1.66it/s]"
     ]
    },
    {
     "name": "stdout",
     "output_type": "stream",
     "text": [
      "Question:  What was the final score of Super Bowl 50? \n",
      "Answer:  24–10 ------- Our Answer:  an American football game to determine the champion of the National Football League ( NFL ) for the 2015 season\n"
     ]
    },
    {
     "name": "stderr",
     "output_type": "stream",
     "text": [
      "  0%|          | 22/10570 [00:09<1:18:37,  2.24it/s]"
     ]
    },
    {
     "name": "stdout",
     "output_type": "stream",
     "text": [
      "Question:  What year was Super Bowl 50?\n",
      "Answer:  2015 ------- Our Answer:  which \" Super Bowl L \"\n"
     ]
    },
    {
     "name": "stderr",
     "output_type": "stream",
     "text": [
      "  0%|          | 23/10570 [00:09<1:24:06,  2.09it/s]"
     ]
    },
    {
     "name": "stdout",
     "output_type": "stream",
     "text": [
      "Question:  What team was the AFC champion?\n",
      "Answer:  Denver Broncos ------- Our Answer:  an American football game to determine the champion of the National Football League ( NFL ) for the 2015 season\n"
     ]
    },
    {
     "name": "stderr",
     "output_type": "stream",
     "text": [
      "  0%|          | 30/10570 [00:10<29:48,  5.89it/s]  "
     ]
    },
    {
     "name": "stdout",
     "output_type": "stream",
     "text": [
      "Question:  What team was the NFC champion?\n",
      "Answer:  Carolina Panthers ------- Our Answer:  an American football game to determine the champion of the National Football League ( NFL ) for the 2015 season\n",
      "Question:  What 2015 NFL team one the AFC playoff?\n",
      "Answer:  Denver Broncos ------- Our Answer:  the game\n"
     ]
    },
    {
     "name": "stderr",
     "output_type": "stream",
     "text": [
      "  0%|          | 35/10570 [00:11<29:36,  5.93it/s]"
     ]
    },
    {
     "name": "stdout",
     "output_type": "stream",
     "text": [
      "Question:  What team did the Panthers defeat?\n",
      "Answer:  Arizona Cardinals ------- Our Answer:  eight appearances in the Super Bowl\n"
     ]
    },
    {
     "name": "stderr",
     "output_type": "stream",
     "text": [
      "  0%|          | 41/10570 [00:11<23:49,  7.36it/s]"
     ]
    },
    {
     "name": "stdout",
     "output_type": "stream",
     "text": [
      "Question:  What was the win/loss ratio in 2015 for the Carolina Panthers during their regular season?\n",
      "Answer:  15–1 ------- Our Answer:  the franchise\n"
     ]
    },
    {
     "name": "stderr",
     "output_type": "stream",
     "text": [
      "  0%|          | 43/10570 [00:12<30:11,  5.81it/s]"
     ]
    },
    {
     "name": "stdout",
     "output_type": "stream",
     "text": [
      "Question:  What were the win/loss game stats for the Denver Bronco's regular season in 2015?\n",
      "Answer:  12–4 ------- Our Answer:  the franchise\n"
     ]
    },
    {
     "name": "stderr",
     "output_type": "stream",
     "text": [
      "  1%|          | 67/10570 [00:13<10:35, 16.52it/s]"
     ]
    },
    {
     "name": "stdout",
     "output_type": "stream",
     "text": [
      "Question:  What position does Von Miller play for the Denver Broncos?\n",
      "Answer:  linebacker ------- Our Answer:  which\n"
     ]
    },
    {
     "name": "stderr",
     "output_type": "stream",
     "text": [
      "  1%|          | 69/10570 [00:13<14:45, 11.85it/s]"
     ]
    },
    {
     "name": "stdout",
     "output_type": "stream",
     "text": [
      "Question:  What was the number of solo tackles that Von Miller had in Super Bowl 50?\n",
      "Answer:  5 ------- Our Answer:  which\n"
     ]
    },
    {
     "name": "stderr",
     "output_type": "stream",
     "text": [
      "  1%|          | 76/10570 [00:14<12:41, 13.78it/s]"
     ]
    },
    {
     "name": "stdout",
     "output_type": "stream",
     "text": [
      "Question:  What position does Von Miller play?\n",
      "Answer:  linebacker ------- Our Answer:  Newton\n"
     ]
    },
    {
     "name": "stderr",
     "output_type": "stream",
     "text": [
      "  1%|          | 79/10570 [00:14<13:51, 12.62it/s]"
     ]
    },
    {
     "name": "stdout",
     "output_type": "stream",
     "text": [
      "Question:  What Denver player caused two fumbles for the Panthers?\n",
      "Answer:  Von Miller ------- Our Answer:  Newton\n"
     ]
    },
    {
     "name": "stderr",
     "output_type": "stream",
     "text": [
      "  1%|          | 82/10570 [00:14<13:57, 12.52it/s]"
     ]
    },
    {
     "name": "stdout",
     "output_type": "stream",
     "text": [
      "Question:  What was the average cost for a 30 second commercial during Super Bowl 50?\n",
      "Answer:  $5 million ------- Our Answer:  the third - most watched U.S. broadcast ever\n"
     ]
    },
    {
     "name": "stderr",
     "output_type": "stream",
     "text": [
      "  1%|          | 87/10570 [00:14<12:15, 14.26it/s]"
     ]
    },
    {
     "name": "stdout",
     "output_type": "stream",
     "text": [
      "Question:  What was the average cost of a 30-second commercial?\n",
      "Answer:  $5 million ------- Our Answer:  the third - most watched U.S. broadcast ever\n",
      "Question:  What halftime performer previously headlined Super Bowl XLVII?\n",
      "Answer:  Beyoncé ------- Our Answer:  The Super Bowl 50 halftime show the Super Bowl XLVII and Super Bowl XLVIII halftime shows\n"
     ]
    },
    {
     "name": "stderr",
     "output_type": "stream",
     "text": [
      "  1%|          | 89/10570 [00:15<17:43,  9.86it/s]"
     ]
    },
    {
     "name": "stdout",
     "output_type": "stream",
     "text": [
      "Question:  What halftime performer previously headlined Super Bowl XLVIII?\n",
      "Answer:  Bruno Mars ------- Our Answer:  The Super Bowl 50 halftime show the Super Bowl XLVII and Super Bowl XLVIII halftime shows\n"
     ]
    },
    {
     "name": "stderr",
     "output_type": "stream",
     "text": [
      "  1%|          | 92/10570 [00:15<17:04, 10.23it/s]"
     ]
    },
    {
     "name": "stdout",
     "output_type": "stream",
     "text": [
      "Question:  What was the average cost for a TV ad lasting 30 seconds during Super Bowl 50?\n",
      "Answer:  $5 million ------- Our Answer:  the third - most watched U.S. broadcast ever\n"
     ]
    },
    {
     "name": "stderr",
     "output_type": "stream",
     "text": [
      "  1%|          | 94/10570 [00:16<19:08,  9.12it/s]"
     ]
    },
    {
     "name": "stdout",
     "output_type": "stream",
     "text": [
      "Question:  What ranking does the Super Bowl 50 halftime show have on the list of most watched TV broadcasts?\n",
      "Answer:  third ------- Our Answer:  Super Bowl 50\n"
     ]
    },
    {
     "name": "stderr",
     "output_type": "stream",
     "text": [
      "  1%|          | 96/10570 [00:16<20:35,  8.48it/s]"
     ]
    },
    {
     "name": "stdout",
     "output_type": "stream",
     "text": [
      "Question:  What station aired the Super Bowl?\n",
      "Answer:  CBS ------- Our Answer:  Super Bowl 50\n"
     ]
    },
    {
     "name": "stderr",
     "output_type": "stream",
     "text": [
      "  1%|          | 97/10570 [00:16<25:07,  6.95it/s]"
     ]
    },
    {
     "name": "stdout",
     "output_type": "stream",
     "text": [
      "Question:  What band headlined half-time during Super Bowl 50?\n",
      "Answer:  Coldplay ------- Our Answer:  The Super Bowl 50 halftime show the Super Bowl XLVII and Super Bowl XLVIII halftime shows\n"
     ]
    },
    {
     "name": "stderr",
     "output_type": "stream",
     "text": [
      "  1%|          | 98/10570 [00:16<29:00,  6.02it/s]"
     ]
    },
    {
     "name": "stdout",
     "output_type": "stream",
     "text": [
      "Question:  What two artists came out with Coldplay during the half-time show?\n",
      "Answer:  Beyoncé and Bruno Mars ------- Our Answer:  The Super Bowl 50 halftime show the Super Bowl XLVII and Super Bowl XLVIII halftime shows\n"
     ]
    },
    {
     "name": "stderr",
     "output_type": "stream",
     "text": [
      "  1%|          | 103/10570 [00:17<18:10,  9.60it/s]"
     ]
    },
    {
     "name": "stdout",
     "output_type": "stream",
     "text": [
      "Question:  What was the cost for a half minute ad?\n",
      "Answer:  $5 million ------- Our Answer:  the third - most watched U.S. broadcast ever\n"
     ]
    },
    {
     "name": "stderr",
     "output_type": "stream",
     "text": [
      "  1%|          | 105/10570 [00:17<19:54,  8.76it/s]"
     ]
    },
    {
     "name": "stdout",
     "output_type": "stream",
     "text": [
      "Question:  What other two famous performers were part of the Super Bowl 50 halftime?\n",
      "Answer:  Beyoncé and Bruno Mars ------- Our Answer:  the third - most watched U.S. broadcast ever\n"
     ]
    },
    {
     "name": "stderr",
     "output_type": "stream",
     "text": [
      "  1%|          | 106/10570 [00:17<23:47,  7.33it/s]"
     ]
    },
    {
     "name": "stdout",
     "output_type": "stream",
     "text": [
      "Question:  What performer lead the Super Bowl XLVIII halftime show?\n",
      "Answer:  Bruno Mars ------- Our Answer:  The Super Bowl 50 halftime show the Super Bowl XLVII and Super Bowl XLVIII halftime shows\n"
     ]
    },
    {
     "name": "stderr",
     "output_type": "stream",
     "text": [
      "  1%|          | 122/10570 [00:18<12:18, 14.14it/s]"
     ]
    },
    {
     "name": "stdout",
     "output_type": "stream",
     "text": [
      "Question:  What year did Roger Goodell announce that Super Bowl 50 would be \"important\"?\n",
      "Answer:  2012 ------- Our Answer:  an important game for us as a league\n"
     ]
    },
    {
     "name": "stderr",
     "output_type": "stream",
     "text": [
      "  1%|          | 129/10570 [00:19<14:23, 12.09it/s]"
     ]
    },
    {
     "name": "stdout",
     "output_type": "stream",
     "text": [
      "Question:  What three stadiums did the NFL decide between for the game?\n",
      "Answer:  New Orleans' Mercedes-Benz Superdome, Miami's Sun Life Stadium, and the San Francisco Bay Area's Levi's Stadium ------- Our Answer:  the bids New Orleans' Mercedes-Benz Superdome , Miami's Sun Life Stadium , and the San Francisco Bay Area's Levi's Stadium\n"
     ]
    },
    {
     "name": "stderr",
     "output_type": "stream",
     "text": [
      "  1%|          | 131/10570 [00:19<16:29, 10.55it/s]"
     ]
    },
    {
     "name": "stdout",
     "output_type": "stream",
     "text": [
      "Question:  What is the name of the stadium in San Francisco Bay Area?\n",
      "Answer:  Levi's Stadium. ------- Our Answer:  the bids New Orleans' Mercedes-Benz Superdome , Miami's Sun Life Stadium , and the San Francisco Bay Area's Levi's Stadium\n"
     ]
    },
    {
     "name": "stderr",
     "output_type": "stream",
     "text": [
      "  1%|▏         | 134/10570 [00:20<20:59,  8.29it/s]"
     ]
    },
    {
     "name": "stdout",
     "output_type": "stream",
     "text": [
      "Question:  What is the name of the stadium where Super Bowl 50 was played?\n",
      "Answer:  Levi's Stadium. ------- Our Answer:  the bids New Orleans' Mercedes-Benz Superdome , Miami's Sun Life Stadium , and the San Francisco Bay Area's Levi's Stadium\n"
     ]
    },
    {
     "name": "stderr",
     "output_type": "stream",
     "text": [
      "  1%|▏         | 148/10570 [00:22<28:56,  6.00it/s]"
     ]
    },
    {
     "name": "stdout",
     "output_type": "stream",
     "text": [
      "Question:  What was the entity that stepped in and caused Miami's Sun Life Stadium to no longer be in the running to host Super Bowl 50?\n",
      "Answer:  Florida legislature ------- Our Answer:  Super Bowl XLIV\n"
     ]
    },
    {
     "name": "stderr",
     "output_type": "stream",
     "text": [
      "  1%|▏         | 150/10570 [00:22<29:37,  5.86it/s]"
     ]
    },
    {
     "name": "stdout",
     "output_type": "stream",
     "text": [
      "Question:  What other city has hosted the Super Bowl ten times?\n",
      "Answer:  New Orleans ------- Our Answer:  the event\n"
     ]
    },
    {
     "name": "stderr",
     "output_type": "stream",
     "text": [
      "  1%|▏         | 151/10570 [00:23<34:34,  5.02it/s]"
     ]
    },
    {
     "name": "stdout",
     "output_type": "stream",
     "text": [
      "Question:  What date were the top two stadium choices for Super Bowl 50 announced?\n",
      "Answer:  October 16, 2012 ------- Our Answer:  that the two finalists were Sun Life Stadium and Levi's Stadium\n"
     ]
    },
    {
     "name": "stderr",
     "output_type": "stream",
     "text": [
      "  2%|▏         | 160/10570 [00:23<17:56,  9.67it/s]"
     ]
    },
    {
     "name": "stdout",
     "output_type": "stream",
     "text": [
      "Question:  What city is tied with Miami for hosting the Super Bowl?\n",
      "Answer:  New Orleans ------- Our Answer:  the event\n"
     ]
    },
    {
     "name": "stderr",
     "output_type": "stream",
     "text": [
      "  2%|▏         | 166/10570 [00:24<14:29, 11.97it/s]"
     ]
    },
    {
     "name": "stdout",
     "output_type": "stream",
     "text": [
      "Question:  What year did Levi's Stadium become fully approved to host Super Bowl 50?\n",
      "Answer:  2013 ------- Our Answer:  2014\n"
     ]
    },
    {
     "name": "stderr",
     "output_type": "stream",
     "text": [
      "  2%|▏         | 169/10570 [00:24<16:52, 10.28it/s]"
     ]
    },
    {
     "name": "stdout",
     "output_type": "stream",
     "text": [
      "Question:  What year did a Super Bowl play in the bay area around San Francisco, prior to Super Bowl 50?\n",
      "Answer:  1985 ------- Our Answer:  2003\n"
     ]
    },
    {
     "name": "stderr",
     "output_type": "stream",
     "text": [
      "  2%|▏         | 183/10570 [00:25<12:58, 13.35it/s]"
     ]
    },
    {
     "name": "stdout",
     "output_type": "stream",
     "text": [
      "Question:  What was the last Super Bowl the Broncos participated in?\n",
      "Answer:  Super Bowl XLVIII ------- Our Answer:  one of only ten teams to have completed a regular season with only one loss one of four teams to have made eight appearances in the Super Bowl\n"
     ]
    },
    {
     "name": "stderr",
     "output_type": "stream",
     "text": [
      "  2%|▏         | 187/10570 [00:27<28:48,  6.01it/s]"
     ]
    },
    {
     "name": "stdout",
     "output_type": "stream",
     "text": [
      "Question:  What was the first Super Bowl that the Carolina Panthers played in? \n",
      "Answer:  Super Bowl XXXVIII ------- Our Answer:  one of only ten teams to have completed a regular season with only one loss one of four teams to have made eight appearances in the Super Bowl\n"
     ]
    },
    {
     "name": "stderr",
     "output_type": "stream",
     "text": [
      "  2%|▏         | 189/10570 [00:27<30:12,  5.73it/s]"
     ]
    },
    {
     "name": "stdout",
     "output_type": "stream",
     "text": [
      "Question:  What seed was the Carolina Panthers?\n",
      "Answer:  number one ------- Our Answer:  Super Bowl XXXVIII\n"
     ]
    },
    {
     "name": "stderr",
     "output_type": "stream",
     "text": [
      "  2%|▏         | 190/10570 [00:28<35:06,  4.93it/s]"
     ]
    },
    {
     "name": "stdout",
     "output_type": "stream",
     "text": [
      "Question:  What seed was the Denver Broncos?\n",
      "Answer:  number one ------- Our Answer:  Super Bowl XXXVIII\n"
     ]
    },
    {
     "name": "stderr",
     "output_type": "stream",
     "text": [
      "  2%|▏         | 204/10570 [00:28<15:12, 11.36it/s]"
     ]
    },
    {
     "name": "stdout",
     "output_type": "stream",
     "text": [
      "Question:  What Panther tore his ACL in the preseason?\n",
      "Answer:  Kelvin Benjamin ------- Our Answer:  their best regular season\n",
      "Question:  What year did the league begin having schedules with 16 games in them?\n",
      "Answer:  1978 ------- Our Answer:  the season 14–0\n"
     ]
    },
    {
     "name": "stderr",
     "output_type": "stream",
     "text": [
      "  2%|▏         | 206/10570 [00:29<20:18,  8.51it/s]"
     ]
    },
    {
     "name": "stdout",
     "output_type": "stream",
     "text": [
      "Question:  What year did the the Saints hit a 13-0 record?\n",
      "Answer:  2009 ------- Our Answer:  the season 14–0\n"
     ]
    },
    {
     "name": "stderr",
     "output_type": "stream",
     "text": [
      "  2%|▏         | 208/10570 [00:29<24:01,  7.19it/s]"
     ]
    },
    {
     "name": "stdout",
     "output_type": "stream",
     "text": [
      "Question:  What injury did the Carolina Panthers lose Kelvin Benjamin to during their preseason?\n",
      "Answer:  torn ACL ------- Our Answer:  their best regular season\n"
     ]
    },
    {
     "name": "stderr",
     "output_type": "stream",
     "text": [
      "  2%|▏         | 215/10570 [00:30<18:02,  9.57it/s]"
     ]
    },
    {
     "name": "stdout",
     "output_type": "stream",
     "text": [
      "Question:  What team had the best start ever in the NFL?\n",
      "Answer:  Carolina Panthers ------- Our Answer:  their best regular season\n"
     ]
    },
    {
     "name": "stderr",
     "output_type": "stream",
     "text": [
      "  2%|▏         | 222/10570 [00:31<21:33,  8.00it/s]"
     ]
    },
    {
     "name": "stdout",
     "output_type": "stream",
     "text": [
      "Question:  What is the record number of touchdowns Cam Newton has had? \n",
      "Answer:  45 ------- Our Answer:  one of his best seasons\n"
     ]
    },
    {
     "name": "stderr",
     "output_type": "stream",
     "text": [
      "  2%|▏         | 223/10570 [00:32<34:27,  5.00it/s]"
     ]
    },
    {
     "name": "stdout",
     "output_type": "stream",
     "text": [
      "Question:  What is the best QB ranking that Cam Newton holds?\n",
      "Answer:  99.4 ------- Our Answer:  one of his best seasons\n"
     ]
    },
    {
     "name": "stderr",
     "output_type": "stream",
     "text": [
      "  2%|▏         | 224/10570 [00:33<42:08,  4.09it/s]"
     ]
    },
    {
     "name": "stdout",
     "output_type": "stream",
     "text": [
      "Question:  What are the most passes that Greg Olsen has had?\n",
      "Answer:  77 passes ------- Our Answer:  one of his best seasons\n"
     ]
    },
    {
     "name": "stderr",
     "output_type": "stream",
     "text": [
      "  2%|▏         | 225/10570 [00:33<52:03,  3.31it/s]"
     ]
    },
    {
     "name": "stdout",
     "output_type": "stream",
     "text": [
      "Question:  What position does Jerricho Cotchery play?\n",
      "Answer:  receivers ------- Our Answer:  the team\n"
     ]
    },
    {
     "name": "stderr",
     "output_type": "stream",
     "text": [
      "  2%|▏         | 235/10570 [00:34<27:05,  6.36it/s]"
     ]
    },
    {
     "name": "stdout",
     "output_type": "stream",
     "text": [
      "Question:  What was Newton's quarterback rating for 2015?\n",
      "Answer:  99.4. ------- Our Answer:  one of his best seasons\n"
     ]
    },
    {
     "name": "stderr",
     "output_type": "stream",
     "text": [
      "  2%|▏         | 257/10570 [00:36<20:52,  8.23it/s]"
     ]
    },
    {
     "name": "stdout",
     "output_type": "stream",
     "text": [
      "Question:  What is the name of the Bronco's head coach, who was hired after John Fox? \n",
      "Answer:  Gary Kubiak ------- Our Answer:  four divisional championships\n"
     ]
    },
    {
     "name": "stderr",
     "output_type": "stream",
     "text": [
      "  2%|▏         | 258/10570 [00:38<33:53,  5.07it/s]"
     ]
    },
    {
     "name": "stdout",
     "output_type": "stream",
     "text": [
      "Question:  What was the first team Peyton Manning began playing for?\n",
      "Answer:  Indianapolis Colts ------- Our Answer:  to set numerous individual, league and franchise records\n"
     ]
    },
    {
     "name": "stderr",
     "output_type": "stream",
     "text": [
      "  2%|▏         | 263/10570 [00:40<42:57,  4.00it/s]"
     ]
    },
    {
     "name": "stdout",
     "output_type": "stream",
     "text": [
      "Question:  What injury did Manning suffer the summer before the season started?\n",
      "Answer:  a plantar fasciitis injury ------- Our Answer:  a partial tear of the plantar fasciitis\n"
     ]
    },
    {
     "name": "stderr",
     "output_type": "stream",
     "text": [
      "  3%|▎         | 266/10570 [00:42<51:24,  3.34it/s]"
     ]
    },
    {
     "name": "stdout",
     "output_type": "stream",
     "text": [
      "Question:  What coach left the Broncos after the season prior to Super Bowl 50?\n",
      "Answer:  John Fox ------- Our Answer:  to set numerous individual, league and franchise records\n"
     ]
    },
    {
     "name": "stderr",
     "output_type": "stream",
     "text": [
      "  3%|▎         | 269/10570 [00:45<1:09:55,  2.46it/s]"
     ]
    },
    {
     "name": "stdout",
     "output_type": "stream",
     "text": [
      "Question:  What foot was injured on Manning that sidelined him in week 10?\n",
      "Answer:  left foot. ------- Our Answer:  a partial tear of the plantar fasciitis\n"
     ]
    },
    {
     "name": "stderr",
     "output_type": "stream",
     "text": [
      "  3%|▎         | 271/10570 [00:45<1:05:21,  2.63it/s]"
     ]
    },
    {
     "name": "stdout",
     "output_type": "stream",
     "text": [
      "Question:  What was Peyton Manning's passer rating for the season?\n",
      "Answer:  67.9 ------- Our Answer:  a big element of the passing game\n"
     ]
    },
    {
     "name": "stderr",
     "output_type": "stream",
     "text": [
      "  3%|▎         | 276/10570 [00:46<51:19,  3.34it/s]  "
     ]
    },
    {
     "name": "stdout",
     "output_type": "stream",
     "text": [
      "Question:  What was the passer rating for Peyton Manning that he finished out with for the season? \n",
      "Answer:  67.9 ------- Our Answer:  a big element of the passing game\n"
     ]
    },
    {
     "name": "stderr",
     "output_type": "stream",
     "text": [
      "  3%|▎         | 278/10570 [00:47<53:29,  3.21it/s]"
     ]
    },
    {
     "name": "stdout",
     "output_type": "stream",
     "text": [
      "Question:  What was the number of 17 interceptions that Peyton Manning had by end of the year?\n",
      "Answer:  nine ------- Our Answer:  a big element of the passing game\n"
     ]
    },
    {
     "name": "stderr",
     "output_type": "stream",
     "text": [
      "  3%|▎         | 280/10570 [00:47<52:21,  3.28it/s]"
     ]
    },
    {
     "name": "stdout",
     "output_type": "stream",
     "text": [
      "Question:  What position does Demaryius Thomas play?\n",
      "Answer:  receiver ------- Our Answer:  the team\n"
     ]
    },
    {
     "name": "stderr",
     "output_type": "stream",
     "text": [
      "  3%|▎         | 281/10570 [00:48<56:55,  3.01it/s]"
     ]
    },
    {
     "name": "stdout",
     "output_type": "stream",
     "text": [
      "Question:  What was Manning's passer rating at the end of the season?\n",
      "Answer:  67.9 ------- Our Answer:  a big element of the passing game\n"
     ]
    },
    {
     "name": "stderr",
     "output_type": "stream",
     "text": [
      "  3%|▎         | 285/10570 [00:48<41:43,  4.11it/s]"
     ]
    },
    {
     "name": "stdout",
     "output_type": "stream",
     "text": [
      "Question:  What was Manning's passer rating for the 2015 season?\n",
      "Answer:  67.9 ------- Our Answer:  a big element of the passing game\n"
     ]
    },
    {
     "name": "stderr",
     "output_type": "stream",
     "text": [
      "  3%|▎         | 287/10570 [00:49<42:28,  4.04it/s]"
     ]
    },
    {
     "name": "stdout",
     "output_type": "stream",
     "text": [
      "Question:  What Denver player caught the ball 76 times in the 2015 season?\n",
      "Answer:  Emmanuel Sanders ------- Our Answer:  76 passes\n"
     ]
    },
    {
     "name": "stderr",
     "output_type": "stream",
     "text": [
      "  3%|▎         | 289/10570 [00:49<42:26,  4.04it/s]"
     ]
    },
    {
     "name": "stdout",
     "output_type": "stream",
     "text": [
      "Question:  What was Ronnie Hillman's average yards per carry in 2015?\n",
      "Answer:  4.7 ------- Our Answer:  a big element of the passing game\n"
     ]
    },
    {
     "name": "stderr",
     "output_type": "stream",
     "text": [
      "  3%|▎         | 294/10570 [00:50<30:04,  5.70it/s]"
     ]
    },
    {
     "name": "stdout",
     "output_type": "stream",
     "text": [
      "Question:  What position does DeMarcus currently play? \n",
      "Answer:  Linebacker ------- Our Answer:  Derek Wolfe and Malik Jackson each had 5½ sacks\n"
     ]
    },
    {
     "name": "stderr",
     "output_type": "stream",
     "text": [
      "  3%|▎         | 295/10570 [00:50<35:44,  4.79it/s]"
     ]
    },
    {
     "name": "stdout",
     "output_type": "stream",
     "text": [
      "Question:  What position does Brandon Marshall currently play? \n",
      "Answer:  Linebacker ------- Our Answer:  the team\n"
     ]
    },
    {
     "name": "stderr",
     "output_type": "stream",
     "text": [
      "  3%|▎         | 296/10570 [00:51<47:57,  3.57it/s]"
     ]
    },
    {
     "name": "stdout",
     "output_type": "stream",
     "text": [
      "Question:  What is the position Derek Wolfe plays currently? \n",
      "Answer:  Defensive ends ------- Our Answer:  the other two Pro Bowl selections from the defense\n"
     ]
    },
    {
     "name": "stderr",
     "output_type": "stream",
     "text": [
      "  3%|▎         | 302/10570 [00:51<31:30,  5.43it/s]"
     ]
    },
    {
     "name": "stdout",
     "output_type": "stream",
     "text": [
      "Question:  What Denver player had 109 tackels for the 2015 season?\n",
      "Answer:  Linebacker Brandon Marshall ------- Our Answer:  5½ sacks\n"
     ]
    },
    {
     "name": "stderr",
     "output_type": "stream",
     "text": [
      "  3%|▎         | 308/10570 [00:52<23:38,  7.24it/s]"
     ]
    },
    {
     "name": "stdout",
     "output_type": "stream",
     "text": [
      "Question:  What two Denver players ranked at 5 percent for sacks?\n",
      "Answer:  Derek Wolfe and Malik Jackson ------- Our Answer:  the team\n",
      "Question:  What was the final score of the game between the Panthers and the Seahawks?\n",
      "Answer:  31–24 ------- Our Answer:  the Seattle Seahawks\n"
     ]
    },
    {
     "name": "stderr",
     "output_type": "stream",
     "text": [
      "  3%|▎         | 316/10570 [00:53<17:32,  9.74it/s]"
     ]
    },
    {
     "name": "stdout",
     "output_type": "stream",
     "text": [
      "Question:  What was the score of the last game the Carolina Panthers played prior to the NFC Championship?\n",
      "Answer:  31–24 ------- Our Answer:  the Seattle Seahawks\n",
      "Question:  What was the score for the 2015 NFC championship game?\n",
      "Answer:  49–15 ------- Our Answer:  the Seattle Seahawks\n"
     ]
    },
    {
     "name": "stderr",
     "output_type": "stream",
     "text": [
      "  3%|▎         | 322/10570 [00:53<13:32, 12.61it/s]"
     ]
    },
    {
     "name": "stdout",
     "output_type": "stream",
     "text": [
      "Question:  What was the final score of the AFC Championship Game?\n",
      "Answer:  20–18 ------- Our Answer:  any\n"
     ]
    },
    {
     "name": "stderr",
     "output_type": "stream",
     "text": [
      "  3%|▎         | 324/10570 [00:53<15:04, 11.33it/s]"
     ]
    },
    {
     "name": "stdout",
     "output_type": "stream",
     "text": [
      "Question:  What team was the divisional round winner between the Broncos and Steelers?\n",
      "Answer:  Broncos ------- Our Answer:  the defending Super Bowl XLIX champion New England Patriots\n"
     ]
    },
    {
     "name": "stderr",
     "output_type": "stream",
     "text": [
      "  3%|▎         | 326/10570 [00:54<17:30,  9.75it/s]"
     ]
    },
    {
     "name": "stdout",
     "output_type": "stream",
     "text": [
      "Question:  What was the final score of the game between the Broncos and Steelers?\n",
      "Answer:  23–16 ------- Our Answer:  any\n"
     ]
    },
    {
     "name": "stderr",
     "output_type": "stream",
     "text": [
      "  3%|▎         | 335/10570 [00:54<12:03, 14.14it/s]"
     ]
    },
    {
     "name": "stdout",
     "output_type": "stream",
     "text": [
      "Question:  What Carolina player was injured in the NFC Championship Game?\n",
      "Answer:  Thomas Davis ------- Our Answer:  three ACL tears\n"
     ]
    },
    {
     "name": "stderr",
     "output_type": "stream",
     "text": [
      "  3%|▎         | 337/10570 [00:55<15:04, 11.32it/s]"
     ]
    },
    {
     "name": "stdout",
     "output_type": "stream",
     "text": [
      "Question:  What injury did Thomas Davis suffer in the NFC Championship?\n",
      "Answer:  a broken arm ------- Our Answer:  Thomas Davis would still find a way to play in the Super Bowl\n"
     ]
    },
    {
     "name": "stderr",
     "output_type": "stream",
     "text": [
      "  3%|▎         | 339/10570 [00:55<19:29,  8.75it/s]"
     ]
    },
    {
     "name": "stdout",
     "output_type": "stream",
     "text": [
      "Question:  What injury did Thomas Davis suffer from repeatedly, for a total of three times, during his career?\n",
      "Answer:  ACL tears ------- Our Answer:  Thomas Davis would still find a way to play in the Super Bowl\n"
     ]
    },
    {
     "name": "stderr",
     "output_type": "stream",
     "text": [
      "  3%|▎         | 340/10570 [00:55<24:28,  6.97it/s]"
     ]
    },
    {
     "name": "stdout",
     "output_type": "stream",
     "text": [
      "Question:  What body part did Thomas Davis break during the NFC Championship Game?\n",
      "Answer:  arm ------- Our Answer:  Thomas Davis would still find a way to play in the Super Bowl\n"
     ]
    },
    {
     "name": "stderr",
     "output_type": "stream",
     "text": [
      "  3%|▎         | 344/10570 [00:56<32:02,  5.32it/s]"
     ]
    },
    {
     "name": "stdout",
     "output_type": "stream",
     "text": [
      "Question:  What injury did Thomas Davis suffer during the playoff games?\n",
      "Answer:  broken arm ------- Our Answer:  Thomas Davis would still find a way to play in the Super Bowl\n"
     ]
    },
    {
     "name": "stderr",
     "output_type": "stream",
     "text": [
      "  3%|▎         | 350/10570 [00:57<20:43,  8.22it/s]"
     ]
    },
    {
     "name": "stdout",
     "output_type": "stream",
     "text": [
      "Question:  What role does John Elway currently have in the Broncos franchise?\n",
      "Answer:  Executive Vice President of Football Operations and General Manager ------- Our Answer:  the Broncos to victory in Super Bowl XXXIII at age 38\n"
     ]
    },
    {
     "name": "stderr",
     "output_type": "stream",
     "text": [
      "  3%|▎         | 352/10570 [00:57<22:27,  7.58it/s]"
     ]
    },
    {
     "name": "stdout",
     "output_type": "stream",
     "text": [
      "Question:  What team was the winner of Super Bowl XXXIII?\n",
      "Answer:  Broncos ------- Our Answer:  the oldest quarterback ever to play in a Super Bowl at age 39\n"
     ]
    },
    {
     "name": "stderr",
     "output_type": "stream",
     "text": [
      "  3%|▎         | 363/10570 [00:58<12:16, 13.86it/s]"
     ]
    },
    {
     "name": "stdout",
     "output_type": "stream",
     "text": [
      "Question:  What is the name of the quarterback who was 38 in Super Bowl XXXIII?\n",
      "Answer:  John Elway ------- Our Answer:  two different teams\n"
     ]
    },
    {
     "name": "stderr",
     "output_type": "stream",
     "text": [
      "  4%|▎         | 376/10570 [00:58<11:28, 14.82it/s]"
     ]
    },
    {
     "name": "stdout",
     "output_type": "stream",
     "text": [
      "Question:  What year did Newton hold the number one draft pick position?\n",
      "Answer:  2011. ------- Our Answer:  13 years 48 days 39 26\n"
     ]
    },
    {
     "name": "stderr",
     "output_type": "stream",
     "text": [
      "  4%|▎         | 378/10570 [00:59<15:22, 11.05it/s]"
     ]
    },
    {
     "name": "stdout",
     "output_type": "stream",
     "text": [
      "Question:  What was the age difference between Newton and Manning in Super Bowl 50?\n",
      "Answer:  13 years and 48 days ------- Our Answer:  the #1 selection of the 1998 NFL draft\n"
     ]
    },
    {
     "name": "stderr",
     "output_type": "stream",
     "text": [
      "  4%|▎         | 380/10570 [00:59<18:13,  9.32it/s]"
     ]
    },
    {
     "name": "stdout",
     "output_type": "stream",
     "text": [
      "Question:  What team did Rivera play for in Super Bowl XX?\n",
      "Answer:  Chicago Bears ------- Our Answer:  both head coaches\n"
     ]
    },
    {
     "name": "stderr",
     "output_type": "stream",
     "text": [
      "  4%|▎         | 381/10570 [01:00<22:04,  7.69it/s]"
     ]
    },
    {
     "name": "stdout",
     "output_type": "stream",
     "text": [
      "Question:  What position did Rivera play in Super Bowl XX?\n",
      "Answer:  linebacker ------- Our Answer:  both head coaches\n"
     ]
    },
    {
     "name": "stderr",
     "output_type": "stream",
     "text": [
      "  4%|▎         | 383/10570 [01:00<22:52,  7.42it/s]"
     ]
    },
    {
     "name": "stdout",
     "output_type": "stream",
     "text": [
      "Question:  What team did Kubiak play for in Super Bowl XXI?\n",
      "Answer:  Broncos ------- Our Answer:  Elway\n"
     ]
    },
    {
     "name": "stderr",
     "output_type": "stream",
     "text": [
      "  4%|▎         | 384/10570 [01:00<26:05,  6.51it/s]"
     ]
    },
    {
     "name": "stdout",
     "output_type": "stream",
     "text": [
      "Question:  What position did Rivera play in Super Bowl XX? \n",
      "Answer:  linebacker ------- Our Answer:  both head coaches\n"
     ]
    },
    {
     "name": "stderr",
     "output_type": "stream",
     "text": [
      "  4%|▎         | 387/10570 [01:00<22:12,  7.64it/s]"
     ]
    },
    {
     "name": "stdout",
     "output_type": "stream",
     "text": [
      "Question:  What Super Bowl did Rivera play in as a player?\n",
      "Answer:  Super Bowl XX ------- Our Answer:  both head coaches\n"
     ]
    },
    {
     "name": "stderr",
     "output_type": "stream",
     "text": [
      "  4%|▎         | 389/10570 [01:01<27:31,  6.16it/s]"
     ]
    },
    {
     "name": "stdout",
     "output_type": "stream",
     "text": [
      "Question:  What is the name of the turf used in Levi's Stadium for the Super Bowl?\n",
      "Answer:  Bermuda 419 ------- Our Answer:  problem\n"
     ]
    },
    {
     "name": "stderr",
     "output_type": "stream",
     "text": [
      "  4%|▎         | 391/10570 [01:02<36:33,  4.64it/s]"
     ]
    },
    {
     "name": "stdout",
     "output_type": "stream",
     "text": [
      "Question:  What team did Justin Tucker play for?\n",
      "Answer:  Baltimore Ravens ------- Our Answer:  Concerns were raised over whether Levi's Stadium's field was of a high enough quality to host a Super Bowl to be re any major issues\n"
     ]
    },
    {
     "name": "stderr",
     "output_type": "stream",
     "text": [
      "  4%|▎         | 392/10570 [01:02<48:21,  3.51it/s]"
     ]
    },
    {
     "name": "stdout",
     "output_type": "stream",
     "text": [
      "Question:  What position did Justin Tucker play?\n",
      "Answer:  kicker ------- Our Answer:  problem\n"
     ]
    },
    {
     "name": "stderr",
     "output_type": "stream",
     "text": [
      "  4%|▎         | 394/10570 [01:03<47:05,  3.60it/s]"
     ]
    },
    {
     "name": "stdout",
     "output_type": "stream",
     "text": [
      "Question:  What position does Tucker play for with the Ravens?\n",
      "Answer:  kicker ------- Our Answer:  Concerns were raised over whether Levi's Stadium's field was of a high enough quality to host a Super Bowl to be re any major issues\n"
     ]
    },
    {
     "name": "stderr",
     "output_type": "stream",
     "text": [
      "  4%|▎         | 395/10570 [01:03<54:28,  3.11it/s]"
     ]
    },
    {
     "name": "stdout",
     "output_type": "stream",
     "text": [
      "Question:  What was used to sod the Levi's Stadium for Super Bowl 50? \n",
      "Answer:  hybrid Bermuda 419 turf ------- Our Answer:  Concerns\n"
     ]
    },
    {
     "name": "stderr",
     "output_type": "stream",
     "text": [
      "  4%|▍         | 397/10570 [01:04<50:44,  3.34it/s]"
     ]
    },
    {
     "name": "stdout",
     "output_type": "stream",
     "text": [
      "Question:  What did the NFL do to the playing field at Levi's Stadium before the Super Bowl?\n",
      "Answer:  a new playing surface ------- Our Answer:  Concerns\n"
     ]
    },
    {
     "name": "stderr",
     "output_type": "stream",
     "text": [
      "  4%|▍         | 398/10570 [01:04<57:41,  2.94it/s]"
     ]
    },
    {
     "name": "stdout",
     "output_type": "stream",
     "text": [
      "Question:  What covered the new field at Levi's Stadium?\n",
      "Answer:  a hybrid Bermuda 419 turf. ------- Our Answer:  Concerns\n"
     ]
    },
    {
     "name": "stderr",
     "output_type": "stream",
     "text": [
      "  4%|▍         | 399/10570 [01:05<1:09:11,  2.45it/s]"
     ]
    },
    {
     "name": "stdout",
     "output_type": "stream",
     "text": [
      "Question:  What did a lot of players need to change during Super Bowl 50 because of the condition of the field?\n",
      "Answer:  their cleats ------- Our Answer:  Concerns were raised over whether Levi's Stadium's field was of a high enough quality to host a Super Bowl to be re any major issues\n"
     ]
    },
    {
     "name": "stderr",
     "output_type": "stream",
     "text": [
      "  4%|▍         | 400/10570 [01:06<1:24:36,  2.00it/s]"
     ]
    },
    {
     "name": "stdout",
     "output_type": "stream",
     "text": [
      "Question:  What player did the field problem at Levi's stadium affect for a field goal in week six of the regular season?\n",
      "Answer:  Justin Tucker ------- Our Answer:  Concerns were raised over whether Levi's Stadium's field was of a high enough quality to host a Super Bowl to be re any major issues\n"
     ]
    },
    {
     "name": "stderr",
     "output_type": "stream",
     "text": [
      "  4%|▍         | 401/10570 [01:06<1:24:33,  2.00it/s]"
     ]
    },
    {
     "name": "stdout",
     "output_type": "stream",
     "text": [
      "Question:  What field type is usually chosen for Super Bowl games?\n",
      "Answer:  natural grass ------- Our Answer:  Concerns\n"
     ]
    },
    {
     "name": "stderr",
     "output_type": "stream",
     "text": [
      "  4%|▍         | 403/10570 [01:07<1:24:27,  2.01it/s]"
     ]
    },
    {
     "name": "stdout",
     "output_type": "stream",
     "text": [
      "Question:  What was the final score of Super Bowl XXXIII?\n",
      "Answer:  34–19 ------- Our Answer:  the Pittsburgh Steelers\n"
     ]
    },
    {
     "name": "stderr",
     "output_type": "stream",
     "text": [
      "  4%|▍         | 404/10570 [01:08<1:46:08,  1.60it/s]"
     ]
    },
    {
     "name": "stdout",
     "output_type": "stream",
     "text": [
      "Question:  What team lost Super Bowl XXXIII?\n",
      "Answer:  Atlanta Falcons ------- Our Answer:  Super Bowl XXI\n"
     ]
    },
    {
     "name": "stderr",
     "output_type": "stream",
     "text": [
      "  4%|▍         | 406/10570 [01:11<2:40:07,  1.06it/s]"
     ]
    },
    {
     "name": "stdout",
     "output_type": "stream",
     "text": [
      "Question:  What was Elway's final game as the Denver quarterback?\n",
      "Answer:  Super Bowl XXXIII ------- Our Answer:  0 - 4\n"
     ]
    },
    {
     "name": "stderr",
     "output_type": "stream",
     "text": [
      "  4%|▍         | 407/10570 [01:13<3:18:43,  1.17s/it]"
     ]
    },
    {
     "name": "stdout",
     "output_type": "stream",
     "text": [
      "Question:  What was the last game that Elway played as a quarterback for Denver?\n",
      "Answer:  Super Bowl XXXIII ------- Our Answer:  blue jerseys , which was their primary color at the time\n"
     ]
    },
    {
     "name": "stderr",
     "output_type": "stream",
     "text": [
      "  4%|▍         | 408/10570 [01:14<3:10:55,  1.13s/it]"
     ]
    },
    {
     "name": "stdout",
     "output_type": "stream",
     "text": [
      "Question:  What was the final score for Super Bowl XXXIII?\n",
      "Answer:  34–19 ------- Our Answer:  the Pittsburgh Steelers\n"
     ]
    },
    {
     "name": "stderr",
     "output_type": "stream",
     "text": [
      "  4%|▍         | 409/10570 [01:16<3:46:07,  1.34s/it]"
     ]
    },
    {
     "name": "stdout",
     "output_type": "stream",
     "text": [
      "Question:  What team did the Denver Broncos play in Super Bowl XXXIII?\n",
      "Answer:  Atlanta Falcons ------- Our Answer:  Super Bowl XXI\n"
     ]
    },
    {
     "name": "stderr",
     "output_type": "stream",
     "text": [
      "  4%|▍         | 410/10570 [01:16<3:01:27,  1.07s/it]"
     ]
    },
    {
     "name": "stdout",
     "output_type": "stream",
     "text": [
      "Question:  What color were the Bronco's uniforms in Super Bowl 50?\n",
      "Answer:  white ------- Our Answer:  blue jerseys , which was their primary color at the time\n"
     ]
    },
    {
     "name": "stderr",
     "output_type": "stream",
     "text": [
      "  4%|▍         | 411/10570 [01:18<3:34:02,  1.26s/it]"
     ]
    },
    {
     "name": "stdout",
     "output_type": "stream",
     "text": [
      "Question:  What jersey did the Broncos wear for Super Bowl 50?\n",
      "Answer:  road white jerseys ------- Our Answer:  The only other AFC champion team to have worn white as the designated home team in the Super Bowl was the Pittsburgh Steelers the Seattle Seahawks 21–10\n"
     ]
    },
    {
     "name": "stderr",
     "output_type": "stream",
     "text": [
      "  4%|▍         | 414/10570 [01:20<2:38:00,  1.07it/s]"
     ]
    },
    {
     "name": "stdout",
     "output_type": "stream",
     "text": [
      "Question:  What was the color of the jerseys in Super Bowl XXXII when Elway was quarterback?\n",
      "Answer:  blue ------- Our Answer:  0 - 4\n"
     ]
    },
    {
     "name": "stderr",
     "output_type": "stream",
     "text": [
      "  4%|▍         | 421/10570 [01:21<53:59,  3.13it/s]  "
     ]
    },
    {
     "name": "stdout",
     "output_type": "stream",
     "text": [
      "Question:  What color jersey has Denver 0-4?\n",
      "Answer:  orange ------- Our Answer:  blue jerseys , which was their primary color at the time\n",
      "Question:  What hotel did the Panthers stay in during Super Bowl 50? \n",
      "Answer:  San Jose Marriott ------- Our Answer:  the San Jose State practice facility\n"
     ]
    },
    {
     "name": "stderr",
     "output_type": "stream",
     "text": [
      "  4%|▍         | 423/10570 [01:21<44:51,  3.77it/s]"
     ]
    },
    {
     "name": "stdout",
     "output_type": "stream",
     "text": [
      "Question:  What was the name of the hotel the Panthers chose to stay in during Super Bowl 50?\n",
      "Answer:  Santa Clara Marriott ------- Our Answer:  the San Jose State practice facility\n"
     ]
    },
    {
     "name": "stderr",
     "output_type": "stream",
     "text": [
      "  4%|▍         | 434/10570 [01:22<20:02,  8.43it/s]"
     ]
    },
    {
     "name": "stdout",
     "output_type": "stream",
     "text": [
      "Question:  What was the first Super Bowl branded with Roman numerals?\n",
      "Answer:  Super Bowl V ------- Our Answer:  the difficulty of designing an aesthetically pleasing logo with the letter \"L \" using the standardized logo template introduced at Super Bowl XLV\n"
     ]
    },
    {
     "name": "stderr",
     "output_type": "stream",
     "text": [
      "  4%|▍         | 441/10570 [01:23<19:45,  8.54it/s]"
     ]
    },
    {
     "name": "stdout",
     "output_type": "stream",
     "text": [
      "Question:  What was the first Super Bowl to use the standardized logo template?\n",
      "Answer:  Super Bowl XLV ------- Our Answer:  that the practice of branding Super Bowl games with Roman numerals , a practice established at Super Bowl V , would be temporarily suspended , and that the game would be named using Arabic numerals as Super Bowl 50 as opposed to Super Bowl L.\n",
      "Question:  What color are the numbers in the Super Bowl 50 logo? \n",
      "Answer:  gold ------- Our Answer:  that a primary reason for the change was the difficulty of designing an aesthetically pleasing logo with the letter \"L \" using the standardized logo template introduced at Super Bowl XLV\n"
     ]
    },
    {
     "name": "stderr",
     "output_type": "stream",
     "text": [
      "  4%|▍         | 444/10570 [01:23<21:13,  7.95it/s]"
     ]
    },
    {
     "name": "stdout",
     "output_type": "stream",
     "text": [
      "Question:  What is the Roman numeral for 50?\n",
      "Answer:  L. ------- Our Answer:  the difficulty of designing an aesthetically pleasing logo with the letter \"L \" using the standardized logo template introduced at Super Bowl XLV\n"
     ]
    },
    {
     "name": "stderr",
     "output_type": "stream",
     "text": [
      "  4%|▍         | 447/10570 [01:24<23:19,  7.24it/s]"
     ]
    },
    {
     "name": "stdout",
     "output_type": "stream",
     "text": [
      "Question:  What type of numeral did the latest Super Bowl use to designate the game number?\n",
      "Answer:  Arabic ------- Our Answer:  the game\n",
      "Question:  What is the Roman numeral going to be for Super Bowl 51?\n",
      "Answer:  LI. ------- Our Answer:  the difficulty of designing an aesthetically pleasing logo with the letter \"L \" using the standardized logo template introduced at Super Bowl XLV\n"
     ]
    },
    {
     "name": "stderr",
     "output_type": "stream",
     "text": [
      "  4%|▍         | 451/10570 [01:25<32:53,  5.13it/s]"
     ]
    },
    {
     "name": "stdout",
     "output_type": "stream",
     "text": [
      "Question:  What yard marker on the field was painted gold?\n",
      "Answer:  50 ------- Our Answer:  Various gold-themed promotions and initiatives\n"
     ]
    },
    {
     "name": "stderr",
     "output_type": "stream",
     "text": [
      "  4%|▍         | 453/10570 [01:26<35:44,  4.72it/s]"
     ]
    },
    {
     "name": "stdout",
     "output_type": "stream",
     "text": [
      "Question:  What color were the footballs handed out to a variety of high schools, leading up to Super Bowl 50?\n",
      "Answer:  gold ------- Our Answer:  \"homecoming\" events\n"
     ]
    },
    {
     "name": "stderr",
     "output_type": "stream",
     "text": [
      "  4%|▍         | 456/10570 [01:27<48:19,  3.49it/s]"
     ]
    },
    {
     "name": "stdout",
     "output_type": "stream",
     "text": [
      "Question:  What yard line was a gold color for all teams during the season?\n",
      "Answer:  the 50-yard line ------- Our Answer:  Various gold-themed promotions and initiatives were held throughout the 2015 NFL season to tie into the \"Golden Super Bowl \" ; gold-tinted logos were implemented across the NFL's properties and painted on fields colored gold\n"
     ]
    },
    {
     "name": "stderr",
     "output_type": "stream",
     "text": [
      "  4%|▍         | 466/10570 [01:28<24:27,  6.89it/s]"
     ]
    },
    {
     "name": "stdout",
     "output_type": "stream",
     "text": [
      "Question:  What was the name of the event at the The Embarcadero that was held prior to Super Bowl 50 to help show off some of the things that San Francisco has to offer?\n",
      "Answer:  Super Bowl City ------- Our Answer:  The annual NFL Experience\n"
     ]
    },
    {
     "name": "stderr",
     "output_type": "stream",
     "text": [
      "  4%|▍         | 468/10570 [01:28<28:06,  5.99it/s]"
     ]
    },
    {
     "name": "stdout",
     "output_type": "stream",
     "text": [
      "Question:  What opened on January 30th at the Justin Herman plaza?\n",
      "Answer:  Super Bowl City ------- Our Answer:  The annual NFL Experience\n"
     ]
    },
    {
     "name": "stderr",
     "output_type": "stream",
     "text": [
      "  4%|▍         | 470/10570 [01:29<30:54,  5.45it/s]"
     ]
    },
    {
     "name": "stdout",
     "output_type": "stream",
     "text": [
      "Question:  What football associated thing started at Justin Herman Plaza in January?\n",
      "Answer:  Super Bowl City ------- Our Answer:  The annual NFL Experience\n"
     ]
    },
    {
     "name": "stderr",
     "output_type": "stream",
     "text": [
      "  4%|▍         | 474/10570 [01:29<26:22,  6.38it/s]"
     ]
    },
    {
     "name": "stdout",
     "output_type": "stream",
     "text": [
      "Question:  What did the Moscone Center host?\n",
      "Answer:  The annual NFL Experience ------- Our Answer:  to have to leave \"\n"
     ]
    },
    {
     "name": "stderr",
     "output_type": "stream",
     "text": [
      "  5%|▍         | 479/10570 [01:29<19:16,  8.72it/s]"
     ]
    },
    {
     "name": "stdout",
     "output_type": "stream",
     "text": [
      "Question:  What type of rally was held?\n",
      "Answer:  pep rally ------- Our Answer:  plans to set aside seed funding for the event\n"
     ]
    },
    {
     "name": "stderr",
     "output_type": "stream",
     "text": [
      "  5%|▍         | 484/10570 [01:30<15:08, 11.10it/s]"
     ]
    },
    {
     "name": "stdout",
     "output_type": "stream",
     "text": [
      "Question:  What was the cost of the other Super Bowl events in the San Francisco area?\n",
      "Answer:  $2 million ------- Our Answer:  Additional funding\n"
     ]
    },
    {
     "name": "stderr",
     "output_type": "stream",
     "text": [
      "  5%|▍         | 488/10570 [01:30<14:14, 11.81it/s]"
     ]
    },
    {
     "name": "stdout",
     "output_type": "stream",
     "text": [
      "Question:  What venue hosted Super Bowl Opening Night?\n",
      "Answer:  SAP Center ------- Our Answer:  an opening ceremony with player introductions on a replica of the Golden Gate Bridge\n"
     ]
    },
    {
     "name": "stderr",
     "output_type": "stream",
     "text": [
      "  5%|▍         | 492/10570 [01:30<14:43, 11.40it/s]"
     ]
    },
    {
     "name": "stdout",
     "output_type": "stream",
     "text": [
      "Question:  What day of the week was Media Day held on for Super Bowl 50?\n",
      "Answer:  Monday ------- Our Answer:  February 1, 2016\n",
      "Question:  What was the name of the Media Day event for Super Bowl 50?\n",
      "Answer:  Super Bowl Opening Night ------- Our Answer:  which\n"
     ]
    },
    {
     "name": "stderr",
     "output_type": "stream",
     "text": [
      "  5%|▍         | 495/10570 [01:31<24:53,  6.74it/s]"
     ]
    },
    {
     "name": "stdout",
     "output_type": "stream",
     "text": [
      "Question:  What is the name of the property where the media event was held for Super Bowl 50?\n",
      "Answer:  SAP Center ------- Our Answer:  which\n",
      "Question:  What city was the media event held for Super Bowl 50?\n",
      "Answer:  San Jose ------- Our Answer:  which\n"
     ]
    },
    {
     "name": "stderr",
     "output_type": "stream",
     "text": [
      "  5%|▍         | 497/10570 [01:32<26:29,  6.34it/s]"
     ]
    },
    {
     "name": "stdout",
     "output_type": "stream",
     "text": [
      "Question:  What new name was given to the media day?\n",
      "Answer:  Super Bowl Opening Night. ------- Our Answer:  The event\n"
     ]
    },
    {
     "name": "stderr",
     "output_type": "stream",
     "text": [
      "  5%|▍         | 499/10570 [01:32<27:32,  6.09it/s]"
     ]
    },
    {
     "name": "stdout",
     "output_type": "stream",
     "text": [
      "Question:  What replica was used for player introductions?\n",
      "Answer:  the Golden Gate Bridge. ------- Our Answer:  The event\n"
     ]
    },
    {
     "name": "stderr",
     "output_type": "stream",
     "text": [
      "  5%|▍         | 501/10570 [01:33<33:05,  5.07it/s]"
     ]
    },
    {
     "name": "stdout",
     "output_type": "stream",
     "text": [
      "Question:  What was media day called for Super Bowl 50?\n",
      "Answer:  Super Bowl Opening Night. ------- Our Answer:  which\n"
     ]
    },
    {
     "name": "stderr",
     "output_type": "stream",
     "text": [
      "  5%|▍         | 503/10570 [01:33<33:58,  4.94it/s]"
     ]
    },
    {
     "name": "stdout",
     "output_type": "stream",
     "text": [
      "Question:  What bridge had a model of it at the Super Bowl Opening Night?\n",
      "Answer:  Golden Gate Bridge. ------- Our Answer:  The game's media day , which was typically held on the Tuesday afternoon prior to the game ,\n"
     ]
    },
    {
     "name": "stderr",
     "output_type": "stream",
     "text": [
      "  5%|▍         | 504/10570 [01:33<36:51,  4.55it/s]"
     ]
    },
    {
     "name": "stdout",
     "output_type": "stream",
     "text": [
      "Question:  What date was Super Bowl Opening Night held?\n",
      "Answer:  February 1, 2016 ------- Our Answer:  which\n"
     ]
    },
    {
     "name": "stderr",
     "output_type": "stream",
     "text": [
      "  5%|▍         | 505/10570 [01:34<46:17,  3.62it/s]"
     ]
    },
    {
     "name": "stdout",
     "output_type": "stream",
     "text": [
      "Question:  What is the name of the program that provides contracting work to local companies?\n",
      "Answer:  Business Connect ------- Our Answer:  local companies\n"
     ]
    },
    {
     "name": "stderr",
     "output_type": "stream",
     "text": [
      "  5%|▍         | 507/10570 [01:34<36:54,  4.54it/s]"
     ]
    },
    {
     "name": "stdout",
     "output_type": "stream",
     "text": [
      "Question:  What health company was a Super Bowl sponsor?\n",
      "Answer:  Dignity Health ------- Our Answer:  local companies\n"
     ]
    },
    {
     "name": "stderr",
     "output_type": "stream",
     "text": [
      "  5%|▍         | 508/10570 [01:34<38:04,  4.40it/s]"
     ]
    },
    {
     "name": "stdout",
     "output_type": "stream",
     "text": [
      "Question:  What clothing company was a Super Bowl sponsor?\n",
      "Answer:  Gap ------- Our Answer:  local companies\n"
     ]
    },
    {
     "name": "stderr",
     "output_type": "stream",
     "text": [
      "  5%|▍         | 509/10570 [01:35<39:12,  4.28it/s]"
     ]
    },
    {
     "name": "stdout",
     "output_type": "stream",
     "text": [
      "Question:  What petroleum company was a Super Bowl sponsor?\n",
      "Answer:  Chevron ------- Our Answer:  local companies\n"
     ]
    },
    {
     "name": "stderr",
     "output_type": "stream",
     "text": [
      "  5%|▍         | 513/10570 [01:35<28:00,  5.98it/s]"
     ]
    },
    {
     "name": "stdout",
     "output_type": "stream",
     "text": [
      "Question:  What is the Super Bowl program called that gives local companies business opportunities for the Super Bowl?\n",
      "Answer:  Business Connect ------- Our Answer:  local companies\n"
     ]
    },
    {
     "name": "stderr",
     "output_type": "stream",
     "text": [
      "  5%|▍         | 514/10570 [01:35<35:37,  4.70it/s]"
     ]
    },
    {
     "name": "stdout",
     "output_type": "stream",
     "text": [
      "Question:  What is the name of the service that gets local businesses contract chances with the Super Bowl?\n",
      "Answer:  Business Connect ------- Our Answer:  local companies\n"
     ]
    },
    {
     "name": "stderr",
     "output_type": "stream",
     "text": [
      "  5%|▍         | 516/10570 [01:36<30:25,  5.51it/s]"
     ]
    },
    {
     "name": "stdout",
     "output_type": "stream",
     "text": [
      "Question:  What percentage of money raised by the Host Committee will be used for charitable causes?\n",
      "Answer:  25 ------- Our Answer:  the 50 fund\n"
     ]
    },
    {
     "name": "stderr",
     "output_type": "stream",
     "text": [
      "  5%|▍         | 518/10570 [01:36<35:35,  4.71it/s]"
     ]
    },
    {
     "name": "stdout",
     "output_type": "stream",
     "text": [
      "Question:  What percentage of funds were given as charitable funds to causes in and around San Francisco?\n",
      "Answer:  25 percent ------- Our Answer:  the 50 fund\n"
     ]
    },
    {
     "name": "stderr",
     "output_type": "stream",
     "text": [
      "  5%|▍         | 523/10570 [01:37<30:31,  5.49it/s]"
     ]
    },
    {
     "name": "stdout",
     "output_type": "stream",
     "text": [
      "Question:  What percentage of money raised was earmarked for causes in the San Francisco area?\n",
      "Answer:  25 percent ------- Our Answer:  the 50 fund\n"
     ]
    },
    {
     "name": "stderr",
     "output_type": "stream",
     "text": [
      "  5%|▍         | 527/10570 [01:38<28:15,  5.92it/s]"
     ]
    },
    {
     "name": "stdout",
     "output_type": "stream",
     "text": [
      "Question:  What will the \"50\" given to the Super Bowl winner weigh in pounds?\n",
      "Answer:  66 ------- Our Answer:  33 lb (15 kg )\n"
     ]
    },
    {
     "name": "stderr",
     "output_type": "stream",
     "text": [
      "  5%|▌         | 530/10570 [01:38<27:06,  6.17it/s]"
     ]
    },
    {
     "name": "stdout",
     "output_type": "stream",
     "text": [
      "Question:  What is the name of the trophy given to anyone who plays on the winning team in a Super Bowl?\n",
      "Answer:  Vince Lombardi Trophy ------- Our Answer:  that a large , 18 - karat gold - plated \" 50\n"
     ]
    },
    {
     "name": "stderr",
     "output_type": "stream",
     "text": [
      "  5%|▌         | 531/10570 [01:39<31:20,  5.34it/s]"
     ]
    },
    {
     "name": "stdout",
     "output_type": "stream",
     "text": [
      "Question:  What will the number \"50\" be plated with? \n",
      "Answer:  18-karat gold-plated ------- Our Answer:  the \" 50\n"
     ]
    },
    {
     "name": "stderr",
     "output_type": "stream",
     "text": [
      "  5%|▌         | 533/10570 [01:39<33:23,  5.01it/s]"
     ]
    },
    {
     "name": "stdout",
     "output_type": "stream",
     "text": [
      "Question:  What is the name of the trophy that all Super Bowl winners receive?\n",
      "Answer:  the Vince Lombardi Trophy ------- Our Answer:  that a large , 18 - karat gold - plated \" 50\n"
     ]
    },
    {
     "name": "stderr",
     "output_type": "stream",
     "text": [
      "  5%|▌         | 539/10570 [01:39<21:45,  7.69it/s]"
     ]
    },
    {
     "name": "stdout",
     "output_type": "stream",
     "text": [
      "Question:  What was the resolution of the cameras used in the EyeVision 360 system?\n",
      "Answer:  5K ------- Our Answer:  new features\n"
     ]
    },
    {
     "name": "stderr",
     "output_type": "stream",
     "text": [
      "  5%|▌         | 543/10570 [01:40<27:01,  6.19it/s]"
     ]
    },
    {
     "name": "stdout",
     "output_type": "stream",
     "text": [
      "Question:  What resolution were the cameras increased to for the game?\n",
      "Answer:  5K resolution ------- Our Answer:  ( An earlier version of EyeVision was last used in Super Bowl XXXV the cameras\n"
     ]
    },
    {
     "name": "stderr",
     "output_type": "stream",
     "text": [
      "  5%|▌         | 547/10570 [01:41<23:58,  6.97it/s]"
     ]
    },
    {
     "name": "stdout",
     "output_type": "stream",
     "text": [
      "Question:  What network aired Super Bowl 50?\n",
      "Answer:  CBS ------- Our Answer:  new features\n"
     ]
    },
    {
     "name": "stderr",
     "output_type": "stream",
     "text": [
      "  5%|▌         | 550/10570 [01:41<25:55,  6.44it/s]"
     ]
    },
    {
     "name": "stdout",
     "output_type": "stream",
     "text": [
      "Question:  What resolution were the Eyevision cameras changed to?\n",
      "Answer:  5K ------- Our Answer:  An earlier version of EyeVision\n"
     ]
    },
    {
     "name": "stderr",
     "output_type": "stream",
     "text": [
      "  5%|▌         | 551/10570 [01:42<33:24,  5.00it/s]"
     ]
    },
    {
     "name": "stdout",
     "output_type": "stream",
     "text": [
      "Question:  What was put on pylons for Super Bowl 50?\n",
      "Answer:  cameras ------- Our Answer:  An earlier version of EyeVision\n"
     ]
    },
    {
     "name": "stderr",
     "output_type": "stream",
     "text": [
      "  5%|▌         | 560/10570 [01:42<20:28,  8.15it/s]"
     ]
    },
    {
     "name": "stdout",
     "output_type": "stream",
     "text": [
      "Question:  What agency did the Spanish version of the Super Bowl?\n",
      "Answer:  ESPN Deportes ------- Our Answer:  a Spanish-language outlet of CBS own that could broadcast the game (\n"
     ]
    },
    {
     "name": "stderr",
     "output_type": "stream",
     "text": [
      "  5%|▌         | 563/10570 [01:43<19:14,  8.67it/s]"
     ]
    },
    {
     "name": "stdout",
     "output_type": "stream",
     "text": [
      "Question:  What service did Verizon customers need to use to stream the game on their smartphones?\n",
      "Answer:  NFL Mobile ------- Our Answer:  streaming on smartphones\n"
     ]
    },
    {
     "name": "stderr",
     "output_type": "stream",
     "text": [
      "  5%|▌         | 565/10570 [01:43<20:28,  8.14it/s]"
     ]
    },
    {
     "name": "stdout",
     "output_type": "stream",
     "text": [
      "Question:  What CBS website provided a stream?\n",
      "Answer:  CBSSports.com ------- Our Answer:  digital streams of the game\n"
     ]
    },
    {
     "name": "stderr",
     "output_type": "stream",
     "text": [
      "  5%|▌         | 567/10570 [01:43<20:42,  8.05it/s]"
     ]
    },
    {
     "name": "stdout",
     "output_type": "stream",
     "text": [
      "Question:  What version of Windows supported the CBS sports app?\n",
      "Answer:  10 ------- Our Answer:  digital streams of the game\n"
     ]
    },
    {
     "name": "stderr",
     "output_type": "stream",
     "text": [
      "  5%|▌         | 568/10570 [01:44<26:01,  6.41it/s]"
     ]
    },
    {
     "name": "stdout",
     "output_type": "stream",
     "text": [
      "Question:  What was the domain name of the site that streamed the Super Bowl 50 game? \n",
      "Answer:  CBSSports.com ------- Our Answer:  digital streams of the game\n"
     ]
    },
    {
     "name": "stderr",
     "output_type": "stream",
     "text": [
      "  5%|▌         | 571/10570 [01:44<21:38,  7.70it/s]"
     ]
    },
    {
     "name": "stdout",
     "output_type": "stream",
     "text": [
      "Question:  What app did viewers use to watch the game on their smartphones? \n",
      "Answer:  NFL Mobile service ------- Our Answer:  digital streams of the game\n"
     ]
    },
    {
     "name": "stderr",
     "output_type": "stream",
     "text": [
      "  5%|▌         | 575/10570 [01:45<31:05,  5.36it/s]"
     ]
    },
    {
     "name": "stdout",
     "output_type": "stream",
     "text": [
      "Question:  What cellular carrier had the only contract for the Super Bowl to be shown on smartphones?\n",
      "Answer:  Verizon ------- Our Answer:  The ESPN Deportes Spanish broadcast available\n"
     ]
    },
    {
     "name": "stderr",
     "output_type": "stream",
     "text": [
      "  5%|▌         | 577/10570 [01:45<27:46,  6.00it/s]"
     ]
    },
    {
     "name": "stdout",
     "output_type": "stream",
     "text": [
      "Question:  What talk show followed immediately after Super Bowl 50 on CBS?\n",
      "Answer:  The Late Show with Stephen Colbert ------- Our Answer:  special episodes of its late night talk shows as its lead-out programs for Super Bowl 50\n"
     ]
    },
    {
     "name": "stderr",
     "output_type": "stream",
     "text": [
      "  5%|▌         | 581/10570 [01:46<28:59,  5.74it/s]"
     ]
    },
    {
     "name": "stdout",
     "output_type": "stream",
     "text": [
      "Question:  What other CBS talk show played, after the main one that began immediately after Super Bowl 50?\n",
      "Answer:  The Late Late Show with James Corden ------- Our Answer:  special episodes of its late night talk shows as its lead-out programs for Super Bowl 50\n",
      "Question:  What CBS show followed the Super Bowl?\n",
      "Answer:  The Late Show with Stephen Colbert ------- Our Answer:  special episodes of its late night talk shows as its lead-out programs for Super Bowl 50\n"
     ]
    },
    {
     "name": "stderr",
     "output_type": "stream",
     "text": [
      "  6%|▌         | 583/10570 [01:46<29:50,  5.58it/s]"
     ]
    },
    {
     "name": "stdout",
     "output_type": "stream",
     "text": [
      "Question:  What followed The Late Show with Stephen Colbert?\n",
      "Answer:  late local programming ------- Our Answer:  special episodes of its late night talk shows as its lead-out programs for Super Bowl 50\n",
      "Question:  What followed the late local programming after Super Bowl 50?\n",
      "Answer:  The Late Late Show with James Corden. ------- Our Answer:  special episodes of its late night talk shows as its lead-out programs for Super Bowl 50\n"
     ]
    },
    {
     "name": "stderr",
     "output_type": "stream",
     "text": [
      "  6%|▌         | 584/10570 [01:47<1:01:43,  2.70it/s]"
     ]
    },
    {
     "name": "stdout",
     "output_type": "stream",
     "text": [
      "Question:  What was the base rate for a 30-second ad during Super Bowl 50?\n",
      "Answer:  $5,000,000 ------- Our Answer:  the final year that Doritos , a longtime sponsor of the game , held its \"Crash the Super Bowl\" contest that allowed viewers to create their own Doritos ads for a chance to have Doritos aired during the game\n"
     ]
    },
    {
     "name": "stderr",
     "output_type": "stream",
     "text": [
      "  6%|▌         | 585/10570 [01:49<1:45:11,  1.58it/s]"
     ]
    },
    {
     "name": "stdout",
     "output_type": "stream",
     "text": [
      "Question:  What beverage company signed a contract allowing them to broadcast ads at a discount?\n",
      "Answer:  Anheuser-Busch InBev ------- Our Answer:  multiple advertisements\n"
     ]
    },
    {
     "name": "stderr",
     "output_type": "stream",
     "text": [
      "  6%|▌         | 586/10570 [01:49<1:55:49,  1.44it/s]"
     ]
    },
    {
     "name": "stdout",
     "output_type": "stream",
     "text": [
      "Question:  What brand sponsored the \"Crash the Super Bowl\" contest?\n",
      "Answer:  Doritos ------- Our Answer:  a package covering time on both the television and digital broadcasts of the game\n"
     ]
    },
    {
     "name": "stderr",
     "output_type": "stream",
     "text": [
      "  6%|▌         | 587/10570 [01:50<2:04:41,  1.33it/s]"
     ]
    },
    {
     "name": "stdout",
     "output_type": "stream",
     "text": [
      "Question:  What anniversary of the Pokémon franchise was celebrated during the Super Bowl?\n",
      "Answer:  20th ------- Our Answer:  the base rate\n"
     ]
    },
    {
     "name": "stderr",
     "output_type": "stream",
     "text": [
      "  6%|▌         | 588/10570 [01:51<2:10:59,  1.27it/s]"
     ]
    },
    {
     "name": "stdout",
     "output_type": "stream",
     "text": [
      "Question:  What was the starting cost for a TV commercial lasting 30 seconds and airing during Super Bowl 50?\n",
      "Answer:  $5,000,000 ------- Our Answer:  the final year that Doritos , a longtime sponsor of the game , held its \"Crash the Super Bowl\" contest that allowed viewers to create their own Doritos ads for a chance to have Doritos aired during the game\n"
     ]
    },
    {
     "name": "stderr",
     "output_type": "stream",
     "text": [
      "  6%|▌         | 595/10570 [01:52<51:06,  3.25it/s]  "
     ]
    },
    {
     "name": "stdout",
     "output_type": "stream",
     "text": [
      "Question:  What company was in its last year for getting Super Bowl commercials at a big discount?\n",
      "Answer:  Anheuser-Busch InBev ------- Our Answer:  the final year that Doritos , a longtime sponsor of the game , held its \"Crash the Super Bowl\" contest that allowed viewers to create their own Doritos ads for a chance to have Doritos aired during the game\n"
     ]
    },
    {
     "name": "stderr",
     "output_type": "stream",
     "text": [
      "  6%|▌         | 596/10570 [01:55<1:38:33,  1.69it/s]"
     ]
    },
    {
     "name": "stdout",
     "output_type": "stream",
     "text": [
      "Question:  What company was this the last Super Bowl they would let customers have an opportunity to get their own commercial ideas aired?\n",
      "Answer:  Doritos ------- Our Answer:  multiple advertisements\n"
     ]
    },
    {
     "name": "stderr",
     "output_type": "stream",
     "text": [
      "  6%|▌         | 599/10570 [01:56<1:24:18,  1.97it/s]"
     ]
    },
    {
     "name": "stdout",
     "output_type": "stream",
     "text": [
      "Question:  What company won a free advertisement due to the QuickBooks contest?\n",
      "Answer:  Death Wish Coffee ------- Our Answer:  nine other contenders from across the United States\n"
     ]
    },
    {
     "name": "stderr",
     "output_type": "stream",
     "text": [
      "  6%|▌         | 607/10570 [01:56<30:10,  5.50it/s]  "
     ]
    },
    {
     "name": "stdout",
     "output_type": "stream",
     "text": [
      "Question:  What company had a contest to win a free Super Bowl commercial?\n",
      "Answer:  QuickBooks. ------- Our Answer:  a 30-second commercial aired free of charge courtesy of QuickBooks\n"
     ]
    },
    {
     "name": "stderr",
     "output_type": "stream",
     "text": [
      "  6%|▌         | 612/10570 [01:58<36:25,  4.56it/s]"
     ]
    },
    {
     "name": "stdout",
     "output_type": "stream",
     "text": [
      "Question:  What was the subtitle of the Independence Day movie that had a trailer during the Super Bowl?\n",
      "Answer:  Resurgence ------- Our Answer:  20th Century Fox - Men\n"
     ]
    },
    {
     "name": "stderr",
     "output_type": "stream",
     "text": [
      "  6%|▌         | 613/10570 [01:58<38:36,  4.30it/s]"
     ]
    },
    {
     "name": "stdout",
     "output_type": "stream",
     "text": [
      "Question:  What film did Lionsgate pay to have the trailer aired during the Super Bowl?\n",
      "Answer:  Gods of Egypt ------- Our Answer:  20th Century Fox - Men\n"
     ]
    },
    {
     "name": "stderr",
     "output_type": "stream",
     "text": [
      "  6%|▌         | 617/10570 [01:58<26:31,  6.25it/s]"
     ]
    },
    {
     "name": "stdout",
     "output_type": "stream",
     "text": [
      "Question:  What famous July Fourth holiday movie did Fox pay to advertise a sequel of during the Super Bowl?\n",
      "Answer:  Independence Day ------- Our Answer:  20th Century Fox - Men\n"
     ]
    },
    {
     "name": "stderr",
     "output_type": "stream",
     "text": [
      "  6%|▌         | 618/10570 [01:59<29:44,  5.58it/s]"
     ]
    },
    {
     "name": "stdout",
     "output_type": "stream",
     "text": [
      "Question:  What movie company paid to have the next Jason Bourne movie ad shown during the Super Bowl?\n",
      "Answer:  Universal ------- Our Answer:  20th Century Fox - Men\n"
     ]
    },
    {
     "name": "stderr",
     "output_type": "stream",
     "text": [
      "  6%|▌         | 633/10570 [02:00<09:53, 16.76it/s]"
     ]
    },
    {
     "name": "stdout",
     "output_type": "stream",
     "text": [
      "Question:  What radio network carried the Super Bowl?\n",
      "Answer:  Westwood One ------- Our Answer:  the game\n",
      "Question:  What did Jim Gray cover?\n",
      "Answer:  pre-game and halftime coverage. ------- Our Answer:  the pre -game and halftime coverage\n",
      "Question:  What area did the Westwood One broadcast cover?\n",
      "Answer:  North America ------- Our Answer:  the game\n"
     ]
    },
    {
     "name": "stderr",
     "output_type": "stream",
     "text": [
      "  6%|▌         | 636/10570 [02:00<17:32,  9.44it/s]"
     ]
    },
    {
     "name": "stdout",
     "output_type": "stream",
     "text": [
      "Question:  What radio station is located at 103.5FM on the dial in Denver?\n",
      "Answer:  KRFX ------- Our Answer:  clear-channel stations audible over much of the western United States\n"
     ]
    },
    {
     "name": "stderr",
     "output_type": "stream",
     "text": [
      "  6%|▌         | 638/10570 [02:01<22:59,  7.20it/s]"
     ]
    },
    {
     "name": "stdout",
     "output_type": "stream",
     "text": [
      "Question:  What is the frequency of the radio station WBT in North Carolina?\n",
      "Answer:  1110 AM ------- Our Answer:  clear-channel stations audible over much of the western United States\n"
     ]
    },
    {
     "name": "stderr",
     "output_type": "stream",
     "text": [
      "  6%|▌         | 644/10570 [02:02<20:10,  8.20it/s]"
     ]
    },
    {
     "name": "stdout",
     "output_type": "stream",
     "text": [
      "Question:  What two radio stations in Denver carried Super Bowl 50?\n",
      "Answer:  KOA (850 AM) and KRFX (103.5 FM) ------- Our Answer:  the Westwood One feed the game\n"
     ]
    },
    {
     "name": "stderr",
     "output_type": "stream",
     "text": [
      "  6%|▌         | 646/10570 [02:02<27:00,  6.12it/s]"
     ]
    },
    {
     "name": "stdout",
     "output_type": "stream",
     "text": [
      "Question:  What radio station in South Carolina carried the Super Bowl 50 game?\n",
      "Answer:  WBT-FM (99.3 FM) ------- Our Answer:  the Westwood One feed the game\n",
      "Question:  What BBC radio station will carry the game in the United Kingdom?\n",
      "Answer:  BBC Radio 5 ------- Our Answer:  its own British English broadcast\n"
     ]
    },
    {
     "name": "stderr",
     "output_type": "stream",
     "text": [
      "  6%|▌         | 649/10570 [02:02<22:31,  7.34it/s]"
     ]
    },
    {
     "name": "stdout",
     "output_type": "stream",
     "text": [
      "Question:  What British TV network will carry the Super Bowl?\n",
      "Answer:  BBC ------- Our Answer:  its own British English broadcast\n"
     ]
    },
    {
     "name": "stderr",
     "output_type": "stream",
     "text": [
      "  6%|▌         | 652/10570 [02:03<22:28,  7.36it/s]"
     ]
    },
    {
     "name": "stdout",
     "output_type": "stream",
     "text": [
      "Question:  What player won the MVP in Super Bowl V?\n",
      "Answer:  Chuck Howley ------- Our Answer:  Peyton Manning ( MVP of Super Bowl XLI and current Broncos quarterback )\n"
     ]
    },
    {
     "name": "stderr",
     "output_type": "stream",
     "text": [
      "  6%|▋         | 668/10570 [02:04<13:53, 11.88it/s]"
     ]
    },
    {
     "name": "stdout",
     "output_type": "stream",
     "text": [
      "Question:  What award has Marlee Matlin won?\n",
      "Answer:  Academy Award ------- Our Answer:  American Sign Language (ASL) translation\n",
      "Question:  What did Marlee Matlin translate?\n",
      "Answer:  the national anthem ------- Our Answer:  American Sign Language (ASL) translation\n"
     ]
    },
    {
     "name": "stderr",
     "output_type": "stream",
     "text": [
      "  6%|▋         | 672/10570 [02:04<13:23, 12.32it/s]"
     ]
    },
    {
     "name": "stdout",
     "output_type": "stream",
     "text": [
      "Question:  What actress did the ASL translation for the game?\n",
      "Answer:  Marlee Matlin ------- Our Answer:  American Sign Language (ASL) translation\n",
      "Question:  What actor did sign language for the National Anthem at Superbowl 50?\n",
      "Answer:  Marlee Matlin ------- Our Answer:  American Sign Language (ASL) translation\n"
     ]
    },
    {
     "name": "stderr",
     "output_type": "stream",
     "text": [
      "  6%|▋         | 677/10570 [02:05<14:00, 11.76it/s]"
     ]
    },
    {
     "name": "stdout",
     "output_type": "stream",
     "text": [
      "Question:  What nationality is the band Coldplay?\n",
      "Answer:  British ------- Our Answer:  the show\n"
     ]
    },
    {
     "name": "stderr",
     "output_type": "stream",
     "text": [
      "  6%|▋         | 679/10570 [02:06<25:05,  6.57it/s]"
     ]
    },
    {
     "name": "stdout",
     "output_type": "stream",
     "text": [
      "Question:  What was the name of the single that Coldplay and Beyoncé collaborated on?\n",
      "Answer:  \"Hymn for the Weekend\" ------- Our Answer:  an appearance\n"
     ]
    },
    {
     "name": "stderr",
     "output_type": "stream",
     "text": [
      "  6%|▋         | 681/10570 [02:06<27:55,  5.90it/s]"
     ]
    },
    {
     "name": "stdout",
     "output_type": "stream",
     "text": [
      "Question:  What previous Super Bowl halftime show did Bruno Mars headline?\n",
      "Answer:  Super Bowl XLVIII ------- Our Answer:  an appearance\n"
     ]
    },
    {
     "name": "stderr",
     "output_type": "stream",
     "text": [
      "  6%|▋         | 682/10570 [02:07<41:32,  3.97it/s]"
     ]
    },
    {
     "name": "stdout",
     "output_type": "stream",
     "text": [
      "Question:  What company confirmed that Beyoncé would participate in the Super Bowl 50 halftime show?\n",
      "Answer:  Pepsi ------- Our Answer:  that Beyoncé , who headlined the Super Bowl XLVII halftime show and collaborated with Coldplay on the single \"Hymn for the Weekend \" , would be making an appearance\n"
     ]
    },
    {
     "name": "stderr",
     "output_type": "stream",
     "text": [
      "  6%|▋         | 683/10570 [02:08<57:43,  2.86it/s]"
     ]
    },
    {
     "name": "stdout",
     "output_type": "stream",
     "text": [
      "Question:  What song did Coldplay and Beyoncé collaborate on for the Super Bowl 50 halftime show?\n",
      "Answer:  \"Hymn for the Weekend\" ------- Our Answer:  an appearance\n"
     ]
    },
    {
     "name": "stderr",
     "output_type": "stream",
     "text": [
      "  6%|▋         | 687/10570 [02:08<41:07,  4.01it/s]"
     ]
    },
    {
     "name": "stdout",
     "output_type": "stream",
     "text": [
      "Question:  What other former halftime show performer joined Coldplay and Beyoncé for the Super Bowl 50 halftime show?\n",
      "Answer:  Bruno Mars ------- Our Answer:  an appearance\n"
     ]
    },
    {
     "name": "stderr",
     "output_type": "stream",
     "text": [
      "  7%|▋         | 688/10570 [02:09<49:32,  3.32it/s]"
     ]
    },
    {
     "name": "stdout",
     "output_type": "stream",
     "text": [
      "Question:  What team received the opening kickoff?\n",
      "Answer:  Denver ------- Our Answer:  an 18-yard pass Owen Daniels and a 22-yard throw to receiver Andre Caldwell\n"
     ]
    },
    {
     "name": "stderr",
     "output_type": "stream",
     "text": [
      "  7%|▋         | 706/10570 [02:10<20:18,  8.10it/s]"
     ]
    },
    {
     "name": "stdout",
     "output_type": "stream",
     "text": [
      "Question:  What Super Bowl was the last where a fumble was returned for a touchdown?\n",
      "Answer:  Super Bowl XXVIII ------- Our Answer:  the ball\n"
     ]
    },
    {
     "name": "stderr",
     "output_type": "stream",
     "text": [
      "  7%|▋         | 708/10570 [02:11<24:50,  6.62it/s]"
     ]
    },
    {
     "name": "stdout",
     "output_type": "stream",
     "text": [
      "Question:  What analyst did not agree with the ruling of the incomplete pass?\n",
      "Answer:  Mike Carey ------- Our Answer:  the ball\n"
     ]
    },
    {
     "name": "stderr",
     "output_type": "stream",
     "text": [
      "  7%|▋         | 729/10570 [02:12<10:17, 15.93it/s]"
     ]
    },
    {
     "name": "stdout",
     "output_type": "stream",
     "text": [
      "Question:  What position does Danny Trevathan play?\n",
      "Answer:  linebacker ------- Our Answer:  a fumble\n"
     ]
    },
    {
     "name": "stderr",
     "output_type": "stream",
     "text": [
      "  7%|▋         | 745/10570 [02:12<09:41, 16.90it/s]"
     ]
    },
    {
     "name": "stdout",
     "output_type": "stream",
     "text": [
      "Question:  What kicker was successful on a 33-yard field goal?\n",
      "Answer:  McManus ------- Our Answer:  the uprights\n"
     ]
    },
    {
     "name": "stderr",
     "output_type": "stream",
     "text": [
      "  7%|▋         | 762/10570 [02:14<12:24, 13.17it/s]"
     ]
    },
    {
     "name": "stdout",
     "output_type": "stream",
     "text": [
      "Question:  What did the next three drives result in?\n",
      "Answer:  punts. ------- Our Answer:  the ball\n",
      "Question:  What is the last name of the player who bumped the ball away from Manning in the fourth quarter of Super Bowl 50?\n",
      "Answer:  Ealy ------- Our Answer:  the ball\n"
     ]
    },
    {
     "name": "stderr",
     "output_type": "stream",
     "text": [
      "  7%|▋         | 764/10570 [02:15<17:50,  9.16it/s]"
     ]
    },
    {
     "name": "stdout",
     "output_type": "stream",
     "text": [
      "Question:  What yard line was the Broncos on when Manning lost the ball in the fourth quarter?\n",
      "Answer:  50-yard line. ------- Our Answer:  the ball\n"
     ]
    },
    {
     "name": "stderr",
     "output_type": "stream",
     "text": [
      "  7%|▋         | 769/10570 [02:16<20:40,  7.90it/s]"
     ]
    },
    {
     "name": "stdout",
     "output_type": "stream",
     "text": [
      "Question:  What Panther defender was called for holding on third down?\n",
      "Answer:  Josh Norman ------- Our Answer:  Denver's offense\n"
     ]
    },
    {
     "name": "stderr",
     "output_type": "stream",
     "text": [
      "  7%|▋         | 771/10570 [02:17<27:20,  5.97it/s]"
     ]
    },
    {
     "name": "stdout",
     "output_type": "stream",
     "text": [
      "Question:  What player punched the ball in from the 2?\n",
      "Answer:  Anderson ------- Our Answer:  the ball\n"
     ]
    },
    {
     "name": "stderr",
     "output_type": "stream",
     "text": [
      "  7%|▋         | 777/10570 [02:18<30:26,  5.36it/s]"
     ]
    },
    {
     "name": "stdout",
     "output_type": "stream",
     "text": [
      "Question:  What was the time on the clock when Carolina got the ball to their 24-yard line in the fourth quarter?\n",
      "Answer:  4:51 ------- Our Answer:  the ball\n"
     ]
    },
    {
     "name": "stderr",
     "output_type": "stream",
     "text": [
      "  7%|▋         | 778/10570 [02:20<44:26,  3.67it/s]"
     ]
    },
    {
     "name": "stdout",
     "output_type": "stream",
     "text": [
      "Question:  What was the last name of the player who took the ball away from Newton late in the fourth quarter?\n",
      "Answer:  Miller ------- Our Answer:  a long bounce\n"
     ]
    },
    {
     "name": "stderr",
     "output_type": "stream",
     "text": [
      "  7%|▋         | 779/10570 [02:21<1:06:33,  2.45it/s]"
     ]
    },
    {
     "name": "stdout",
     "output_type": "stream",
     "text": [
      "Question:  What is the last name of the player who finally recovered the ball Newton lost in the fourth quarter?\n",
      "Answer:  wards ------- Our Answer:  a long bounce\n"
     ]
    },
    {
     "name": "stderr",
     "output_type": "stream",
     "text": [
      "  7%|▋         | 781/10570 [02:23<1:15:29,  2.16it/s]"
     ]
    },
    {
     "name": "stdout",
     "output_type": "stream",
     "text": [
      "Question:  What is the last name of the player who scored a 2-yard touchdown in the fourth quarter?\n",
      "Answer:  Anderson ------- Our Answer:  Newton\n"
     ]
    },
    {
     "name": "stderr",
     "output_type": "stream",
     "text": [
      "  7%|▋         | 785/10570 [02:24<1:04:05,  2.54it/s]"
     ]
    },
    {
     "name": "stdout",
     "output_type": "stream",
     "text": [
      "Question:  What player played in the Super Bowl after breaking his arm two weeks before?\n",
      "Answer:  Thomas Davis ------- Our Answer:  11 total tackles seven\n"
     ]
    },
    {
     "name": "stderr",
     "output_type": "stream",
     "text": [
      "  7%|▋         | 792/10570 [02:25<43:58,  3.71it/s]  "
     ]
    },
    {
     "name": "stdout",
     "output_type": "stream",
     "text": [
      "Question:  What is the last name of the player who was Manning's top receiver for Super Bowl 50?\n",
      "Answer:  Sanders ------- Our Answer:  the game's leading rusher with 90 yards and a touchdown\n"
     ]
    },
    {
     "name": "stderr",
     "output_type": "stream",
     "text": [
      "  8%|▊         | 793/10570 [02:26<54:26,  2.99it/s]"
     ]
    },
    {
     "name": "stdout",
     "output_type": "stream",
     "text": [
      "Question:  What is th elast name of the player who was the Super Bowl 50 winner's leading rusher?\n",
      "Answer:  Anderson ------- Our Answer:  the game's leading rusher with 90 yards and a touchdown\n"
     ]
    },
    {
     "name": "stderr",
     "output_type": "stream",
     "text": [
      "  8%|▊         | 799/10570 [02:27<44:59,  3.62it/s]"
     ]
    },
    {
     "name": "stdout",
     "output_type": "stream",
     "text": [
      "Question:  What team had 244 yards in Super Bowl XXXV?\n",
      "Answer:  Baltimore Ravens ------- Our Answer:  less than 200 yards\n"
     ]
    },
    {
     "name": "stderr",
     "output_type": "stream",
     "text": [
      "  8%|▊         | 808/10570 [02:28<33:21,  4.88it/s]"
     ]
    },
    {
     "name": "stdout",
     "output_type": "stream",
     "text": [
      "Question:  What team had the lowest downs and yards ever in the Super Bowl as of Super Bowl 50?\n",
      "Answer:  The Broncos ------- Our Answer:  less than 200 yards\n"
     ]
    },
    {
     "name": "stderr",
     "output_type": "stream",
     "text": [
      "  8%|▊         | 809/10570 [02:29<45:02,  3.61it/s]"
     ]
    },
    {
     "name": "stdout",
     "output_type": "stream",
     "text": [
      "Question:  What team di the Broncos tie a Super Bowl record for in sacks?\n",
      "Answer:  Chicago Bears ------- Our Answer:  a Super Bowl record\n"
     ]
    },
    {
     "name": "stderr",
     "output_type": "stream",
     "text": [
      "  8%|▊         | 812/10570 [02:30<45:14,  3.60it/s]"
     ]
    },
    {
     "name": "stdout",
     "output_type": "stream",
     "text": [
      "Question:  What year was Casimir Pulaski born in Warsaw?\n",
      "Answer:  1745 ------- Our Answer:  seven months old\n"
     ]
    },
    {
     "name": "stderr",
     "output_type": "stream",
     "text": [
      "  8%|▊         | 817/10570 [02:31<40:45,  3.99it/s]"
     ]
    },
    {
     "name": "stdout",
     "output_type": "stream",
     "text": [
      "Question:  What is a popular strolling destination for the Varsovians?\n",
      "Answer:  Krasiński Palace Garden ------- Our Answer:  over 100 different species of trees a place to sit and relax\n"
     ]
    },
    {
     "name": "stderr",
     "output_type": "stream",
     "text": [
      "  8%|▊         | 818/10570 [02:32<56:13,  2.89it/s]"
     ]
    },
    {
     "name": "stdout",
     "output_type": "stream",
     "text": [
      "Question:  What garden was formally only for royalty?\n",
      "Answer:  The Saxon Garden ------- Our Answer:  a royal garden\n"
     ]
    },
    {
     "name": "stderr",
     "output_type": "stream",
     "text": [
      "  8%|▊         | 820/10570 [02:33<1:03:31,  2.56it/s]"
     ]
    },
    {
     "name": "stdout",
     "output_type": "stream",
     "text": [
      "Question:  What park covers an area of 76 ha.?\n",
      "Answer:  Łazienki ------- Our Answer:  the area of 43 ha\n"
     ]
    },
    {
     "name": "stderr",
     "output_type": "stream",
     "text": [
      "  8%|▊         | 822/10570 [02:34<55:34,  2.92it/s]  "
     ]
    },
    {
     "name": "stdout",
     "output_type": "stream",
     "text": [
      "Question:  What animals does the Vistula river's ecosystem include?\n",
      "Answer:  otter, beaver and hundreds of bird species ------- Our Answer:  the otter , beaver and hundreds of bird species\n"
     ]
    },
    {
     "name": "stderr",
     "output_type": "stream",
     "text": [
      "  8%|▊         | 829/10570 [02:35<39:23,  4.12it/s]"
     ]
    },
    {
     "name": "stdout",
     "output_type": "stream",
     "text": [
      "Question:  What percentage of the population of Warsaw was Jewish in 1897?\n",
      "Answer:  around 34% ------- Our Answer:  the most diverse city in Poland\n",
      "Question:  What was there a significant minority of in Warsaw?\n",
      "Answer:  Jewish ------- Our Answer:  219,000 ( around 34% percent\n"
     ]
    },
    {
     "name": "stderr",
     "output_type": "stream",
     "text": [
      "  8%|▊         | 830/10570 [02:35<46:14,  3.51it/s]"
     ]
    },
    {
     "name": "stdout",
     "output_type": "stream",
     "text": [
      "Question:  What is most of Warsaw's modern growth based on?\n",
      "Answer:  migration and urbanisation ------- Our Answer:  the most diverse city in Poland\n"
     ]
    },
    {
     "name": "stderr",
     "output_type": "stream",
     "text": [
      "  8%|▊         | 831/10570 [02:36<54:49,  2.96it/s]"
     ]
    },
    {
     "name": "stdout",
     "output_type": "stream",
     "text": [
      "Question:  What is the second academic school of technology in Poland?\n",
      "Answer:  Warsaw University of Technology ------- Our Answer:  the second academic school of technology in the country\n"
     ]
    },
    {
     "name": "stderr",
     "output_type": "stream",
     "text": [
      "  8%|▊         | 833/10570 [02:36<47:58,  3.38it/s]"
     ]
    },
    {
     "name": "stdout",
     "output_type": "stream",
     "text": [
      "Question:  What is the largest medical school in Poland?\n",
      "Answer:  Medical University of Warsaw ------- Our Answer:  the second academic school of technology in the country\n"
     ]
    },
    {
     "name": "stderr",
     "output_type": "stream",
     "text": [
      "  8%|▊         | 835/10570 [02:37<54:14,  2.99it/s]"
     ]
    },
    {
     "name": "stdout",
     "output_type": "stream",
     "text": [
      "Question:  What is one of the largest music schools in Europe?\n",
      "Answer:  Fryderyk Chopin University of Music ------- Our Answer:  the second academic school of technology in the country\n"
     ]
    },
    {
     "name": "stderr",
     "output_type": "stream",
     "text": [
      "  8%|▊         | 838/10570 [02:38<39:33,  4.10it/s]"
     ]
    },
    {
     "name": "stdout",
     "output_type": "stream",
     "text": [
      "Question:  What profession does Zbigniew Badowski have?\n",
      "Answer:  architects ------- Our Answer:  The building\n"
     ]
    },
    {
     "name": "stderr",
     "output_type": "stream",
     "text": [
      "  8%|▊         | 841/10570 [02:38<32:45,  4.95it/s]"
     ]
    },
    {
     "name": "stdout",
     "output_type": "stream",
     "text": [
      "Question:  What suffered considerably for Warsaw when it had an Eastern Bloc economy?\n",
      "Answer:  infrastructure ------- Our Answer:  many improvements due to solid economic growth , an increase in foreign investment as well as funding from the European Union\n"
     ]
    },
    {
     "name": "stderr",
     "output_type": "stream",
     "text": [
      "  8%|▊         | 847/10570 [02:39<32:11,  5.03it/s]"
     ]
    },
    {
     "name": "stdout",
     "output_type": "stream",
     "text": [
      "Question:  What is one of the largest and most modern oncological institutions in Europe?\n",
      "Answer:  Maria Skłodowska-Curie Institute of Oncology ------- Our Answer:  home to the Children's Memorial Health Institute ( CMHI ) , the highest-reference hospital in all of Poland , as well as an active research and education center one of the largest and most modern oncological institutions in East-Central Europe\n"
     ]
    },
    {
     "name": "stderr",
     "output_type": "stream",
     "text": [
      "  8%|▊         | 850/10570 [02:40<33:00,  4.91it/s]"
     ]
    },
    {
     "name": "stdout",
     "output_type": "stream",
     "text": [
      "Question:  What has the infrastructure done a lot of over the past years?\n",
      "Answer:  developed ------- Our Answer:  a lot\n",
      "Question:  What type of venue is the Teatr Wielki?\n",
      "Answer:  musical ------- Our Answer:  many events and festivals\n"
     ]
    },
    {
     "name": "stderr",
     "output_type": "stream",
     "text": [
      "  8%|▊         | 855/10570 [02:40<23:41,  6.83it/s]"
     ]
    },
    {
     "name": "stdout",
     "output_type": "stream",
     "text": [
      "Question:  What is the Saxon Garden in Polish?\n",
      "Answer:  Ogród Saski ------- Our Answer:  the best example of \"Polish monumental theatre\n"
     ]
    },
    {
     "name": "stderr",
     "output_type": "stream",
     "text": [
      "  8%|▊         | 858/10570 [02:41<20:42,  7.82it/s]"
     ]
    },
    {
     "name": "stdout",
     "output_type": "stream",
     "text": [
      "Question:  What was Warsaw's first literary cabaret?\n",
      "Answer:  Momus ------- Our Answer:  the best example of \"Polish monumental theatre\n"
     ]
    },
    {
     "name": "stderr",
     "output_type": "stream",
     "text": [
      "  8%|▊         | 859/10570 [02:41<25:30,  6.35it/s]"
     ]
    },
    {
     "name": "stdout",
     "output_type": "stream",
     "text": [
      "Question:  What theatre was the best example of \"Polish monumental theatre\"?\n",
      "Answer:  Wojciech Bogusławski Theatre ------- Our Answer:  the best example of \"Polish monumental theatre\n"
     ]
    },
    {
     "name": "stderr",
     "output_type": "stream",
     "text": [
      "c:\\Users\\zisak\\anaconda3\\Lib\\site-packages\\coreferee\\tendencies.py:319: UserWarning: [W008] Evaluating Lexeme.similarity based on empty vectors.\n",
      "  referred_head_lexeme.similarity(referring_head_lexeme)\n",
      "  8%|▊         | 860/10570 [02:42<41:21,  3.91it/s]"
     ]
    },
    {
     "name": "stdout",
     "output_type": "stream",
     "text": [
      "Question:  What is the polish word for wreaths?\n",
      "Answer:  Wianki ------- Our Answer:  musical performances , dignitaries' speeches , fairs and fireworks by the river bank\n"
     ]
    },
    {
     "name": "stderr",
     "output_type": "stream",
     "text": [
      "c:\\Users\\zisak\\anaconda3\\Lib\\site-packages\\coreferee\\tendencies.py:319: UserWarning: [W008] Evaluating Lexeme.similarity based on empty vectors.\n",
      "  referred_head_lexeme.similarity(referring_head_lexeme)\n",
      "  8%|▊         | 863/10570 [02:42<39:38,  4.08it/s]"
     ]
    },
    {
     "name": "stdout",
     "output_type": "stream",
     "text": [
      "Question:  What will maidens be able to predict by floating their wreaths down the Vistula?\n",
      "Answer:  when they would be married ------- Our Answer:  musical performances , dignitaries' speeches , fairs and fireworks by the river bank\n"
     ]
    },
    {
     "name": "stderr",
     "output_type": "stream",
     "text": [
      "c:\\Users\\zisak\\anaconda3\\Lib\\site-packages\\coreferee\\tendencies.py:319: UserWarning: [W008] Evaluating Lexeme.similarity based on empty vectors.\n",
      "  referred_head_lexeme.similarity(referring_head_lexeme)\n",
      "  8%|▊         | 864/10570 [02:43<53:13,  3.04it/s]"
     ]
    },
    {
     "name": "stdout",
     "output_type": "stream",
     "text": [
      "Question:  What type of flower is sought on Midsummer's Eve?\n",
      "Answer:  the fern ------- Our Answer:  their wreaths\n"
     ]
    },
    {
     "name": "stderr",
     "output_type": "stream",
     "text": [
      "  8%|▊         | 865/10570 [02:43<52:43,  3.07it/s]"
     ]
    },
    {
     "name": "stdout",
     "output_type": "stream",
     "text": [
      "Question:  What does the world's first Museum of Posters have one of the largest collections of in the world?\n",
      "Answer:  art posters ------- Our Answer:  the history of arms\n"
     ]
    },
    {
     "name": "stderr",
     "output_type": "stream",
     "text": [
      "  8%|▊         | 868/10570 [02:44<36:41,  4.41it/s]"
     ]
    },
    {
     "name": "stdout",
     "output_type": "stream",
     "text": [
      "Question:  What does the National Museum boast having from Adolf Hitler's private collection?\n",
      "Answer:  some paintings ------- Our Answer:  the history of arms\n"
     ]
    },
    {
     "name": "stderr",
     "output_type": "stream",
     "text": [
      "  8%|▊         | 872/10570 [02:45<40:14,  4.02it/s]"
     ]
    },
    {
     "name": "stdout",
     "output_type": "stream",
     "text": [
      "Question:  What museum preserves the memory of the crime?\n",
      "Answer:  Katyń ------- Our Answer:  patriotic and political objects connected with Poland's struggles for independence\n",
      "Question:  What type of theatre is the Warsaw Fotoplastikon?\n",
      "Answer:  stereoscopic ------- Our Answer:  a permanent exhibition of the history of Warsaw\n"
     ]
    },
    {
     "name": "stderr",
     "output_type": "stream",
     "text": [
      "  8%|▊         | 875/10570 [02:45<30:59,  5.21it/s]"
     ]
    },
    {
     "name": "stdout",
     "output_type": "stream",
     "text": [
      "Question:  What castle currently houses the Centre for Contemporary Art?\n",
      "Answer:  Royal Ujazdów Castle ------- Our Answer:  Centre for Contemporary Art\n"
     ]
    },
    {
     "name": "stderr",
     "output_type": "stream",
     "text": [
      "  8%|▊         | 877/10570 [02:46<31:53,  5.07it/s]"
     ]
    },
    {
     "name": "stdout",
     "output_type": "stream",
     "text": [
      "Question:  What is the oldest exhibition site in Warsaw?\n",
      "Answer:  Zachęta National Gallery of Art ------- Our Answer:  about 500 projects a year\n"
     ]
    },
    {
     "name": "stderr",
     "output_type": "stream",
     "text": [
      "  8%|▊         | 885/10570 [02:46<17:08,  9.41it/s]"
     ]
    },
    {
     "name": "stdout",
     "output_type": "stream",
     "text": [
      "Question:  What is polish for \"mermaid\"?\n",
      "Answer:  syrenka ------- Our Answer:  Warsaw's symbol\n"
     ]
    },
    {
     "name": "stderr",
     "output_type": "stream",
     "text": [
      "  8%|▊         | 887/10570 [02:47<18:10,  8.88it/s]"
     ]
    },
    {
     "name": "stdout",
     "output_type": "stream",
     "text": [
      "Question:  What is Warsaw's symbol?\n",
      "Answer:  The mermaid ------- Our Answer:  Warsaw's symbol\n"
     ]
    },
    {
     "name": "stderr",
     "output_type": "stream",
     "text": [
      "  8%|▊         | 889/10570 [02:47<20:28,  7.88it/s]"
     ]
    },
    {
     "name": "stdout",
     "output_type": "stream",
     "text": [
      "Question:  What does the sea monster with a female upper body hold in its claws?\n",
      "Answer:  a sword ------- Our Answer:  Warsaw's symbol\n"
     ]
    },
    {
     "name": "stderr",
     "output_type": "stream",
     "text": [
      "  8%|▊         | 890/10570 [02:48<30:08,  5.35it/s]"
     ]
    },
    {
     "name": "stdout",
     "output_type": "stream",
     "text": [
      "Question:  What did Artur Oppman give to the world?\n",
      "Answer:  legend ------- Our Answer:  to rest on a sandy beach by the village of Warszowa , where fishermen came to admire her beauty and listen to her beautiful voice\n"
     ]
    },
    {
     "name": "stderr",
     "output_type": "stream",
     "text": [
      "  8%|▊         | 894/10570 [02:48<27:42,  5.82it/s]"
     ]
    },
    {
     "name": "stdout",
     "output_type": "stream",
     "text": [
      "Question:  What did a greedy merchant do to the mermaid?\n",
      "Answer:  captured ------- Our Answer:  her songs\n"
     ]
    },
    {
     "name": "stderr",
     "output_type": "stream",
     "text": [
      "  8%|▊         | 897/10570 [02:49<29:17,  5.51it/s]"
     ]
    },
    {
     "name": "stdout",
     "output_type": "stream",
     "text": [
      "Question:  What did Lempicka represent better than anyone else?\n",
      "Answer:  the Art Deco style ------- Our Answer:  a famous artist born in Warsaw\n"
     ]
    },
    {
     "name": "stderr",
     "output_type": "stream",
     "text": [
      "  8%|▊         | 898/10570 [02:49<32:16,  5.00it/s]"
     ]
    },
    {
     "name": "stdout",
     "output_type": "stream",
     "text": [
      "Question:  What profession was Nathan Alterman?\n",
      "Answer:  poet ------- Our Answer:  No_Answer_Found\n"
     ]
    },
    {
     "name": "stderr",
     "output_type": "stream",
     "text": [
      "  9%|▊         | 902/10570 [02:50<31:35,  5.10it/s]"
     ]
    },
    {
     "name": "stdout",
     "output_type": "stream",
     "text": [
      "Question:  What is Warsaw's economy characterized by?\n",
      "Answer:  wide variety of industries ------- Our Answer:  one of the largest and most important in Central and Eastern Europe\n"
     ]
    },
    {
     "name": "stderr",
     "output_type": "stream",
     "text": [
      "  9%|▊         | 903/10570 [02:50<34:04,  4.73it/s]"
     ]
    },
    {
     "name": "stdout",
     "output_type": "stream",
     "text": [
      "Question:  What exchange in Warsaw is one of the most important for Central and Eastern Europe?\n",
      "Answer:  Stock ------- Our Answer:  Warsaw's economy\n"
     ]
    },
    {
     "name": "stderr",
     "output_type": "stream",
     "text": [
      "  9%|▊         | 904/10570 [02:51<47:19,  3.40it/s]"
     ]
    },
    {
     "name": "stdout",
     "output_type": "stream",
     "text": [
      "Question:  What is the name of the European Union agency for external border security?\n",
      "Answer:  Frontex ------- Our Answer:  one of the cities with the highest number of skyscrapers in the European Union\n"
     ]
    },
    {
     "name": "stderr",
     "output_type": "stream",
     "text": [
      "  9%|▊         | 906/10570 [02:52<1:09:05,  2.33it/s]"
     ]
    },
    {
     "name": "stdout",
     "output_type": "stream",
     "text": [
      "Question:  What city served as Poland's capital in 1313?\n",
      "Answer:  Kraków ------- Our Answer:  the official capital of the Grand Duchy of Warsaw , a puppet state of the First French Empire established by Napoleon Bonaparte\n"
     ]
    },
    {
     "name": "stderr",
     "output_type": "stream",
     "text": [
      "  9%|▊         | 910/10570 [02:53<41:58,  3.84it/s]  "
     ]
    },
    {
     "name": "stdout",
     "output_type": "stream",
     "text": [
      "Question:  What archdiocese is Warsaw the seat of?\n",
      "Answer:  Roman Catholic ------- Our Answer:  examples of nearly every European architectural style and historical period\n"
     ]
    },
    {
     "name": "stderr",
     "output_type": "stream",
     "text": [
      "  9%|▊         | 911/10570 [02:53<50:12,  3.21it/s]"
     ]
    },
    {
     "name": "stdout",
     "output_type": "stream",
     "text": [
      "Question:  What is another notable university in Warsaw after the University of Warsaw?\n",
      "Answer:  Polish Academy of Sciences ------- Our Answer:  many examples of architecture\n"
     ]
    },
    {
     "name": "stderr",
     "output_type": "stream",
     "text": [
      "  9%|▊         | 912/10570 [02:54<59:56,  2.69it/s]"
     ]
    },
    {
     "name": "stdout",
     "output_type": "stream",
     "text": [
      "Question:  What was Warsaw's Old Town listed as in 1980?\n",
      "Answer:  a UNESCO World Heritage Site ------- Our Answer:  many examples of architecture\n"
     ]
    },
    {
     "name": "stderr",
     "output_type": "stream",
     "text": [
      "  9%|▊         | 914/10570 [02:54<55:42,  2.89it/s]"
     ]
    },
    {
     "name": "stdout",
     "output_type": "stream",
     "text": [
      "Question:  What is a quarter of Warsaw filled with?\n",
      "Answer:  luxurious parks and royal gardens ------- Our Answer:  many examples of architecture\n"
     ]
    },
    {
     "name": "stderr",
     "output_type": "stream",
     "text": [
      "  9%|▊         | 916/10570 [02:56<1:11:43,  2.24it/s]"
     ]
    },
    {
     "name": "stdout",
     "output_type": "stream",
     "text": [
      "Question:  What does Warszawa mean in Polish?\n",
      "Answer:  belonging to Warsz ------- Our Answer:  a shortened form of the masculine name of Slavic origin a 12th/13th-century nobleman who owned a village located at the modern-day site of Mariensztat neighbourhood\n"
     ]
    },
    {
     "name": "stderr",
     "output_type": "stream",
     "text": [
      "  9%|▊         | 919/10570 [02:57<1:11:10,  2.26it/s]"
     ]
    },
    {
     "name": "stdout",
     "output_type": "stream",
     "text": [
      "Question:  What is the full official city name of Warsaw?\n",
      "Answer:  miasto stołeczne Warszawa ------- Our Answer:  Warszawa , approximately\n"
     ]
    },
    {
     "name": "stderr",
     "output_type": "stream",
     "text": [
      "c:\\Users\\zisak\\anaconda3\\Lib\\site-packages\\coreferee\\tendencies.py:319: UserWarning: [W008] Evaluating Lexeme.similarity based on empty vectors.\n",
      "  referred_head_lexeme.similarity(referring_head_lexeme)\n",
      "  9%|▉         | 927/10570 [02:58<32:39,  4.92it/s]  "
     ]
    },
    {
     "name": "stdout",
     "output_type": "stream",
     "text": [
      "Question:  What did the Warsaw Confederation formally establish in 1573?\n",
      "Answer:  religious freedom ------- Our Answer:  its name to the Warsaw Confederation\n"
     ]
    },
    {
     "name": "stderr",
     "output_type": "stream",
     "text": [
      "  9%|▉         | 931/10570 [02:59<40:55,  3.93it/s]"
     ]
    },
    {
     "name": "stdout",
     "output_type": "stream",
     "text": [
      "Question:  What kingdom annexed Warsaw in 1796?\n",
      "Answer:  Prussia ------- Our Answer:  the capital of the Polish – Lithuanian Commonwealth\n"
     ]
    },
    {
     "name": "stderr",
     "output_type": "stream",
     "text": [
      "  9%|▉         | 936/10570 [03:00<31:25,  5.11it/s]"
     ]
    },
    {
     "name": "stdout",
     "output_type": "stream",
     "text": [
      "Question:  What did Article 12 of the Allied Armistice terms require Germany to withdraw from?\n",
      "Answer:  areas controlled by Russia in 1914 ------- Our Answer:  that\n"
     ]
    },
    {
     "name": "stderr",
     "output_type": "stream",
     "text": [
      "  9%|▉         | 945/10570 [03:01<26:38,  6.02it/s]"
     ]
    },
    {
     "name": "stdout",
     "output_type": "stream",
     "text": [
      "Question:  What army was pushing deep into Polish territory to pursue the Germans in 1944?\n",
      "Answer:  the Red Army ------- Our Answer:  the city\n"
     ]
    },
    {
     "name": "stderr",
     "output_type": "stream",
     "text": [
      "  9%|▉         | 949/10570 [03:02<26:43,  6.00it/s]"
     ]
    },
    {
     "name": "stdout",
     "output_type": "stream",
     "text": [
      "Question:  What is the estimated death toll for Polish civilians? \n",
      "Answer:  between 150,000 and 200,000 ------- Our Answer:  partially successful\n"
     ]
    },
    {
     "name": "stderr",
     "output_type": "stream",
     "text": [
      "  9%|▉         | 950/10570 [03:03<31:30,  5.09it/s]"
     ]
    },
    {
     "name": "stdout",
     "output_type": "stream",
     "text": [
      "Question:  What campaign did the Communist regime initiate after WWII?\n",
      "Answer:  \"Bricks for Warsaw\" ------- Our Answer:  the \" Bricks for Warsaw \" campaign\n"
     ]
    },
    {
     "name": "stderr",
     "output_type": "stream",
     "text": [
      "  9%|▉         | 952/10570 [03:04<42:51,  3.74it/s]"
     ]
    },
    {
     "name": "stdout",
     "output_type": "stream",
     "text": [
      "Question:  What were the structures built by the Soviets typical of?\n",
      "Answer:  an Eastern Bloc city ------- Our Answer:  the \" Bricks for Warsaw \" campaign\n"
     ]
    },
    {
     "name": "stderr",
     "output_type": "stream",
     "text": [
      "  9%|▉         | 953/10570 [03:04<47:38,  3.36it/s]"
     ]
    },
    {
     "name": "stdout",
     "output_type": "stream",
     "text": [
      "Question:  What building was a gift from the Soviet Union?\n",
      "Answer:  Palace of Culture and Science ------- Our Answer:  large prefabricated housing projects\n"
     ]
    },
    {
     "name": "stderr",
     "output_type": "stream",
     "text": [
      "  9%|▉         | 954/10570 [03:05<1:00:23,  2.65it/s]"
     ]
    },
    {
     "name": "stdout",
     "output_type": "stream",
     "text": [
      "Question:  What list was Warsaw's Old Town inscribed onto in 1980?\n",
      "Answer:  UNESCO's World Heritage list ------- Our Answer:  Warsaw's historic Old Town\n"
     ]
    },
    {
     "name": "stderr",
     "output_type": "stream",
     "text": [
      "  9%|▉         | 955/10570 [03:05<59:26,  2.70it/s]  "
     ]
    },
    {
     "name": "stdout",
     "output_type": "stream",
     "text": [
      "Question:  What pope as a native of Poland?\n",
      "Answer:  John Paul II ------- Our Answer:  very meaningful\n"
     ]
    },
    {
     "name": "stderr",
     "output_type": "stream",
     "text": [
      "  9%|▉         | 956/10570 [03:06<1:04:53,  2.47it/s]"
     ]
    },
    {
     "name": "stdout",
     "output_type": "stream",
     "text": [
      "Question:  What did John Paul II's visits in 1979 and 1983 encourage?\n",
      "Answer:  growing anti-communist fervor ------- Our Answer:  support\n"
     ]
    },
    {
     "name": "stderr",
     "output_type": "stream",
     "text": [
      "  9%|▉         | 959/10570 [03:06<46:02,  3.48it/s]  "
     ]
    },
    {
     "name": "stdout",
     "output_type": "stream",
     "text": [
      "Question:  What did the Polish citizens understand the subtext of John Paul II's words to be?\n",
      "Answer:  incentive for the democratic changes ------- Our Answer:  These words\n"
     ]
    },
    {
     "name": "stderr",
     "output_type": "stream",
     "text": [
      "  9%|▉         | 962/10570 [03:07<37:15,  4.30it/s]"
     ]
    },
    {
     "name": "stdout",
     "output_type": "stream",
     "text": [
      "Question:  What river does Warsaw straddle?\n",
      "Answer:  Vistula River ------- Our Answer:  The city\n"
     ]
    },
    {
     "name": "stderr",
     "output_type": "stream",
     "text": [
      "  9%|▉         | 966/10570 [03:07<30:23,  5.27it/s]"
     ]
    },
    {
     "name": "stdout",
     "output_type": "stream",
     "text": [
      "Question:  What formation has an asymmetrical pattern of different terraces?\n",
      "Answer:  Vistula Valley ------- Our Answer:  The left one\n"
     ]
    },
    {
     "name": "stderr",
     "output_type": "stream",
     "text": [
      "  9%|▉         | 968/10570 [03:08<44:06,  3.63it/s]"
     ]
    },
    {
     "name": "stdout",
     "output_type": "stream",
     "text": [
      "Question:  What is the axis of Warsaw which divides it into two parts?\n",
      "Answer:  Vistula River ------- Our Answer:  the city\n"
     ]
    },
    {
     "name": "stderr",
     "output_type": "stream",
     "text": [
      "  9%|▉         | 970/10570 [03:09<1:00:05,  2.66it/s]"
     ]
    },
    {
     "name": "stdout",
     "output_type": "stream",
     "text": [
      "Question:  What plateau has groups of clay pits?\n",
      "Answer:  moraine ------- Our Answer:  only a few natural and artificial ponds and also groups of clay pits\n"
     ]
    },
    {
     "name": "stderr",
     "output_type": "stream",
     "text": [
      "  9%|▉         | 971/10570 [03:10<1:06:38,  2.40it/s]"
     ]
    },
    {
     "name": "stdout",
     "output_type": "stream",
     "text": [
      "Question:  What does the highest level of the Vistula plateau contain?\n",
      "Answer:  former flooded terraces ------- Our Answer:  asymmetrical\n"
     ]
    },
    {
     "name": "stderr",
     "output_type": "stream",
     "text": [
      "  9%|▉         | 974/10570 [03:11<1:03:02,  2.54it/s]"
     ]
    },
    {
     "name": "stdout",
     "output_type": "stream",
     "text": [
      "Question:  What type of forested areas can be found on the highest terrace?\n",
      "Answer:  pine ------- Our Answer:  the highest one contains former flooded terraces and the lowest one the flood plain terrace .\n"
     ]
    },
    {
     "name": "stderr",
     "output_type": "stream",
     "text": [
      "  9%|▉         | 978/10570 [03:12<51:40,  3.09it/s]  "
     ]
    },
    {
     "name": "stdout",
     "output_type": "stream",
     "text": [
      "Question:  What building from the 19th century was destroyed between the 1950s and 1960s?\n",
      "Answer:  Leopold Kronenberg Palace ------- Our Answer:  some of the buildings from the 19th century that had been preserved in reasonably reconstructible form\n"
     ]
    },
    {
     "name": "stderr",
     "output_type": "stream",
     "text": [
      "  9%|▉         | 979/10570 [03:13<55:06,  2.90it/s]"
     ]
    },
    {
     "name": "stdout",
     "output_type": "stream",
     "text": [
      "Question:  What style were the mass constructed residential blocks designed in?\n",
      "Answer:  typical of Eastern bloc countries ------- Our Answer:  the turbulent history of the city and country\n"
     ]
    },
    {
     "name": "stderr",
     "output_type": "stream",
     "text": [
      "  9%|▉         | 984/10570 [03:14<44:03,  3.63it/s]"
     ]
    },
    {
     "name": "stdout",
     "output_type": "stream",
     "text": [
      "Question:  What is the Royal Castle the most interesting example of?\n",
      "Answer:  mannerist architecture ------- Our Answer:  The most significant buildings are St. John's Cathedral ( 14th century ) St. John's Cathedral ( 14th century ) a typical example of the so-called Masovian gothic style St. Mary's Church ( 1411 ) , a town house of Burbach family ( 14th century ) , Gunpowder Tower ( after 1379 ) and the Royal Castle Curia Maior ( 1407–1410 )\n"
     ]
    },
    {
     "name": "stderr",
     "output_type": "stream",
     "text": [
      "  9%|▉         | 987/10570 [03:15<39:51,  4.01it/s]"
     ]
    },
    {
     "name": "stdout",
     "output_type": "stream",
     "text": [
      "Question:  What type of architecture is the Palace of Four Windows an impressive example of?\n",
      "Answer:  rococo ------- Our Answer:  Krasiński Palace ( 1677–1683 ) , Wilanów Palace ( 1677–1696 ) and St. Kazimierz Church ( 1688–1692 )\n"
     ]
    },
    {
     "name": "stderr",
     "output_type": "stream",
     "text": [
      "  9%|▉         | 992/10570 [03:16<37:00,  4.31it/s]"
     ]
    },
    {
     "name": "stdout",
     "output_type": "stream",
     "text": [
      "Question:  What style was the Warsaw Philharmony edifice built in?\n",
      "Answer:  socialist realism ------- Our Answer:  the most interesting of the late 19th-century architecture\n"
     ]
    },
    {
     "name": "stderr",
     "output_type": "stream",
     "text": [
      "  9%|▉         | 993/10570 [03:17<41:38,  3.83it/s]"
     ]
    },
    {
     "name": "stdout",
     "output_type": "stream",
     "text": [
      "Question:  What building is the most interesting of the late 19th-century architecture?\n",
      "Answer:  Warsaw University of Technology building ------- Our Answer:  the most interesting of the late 19th-century architecture\n"
     ]
    },
    {
     "name": "stderr",
     "output_type": "stream",
     "text": [
      "  9%|▉         | 994/10570 [03:17<48:24,  3.30it/s]"
     ]
    },
    {
     "name": "stdout",
     "output_type": "stream",
     "text": [
      "Question:  What were the Saxon Palace and Brühl Palace in prewar Warsaw?\n",
      "Answer:  the most distinctive buildings ------- Our Answer:  the most interesting of the late 19th-century architecture\n"
     ]
    },
    {
     "name": "stderr",
     "output_type": "stream",
     "text": [
      "  9%|▉         | 995/10570 [03:17<51:30,  3.10it/s]"
     ]
    },
    {
     "name": "stdout",
     "output_type": "stream",
     "text": [
      "Question:  What commemorates Warsaw's heroic history?\n",
      "Answer:  many places ------- Our Answer:  the children who served as messengers and frontline troops in the Warsaw Uprising\n"
     ]
    },
    {
     "name": "stderr",
     "output_type": "stream",
     "text": [
      "  9%|▉         | 996/10570 [03:18<54:05,  2.95it/s]"
     ]
    },
    {
     "name": "stdout",
     "output_type": "stream",
     "text": [
      "Question:  What was the name of the infamous German Gestapo prison?\n",
      "Answer:  Pawiak ------- Our Answer:  only the beginning of a walk in the traces of Heroic City\n"
     ]
    },
    {
     "name": "stderr",
     "output_type": "stream",
     "text": [
      "  9%|▉         | 997/10570 [03:18<56:56,  2.80it/s]"
     ]
    },
    {
     "name": "stdout",
     "output_type": "stream",
     "text": [
      "Question:  What fortification was built in the 19th century after the defeat of the November Uprising?\n",
      "Answer:  The Warsaw Citadel ------- Our Answer:  the impressive Warsaw Uprising Monument by Wincenty Kućma\n"
     ]
    },
    {
     "name": "stderr",
     "output_type": "stream",
     "text": [
      "  9%|▉         | 999/10570 [03:19<46:43,  3.41it/s]"
     ]
    },
    {
     "name": "stdout",
     "output_type": "stream",
     "text": [
      "Question:  What monument is in memory of the largest insurrection of WWII?\n",
      "Answer:  Warsaw Uprising Monument ------- Our Answer:  a place of martyr for the Poles\n"
     ]
    },
    {
     "name": "stderr",
     "output_type": "stream",
     "text": [
      "  9%|▉         | 1000/10570 [03:19<44:37,  3.57it/s]"
     ]
    },
    {
     "name": "stdout",
     "output_type": "stream",
     "text": [
      "Question:  What type of space in Warsaw are the Botanic Garden and University Library garden?\n",
      "Answer:  green ------- Our Answer:  extensive botanical collection of rare domestic and foreign plants\n",
      "Correct: 67, out of 368: 18.206521739130434%\n",
      "EM: 14, out of 368: 3.8043478260869565%\n",
      "BLEU: 48.01535132905336, out of 368: 13.047649817677542%\n"
     ]
    },
    {
     "name": "stderr",
     "output_type": "stream",
     "text": [
      " 10%|▉         | 1007/10570 [03:20<28:09,  5.66it/s]"
     ]
    },
    {
     "name": "stdout",
     "output_type": "stream",
     "text": [
      "Question:  What is the Bielany Forest the last remnant of?\n",
      "Answer:  Masovian Primeval Forest ------- Our Answer:  home to rich fauna and flora\n"
     ]
    },
    {
     "name": "stderr",
     "output_type": "stream",
     "text": [
      " 10%|▉         | 1011/10570 [03:21<43:44,  3.64it/s]"
     ]
    },
    {
     "name": "stdout",
     "output_type": "stream",
     "text": [
      "Question:  What had the number of people living in Warsaw declined to by 1945?\n",
      "Answer:  420,000 ------- Our Answer:  c. 6%\n"
     ]
    },
    {
     "name": "stderr",
     "output_type": "stream",
     "text": [
      " 10%|▉         | 1013/10570 [03:23<1:02:43,  2.54it/s]"
     ]
    },
    {
     "name": "stdout",
     "output_type": "stream",
     "text": [
      "Question:  What conviction did many Poles have regarding how the Varsovians thought of themselves?\n",
      "Answer:  as better ------- Our Answer:  that\n"
     ]
    },
    {
     "name": "stderr",
     "output_type": "stream",
     "text": [
      " 10%|▉         | 1014/10570 [03:23<1:00:40,  2.62it/s]"
     ]
    },
    {
     "name": "stdout",
     "output_type": "stream",
     "text": [
      "Question:  What are there no longer limitations on since 1990?\n",
      "Answer:  residency registration ------- Our Answer:  1939 Warsaw 1945 – only 420,000\n"
     ]
    },
    {
     "name": "stderr",
     "output_type": "stream",
     "text": [
      " 10%|▉         | 1016/10570 [03:24<1:08:08,  2.34it/s]"
     ]
    },
    {
     "name": "stdout",
     "output_type": "stream",
     "text": [
      "Question:  What was Warsaw's population in 1901?\n",
      "Answer:  711,988 ------- Our Answer:  a multi-cultural city\n"
     ]
    },
    {
     "name": "stderr",
     "output_type": "stream",
     "text": [
      " 10%|▉         | 1021/10570 [03:27<1:28:14,  1.80it/s]"
     ]
    },
    {
     "name": "stdout",
     "output_type": "stream",
     "text": [
      "Question:  What is the second level of territorial division in Poland?\n",
      "Answer:  counties or powiats ------- Our Answer:  a commune ( gmina )\n"
     ]
    },
    {
     "name": "stderr",
     "output_type": "stream",
     "text": [
      " 10%|▉         | 1026/10570 [03:28<50:15,  3.17it/s]  "
     ]
    },
    {
     "name": "stdout",
     "output_type": "stream",
     "text": [
      "Question:  What does the City Council divide itself into?\n",
      "Answer:  committees ------- Our Answer:  the City Council\n"
     ]
    },
    {
     "name": "stderr",
     "output_type": "stream",
     "text": [
      " 10%|▉         | 1028/10570 [03:28<52:17,  3.04it/s]"
     ]
    },
    {
     "name": "stdout",
     "output_type": "stream",
     "text": [
      "Question:  What is the mayor of Warsaw called?\n",
      "Answer:  President ------- Our Answer:  the Warsaw Voivode\n"
     ]
    },
    {
     "name": "stderr",
     "output_type": "stream",
     "text": [
      " 10%|▉         | 1032/10570 [03:29<48:10,  3.30it/s]"
     ]
    },
    {
     "name": "stdout",
     "output_type": "stream",
     "text": [
      "Question:  What district of Warsaw chose the President between 1994 and 1999?\n",
      "Answer:  Centrum ------- Our Answer:  the Warsaw Voivode\n"
     ]
    },
    {
     "name": "stderr",
     "output_type": "stream",
     "text": [
      " 10%|▉         | 1033/10570 [03:30<1:02:12,  2.55it/s]"
     ]
    },
    {
     "name": "stdout",
     "output_type": "stream",
     "text": [
      "Question:  What is the city centre of Warsaw called in Polish?\n",
      "Answer:  Śródmieście ------- Our Answer:  12% of Poland's national income , which in 2008 was 305.1% of the Polish average , per capita ( or 160% of the European Union average\n"
     ]
    },
    {
     "name": "stderr",
     "output_type": "stream",
     "text": [
      " 10%|▉         | 1035/10570 [03:31<1:06:07,  2.40it/s]"
     ]
    },
    {
     "name": "stdout",
     "output_type": "stream",
     "text": [
      "Question:  What was Warsaw ranked the 7th greatest of?\n",
      "Answer:  emerging market ------- Our Answer:  Warsaw\n"
     ]
    },
    {
     "name": "stderr",
     "output_type": "stream",
     "text": [
      " 10%|▉         | 1037/10570 [03:33<1:12:42,  2.19it/s]"
     ]
    },
    {
     "name": "stdout",
     "output_type": "stream",
     "text": [
      "Question:  What was the total nominal GDP of Warsaw in 2010?\n",
      "Answer:  191.766 billion PLN ------- Our Answer:  305.1% of the Polish average , per capita ( or 160% of the European Union average\n"
     ]
    },
    {
     "name": "stderr",
     "output_type": "stream",
     "text": [
      " 10%|▉         | 1039/10570 [03:33<1:00:50,  2.61it/s]"
     ]
    },
    {
     "name": "stdout",
     "output_type": "stream",
     "text": [
      "Question:  What brought Warsaw's stock exchange to a stop?\n",
      "Answer:  World War II ------- Our Answer:  Warsaw's first stock exchange\n"
     ]
    },
    {
     "name": "stderr",
     "output_type": "stream",
     "text": [
      " 10%|▉         | 1044/10570 [03:34<41:32,  3.82it/s]  "
     ]
    },
    {
     "name": "stdout",
     "output_type": "stream",
     "text": [
      "Question:  What car is licensed by the FSO Car Factory and built in Egypt?\n",
      "Answer:  Polonez ------- Our Answer:  the factory\n"
     ]
    },
    {
     "name": "stderr",
     "output_type": "stream",
     "text": [
      " 10%|▉         | 1045/10570 [03:34<52:49,  3.01it/s]"
     ]
    },
    {
     "name": "stdout",
     "output_type": "stream",
     "text": [
      "Question:  What South Korean car manufacturer purchased the factor in 1995?\n",
      "Answer:  Daewoo ------- Our Answer:  the factory\n"
     ]
    },
    {
     "name": "stderr",
     "output_type": "stream",
     "text": [
      " 10%|▉         | 1047/10570 [03:35<55:51,  2.84it/s]"
     ]
    },
    {
     "name": "stdout",
     "output_type": "stream",
     "text": [
      "Question:  What did the license to build this type of car expire in 2011?\n",
      "Answer:  Chevrolet Aveo ------- Our Answer:  the factory\n"
     ]
    },
    {
     "name": "stderr",
     "output_type": "stream",
     "text": [
      " 10%|▉         | 1048/10570 [03:36<58:30,  2.71it/s]"
     ]
    },
    {
     "name": "stdout",
     "output_type": "stream",
     "text": [
      "Question:  What is Warsaw known as in Polish?\n",
      "Answer:  Warszawa ------- Our Answer:  the capital and largest city of Poland\n"
     ]
    },
    {
     "name": "stderr",
     "output_type": "stream",
     "text": [
      " 10%|▉         | 1049/10570 [03:36<59:37,  2.66it/s]"
     ]
    },
    {
     "name": "stdout",
     "output_type": "stream",
     "text": [
      "Question:  What is the largest city in Poland?\n",
      "Answer:  Warsaw ------- Our Answer:  the capital and largest city of Poland\n"
     ]
    },
    {
     "name": "stderr",
     "output_type": "stream",
     "text": [
      " 10%|▉         | 1050/10570 [03:37<1:01:20,  2.59it/s]"
     ]
    },
    {
     "name": "stdout",
     "output_type": "stream",
     "text": [
      "Question:  What river runs through Warsaw?\n",
      "Answer:  Vistula River ------- Our Answer:  Warsaw the 9th most - populous capital Warsaw in the European Union\n"
     ]
    },
    {
     "name": "stderr",
     "output_type": "stream",
     "text": [
      " 10%|▉         | 1053/10570 [03:37<42:52,  3.70it/s]  "
     ]
    },
    {
     "name": "stdout",
     "output_type": "stream",
     "text": [
      "Question:  What is the largest city of Poland?\n",
      "Answer:  Warsaw ------- Our Answer:  the capital and largest city of Poland\n"
     ]
    },
    {
     "name": "stderr",
     "output_type": "stream",
     "text": [
      " 10%|█         | 1057/10570 [03:38<33:52,  4.68it/s]c:\\Users\\zisak\\anaconda3\\Lib\\site-packages\\coreferee\\tendencies.py:319: UserWarning: [W008] Evaluating Lexeme.similarity based on empty vectors.\n",
      "  referred_head_lexeme.similarity(referring_head_lexeme)\n",
      " 10%|█         | 1062/10570 [03:38<24:14,  6.54it/s]"
     ]
    },
    {
     "name": "stdout",
     "output_type": "stream",
     "text": [
      "Question:  What century did the Normans first gain their separate identity?\n",
      "Answer:  10th century ------- Our Answer:  the 10th and 11th centuries\n"
     ]
    },
    {
     "name": "stderr",
     "output_type": "stream",
     "text": [
      "c:\\Users\\zisak\\anaconda3\\Lib\\site-packages\\coreferee\\tendencies.py:319: UserWarning: [W008] Evaluating Lexeme.similarity based on empty vectors.\n",
      "  referred_head_lexeme.similarity(referring_head_lexeme)\n",
      " 10%|█         | 1066/10570 [03:39<31:44,  4.99it/s]"
     ]
    },
    {
     "name": "stdout",
     "output_type": "stream",
     "text": [
      "Question:  What religion were the Normans\n",
      "Answer:  Catholic ------- Our Answer:  a great fief of medieval France\n"
     ]
    },
    {
     "name": "stderr",
     "output_type": "stream",
     "text": [
      " 10%|█         | 1070/10570 [03:40<25:21,  6.24it/s]"
     ]
    },
    {
     "name": "stdout",
     "output_type": "stream",
     "text": [
      "Question:  What river originally bounded the Duchy\n",
      "Answer:  Seine ------- Our Answer:  roughly equivalent to the old province of Rouen\n"
     ]
    },
    {
     "name": "stderr",
     "output_type": "stream",
     "text": [
      " 10%|█         | 1072/10570 [03:40<24:25,  6.48it/s]"
     ]
    },
    {
     "name": "stdout",
     "output_type": "stream",
     "text": [
      "Question:  What was the Norman religion?\n",
      "Answer:  Catholicism ------- Our Answer:  the Norse religion and Old Norse language\n"
     ]
    },
    {
     "name": "stderr",
     "output_type": "stream",
     "text": [
      " 10%|█         | 1073/10570 [03:40<27:18,  5.80it/s]"
     ]
    },
    {
     "name": "stdout",
     "output_type": "stream",
     "text": [
      "Question:  What part of France were the Normans located?\n",
      "Answer:  north ------- Our Answer:  the Norse religion and Old Norse language\n"
     ]
    },
    {
     "name": "stderr",
     "output_type": "stream",
     "text": [
      " 10%|█         | 1074/10570 [03:41<33:47,  4.68it/s]"
     ]
    },
    {
     "name": "stdout",
     "output_type": "stream",
     "text": [
      "Question:  What was one of the Norman's major exports?\n",
      "Answer:  fighting horsemen ------- Our Answer:  culturally and ethnically distinct from the old French aristocracy\n"
     ]
    },
    {
     "name": "stderr",
     "output_type": "stream",
     "text": [
      " 10%|█         | 1083/10570 [03:42<22:00,  7.18it/s]"
     ]
    },
    {
     "name": "stdout",
     "output_type": "stream",
     "text": [
      "Question:  What is another name for the Tabula Rogeriana?\n",
      "Answer:  Kitab Rudjdjar ------- Our Answer:  One of the great geographical treatises of the Middle Ages , the \"Tabula Rogeriana \" (\"The Book of Roger \" )\n"
     ]
    },
    {
     "name": "stderr",
     "output_type": "stream",
     "text": [
      " 10%|█         | 1084/10570 [03:42<29:28,  5.36it/s]"
     ]
    },
    {
     "name": "stdout",
     "output_type": "stream",
     "text": [
      "Question:  What does Kitab Rudjdjar mean in English?\n",
      "Answer:  The Book of Roger ------- Our Answer:  a meritocratic bureaucracy of Jews , Muslims and Christians , both Catholic and Eastern Orthodox\n"
     ]
    },
    {
     "name": "stderr",
     "output_type": "stream",
     "text": [
      " 10%|█         | 1085/10570 [03:42<30:44,  5.14it/s]"
     ]
    },
    {
     "name": "stdout",
     "output_type": "stream",
     "text": [
      "Question:  What kind of bureaucracy did the Normans institute?\n",
      "Answer:  meritocratic ------- Our Answer:  The Kingdom of Sicily\n"
     ]
    },
    {
     "name": "stderr",
     "output_type": "stream",
     "text": [
      " 10%|█         | 1090/10570 [03:43<23:06,  6.84it/s]"
     ]
    },
    {
     "name": "stdout",
     "output_type": "stream",
     "text": [
      "Question:  What was the name of the Norman castle?\n",
      "Answer:  Afranji ------- Our Answer:  Turkish forces to aid in the destruction of the Armenians vassal-states of Sassoun and Taron in far eastern Anatolia\n"
     ]
    },
    {
     "name": "stderr",
     "output_type": "stream",
     "text": [
      " 10%|█         | 1093/10570 [03:43<19:35,  8.06it/s]"
     ]
    },
    {
     "name": "stdout",
     "output_type": "stream",
     "text": [
      "Question:  What were the origins of the Raouliii family?\n",
      "Answer:  Norman mercenary ------- Our Answer:  western European warriors\n"
     ]
    },
    {
     "name": "stderr",
     "output_type": "stream",
     "text": [
      " 10%|█         | 1094/10570 [03:44<43:56,  3.59it/s]"
     ]
    },
    {
     "name": "stdout",
     "output_type": "stream",
     "text": [
      "Question:  What was the name of the count of Apulia \n",
      "Answer:  Robert Guiscard ------- Our Answer:  the Byzantines\n"
     ]
    },
    {
     "name": "stderr",
     "output_type": "stream",
     "text": [
      " 11%|█         | 1114/10570 [03:45<11:42, 13.46it/s]"
     ]
    },
    {
     "name": "stdout",
     "output_type": "stream",
     "text": [
      "Question:  What was the Anglo-Norman language's final form?\n",
      "Answer:  Modern English ------- Our Answer:  distinct from the Latin language something that was the subject of some humour by Geoffrey Chaucer\n"
     ]
    },
    {
     "name": "stderr",
     "output_type": "stream",
     "text": [
      " 11%|█         | 1116/10570 [03:46<19:41,  8.00it/s]"
     ]
    },
    {
     "name": "stdout",
     "output_type": "stream",
     "text": [
      "Question:  What country did the Normans invade in 1169?\n",
      "Answer:  Ireland ------- Our Answer:  a profound effect on Irish culture and history\n"
     ]
    },
    {
     "name": "stderr",
     "output_type": "stream",
     "text": [
      " 11%|█         | 1128/10570 [03:49<28:42,  5.48it/s]"
     ]
    },
    {
     "name": "stdout",
     "output_type": "stream",
     "text": [
      "Question:  What year did Roger de Tosny fail to accomplish what he set out to do?\n",
      "Answer:  1018 ------- Our Answer:  the papal army\n"
     ]
    },
    {
     "name": "stderr",
     "output_type": "stream",
     "text": [
      " 11%|█         | 1131/10570 [03:49<26:51,  5.86it/s]"
     ]
    },
    {
     "name": "stdout",
     "output_type": "stream",
     "text": [
      "Question:  What was the name of Bohemond's nephew?\n",
      "Answer:  Tancred ------- Our Answer:  the de facto leader of the Crusade\n"
     ]
    },
    {
     "name": "stderr",
     "output_type": "stream",
     "text": [
      " 11%|█         | 1132/10570 [03:50<32:34,  4.83it/s]"
     ]
    },
    {
     "name": "stdout",
     "output_type": "stream",
     "text": [
      "Question:  What major conquest did Tancred play a roll in?\n",
      "Answer:  Jerusalem ------- Our Answer:  instrumental\n"
     ]
    },
    {
     "name": "stderr",
     "output_type": "stream",
     "text": [
      " 11%|█         | 1134/10570 [03:50<34:53,  4.51it/s]"
     ]
    },
    {
     "name": "stdout",
     "output_type": "stream",
     "text": [
      "Question:  What ruined Richard's plans to reach Acre?\n",
      "Answer:  a storm ------- Our Answer:  it that the boat carrying his sister and his fiancée Berengaria was anchored on the south coast of Cyprus , together with the wrecks of several other ships , including the treasure ship\n"
     ]
    },
    {
     "name": "stderr",
     "output_type": "stream",
     "text": [
      " 11%|█         | 1139/10570 [03:52<40:28,  3.88it/s]"
     ]
    },
    {
     "name": "stdout",
     "output_type": "stream",
     "text": [
      "Question:  What were Isaac's chains made out of?\n",
      "Answer:  silver ------- Our Answer:  his mind\n"
     ]
    },
    {
     "name": "stderr",
     "output_type": "stream",
     "text": [
      " 11%|█         | 1142/10570 [03:52<37:07,  4.23it/s]"
     ]
    },
    {
     "name": "stdout",
     "output_type": "stream",
     "text": [
      "Question:  What was the wedding date?\n",
      "Answer:  12 May 1191 ------- Our Answer:  whom\n"
     ]
    },
    {
     "name": "stderr",
     "output_type": "stream",
     "text": [
      " 11%|█         | 1146/10570 [03:54<47:12,  3.33it/s]"
     ]
    },
    {
     "name": "stdout",
     "output_type": "stream",
     "text": [
      "Question:  What continent are the Canarian Islands off the coast of?\n",
      "Answer:  Africa ------- Our Answer:  the Canarian islands of Lanzarote , Fuerteventura and El Hierro\n"
     ]
    },
    {
     "name": "stderr",
     "output_type": "stream",
     "text": [
      " 11%|█         | 1152/10570 [03:54<24:18,  6.46it/s]"
     ]
    },
    {
     "name": "stdout",
     "output_type": "stream",
     "text": [
      "Question:  What is the Norman architecture idiom?\n",
      "Answer:  Romanesque ------- Our Answer:  Their style\n"
     ]
    },
    {
     "name": "stderr",
     "output_type": "stream",
     "text": [
      " 11%|█         | 1153/10570 [03:54<26:55,  5.83it/s]"
     ]
    },
    {
     "name": "stdout",
     "output_type": "stream",
     "text": [
      "Question:  What kind of arches does Norman architecture have?\n",
      "Answer:  rounded ------- Our Answer:  Their style\n"
     ]
    },
    {
     "name": "stderr",
     "output_type": "stream",
     "text": [
      " 11%|█         | 1154/10570 [03:55<29:59,  5.23it/s]"
     ]
    },
    {
     "name": "stdout",
     "output_type": "stream",
     "text": [
      "Question:  What architecture type came after Norman in England?\n",
      "Answer:  Early Gothic ------- Our Answer:  that of the Anglo-Saxon\n"
     ]
    },
    {
     "name": "stderr",
     "output_type": "stream",
     "text": [
      " 11%|█         | 1156/10570 [03:55<34:44,  4.52it/s]"
     ]
    },
    {
     "name": "stdout",
     "output_type": "stream",
     "text": [
      "Question:  What place had the Norman Arab architectural style?\n",
      "Answer:  Sicily ------- Our Answer:  that of the Anglo-Saxon\n"
     ]
    },
    {
     "name": "stderr",
     "output_type": "stream",
     "text": [
      " 11%|█         | 1160/10570 [03:56<22:13,  7.06it/s]"
     ]
    },
    {
     "name": "stdout",
     "output_type": "stream",
     "text": [
      "Question:  What kind of needlework was used in the creation of the Bayeux Tapestry?\n",
      "Answer:  embroidery ------- Our Answer:  who\n"
     ]
    },
    {
     "name": "stderr",
     "output_type": "stream",
     "text": [
      " 11%|█         | 1161/10570 [03:56<25:57,  6.04it/s]"
     ]
    },
    {
     "name": "stdout",
     "output_type": "stream",
     "text": [
      "Question:  What is Norman art's most well known piece?\n",
      "Answer:  Bayeux Tapestry ------- Our Answer:  a tapestry\n"
     ]
    },
    {
     "name": "stderr",
     "output_type": "stream",
     "text": [
      " 11%|█         | 1163/10570 [03:57<37:16,  4.21it/s]"
     ]
    },
    {
     "name": "stdout",
     "output_type": "stream",
     "text": [
      "Question:  What is the most important type of Norman art preserved in churches?\n",
      "Answer:  mosaics ------- Our Answer:  common in Norman Italy\n"
     ]
    },
    {
     "name": "stderr",
     "output_type": "stream",
     "text": [
      " 11%|█         | 1167/10570 [03:57<29:23,  5.33it/s]"
     ]
    },
    {
     "name": "stdout",
     "output_type": "stream",
     "text": [
      "Question:  What monastery did the Saint-Evroul monks establish in Italy?\n",
      "Answer:  Latin monastery at Sant'Eufemia. ------- Our Answer:  the tradition of singing\n"
     ]
    },
    {
     "name": "stderr",
     "output_type": "stream",
     "text": [
      " 11%|█         | 1171/10570 [03:58<24:24,  6.42it/s]"
     ]
    },
    {
     "name": "stdout",
     "output_type": "stream",
     "text": [
      "Question:  What tradition were the Saint-Evroul monks known for?\n",
      "Answer:  singing ------- Our Answer:  fame\n"
     ]
    },
    {
     "name": "stderr",
     "output_type": "stream",
     "text": [
      " 11%|█         | 1181/10570 [03:59<18:12,  8.60it/s]"
     ]
    },
    {
     "name": "stdout",
     "output_type": "stream",
     "text": [
      "Question:  What \"war\" was Tesla involved in?\n",
      "Answer:  War of Currents ------- Our Answer:  Tesla\n"
     ]
    },
    {
     "name": "stderr",
     "output_type": "stream",
     "text": [
      " 11%|█         | 1183/10570 [03:59<23:46,  6.58it/s]"
     ]
    },
    {
     "name": "stdout",
     "output_type": "stream",
     "text": [
      "Question:  What other inventor did he work with?\n",
      "Answer:  Thomas Edison ------- Our Answer:  His work in the formative years of electric power development\n"
     ]
    },
    {
     "name": "stderr",
     "output_type": "stream",
     "text": [
      " 11%|█         | 1186/10570 [04:00<24:10,  6.47it/s]"
     ]
    },
    {
     "name": "stdout",
     "output_type": "stream",
     "text": [
      "Question:  What other invention of Tesla's did Westinghouse license?\n",
      "Answer:  transformer ------- Our Answer:  experience\n"
     ]
    },
    {
     "name": "stderr",
     "output_type": "stream",
     "text": [
      " 11%|█         | 1189/10570 [04:00<23:46,  6.57it/s]"
     ]
    },
    {
     "name": "stdout",
     "output_type": "stream",
     "text": [
      "Question:  What were some of Tesla's experiments?\n",
      "Answer:  mechanical oscillators/generators, electrical discharge tubes, and early X-ray imaging ------- Our Answer:  to put these ideas to practical use in an ill-fated attempt at intercontinental wireless transmission his unfinished Wardenclyffe Tower project\n"
     ]
    },
    {
     "name": "stderr",
     "output_type": "stream",
     "text": [
      " 11%|█▏        | 1197/10570 [04:02<38:42,  4.04it/s]"
     ]
    },
    {
     "name": "stdout",
     "output_type": "stream",
     "text": [
      "Question:  What was Tesla's reputation in popular culture?\n",
      "Answer:  mad scientist ------- Our Answer:  renowned for his achievements and showmanship ,\n"
     ]
    },
    {
     "name": "stderr",
     "output_type": "stream",
     "text": [
      " 11%|█▏        | 1203/10570 [04:04<48:25,  3.22it/s]"
     ]
    },
    {
     "name": "stdout",
     "output_type": "stream",
     "text": [
      "Question:  What modern-day country was Tesla born in?\n",
      "Answer:  Croatia ------- Our Answer:  Tesla\n"
     ]
    },
    {
     "name": "stderr",
     "output_type": "stream",
     "text": [
      " 11%|█▏        | 1205/10570 [04:06<1:16:26,  2.04it/s]"
     ]
    },
    {
     "name": "stdout",
     "output_type": "stream",
     "text": [
      "Question:  What was special about Tesla's memory?\n",
      "Answer:  eidetic ------- Our Answer:  an Orthodox\n"
     ]
    },
    {
     "name": "stderr",
     "output_type": "stream",
     "text": [
      " 11%|█▏        | 1208/10570 [04:07<1:10:09,  2.22it/s]"
     ]
    },
    {
     "name": "stdout",
     "output_type": "stream",
     "text": [
      "Question:  What was Tesla's father's name?\n",
      "Answer:  Milutin Tesla ------- Our Answer:  a Serbian Orthodox priest\n"
     ]
    },
    {
     "name": "stderr",
     "output_type": "stream",
     "text": [
      " 11%|█▏        | 1209/10570 [04:08<1:17:25,  2.02it/s]"
     ]
    },
    {
     "name": "stdout",
     "output_type": "stream",
     "text": [
      "Question:  What was Tesla's mother's name?\n",
      "Answer:  Đuka Tesla ------- Our Answer:  an Orthodox\n"
     ]
    },
    {
     "name": "stderr",
     "output_type": "stream",
     "text": [
      " 11%|█▏        | 1210/10570 [04:08<1:22:25,  1.89it/s]"
     ]
    },
    {
     "name": "stdout",
     "output_type": "stream",
     "text": [
      "Question:  What were Tesla's mother's special abilities?\n",
      "Answer:  making home craft tools, mechanical appliances, and the ability to memorize Serbian epic poems ------- Our Answer:  an Orthodox\n"
     ]
    },
    {
     "name": "stderr",
     "output_type": "stream",
     "text": [
      " 11%|█▏        | 1215/10570 [04:10<56:33,  2.76it/s]  "
     ]
    },
    {
     "name": "stdout",
     "output_type": "stream",
     "text": [
      "Question:  What was Tesla's brother's name?\n",
      "Answer:  Dane ------- Our Answer:  the fourth of five children\n"
     ]
    },
    {
     "name": "stderr",
     "output_type": "stream",
     "text": [
      " 12%|█▏        | 1216/10570 [04:10<1:03:17,  2.46it/s]"
     ]
    },
    {
     "name": "stdout",
     "output_type": "stream",
     "text": [
      "Question:  What were Tesla's sisters' names?\n",
      "Answer:  Milka, Angelina and Marica ------- Our Answer:  the fourth of five children\n"
     ]
    },
    {
     "name": "stderr",
     "output_type": "stream",
     "text": [
      " 12%|█▏        | 1217/10570 [04:11<1:10:59,  2.20it/s]"
     ]
    },
    {
     "name": "stdout",
     "output_type": "stream",
     "text": [
      "Question:  What happened to Dane?\n",
      "Answer:  killed in a horse-riding accident ------- Our Answer:  Dane\n"
     ]
    },
    {
     "name": "stderr",
     "output_type": "stream",
     "text": [
      " 12%|█▏        | 1219/10570 [04:12<1:11:25,  2.18it/s]"
     ]
    },
    {
     "name": "stdout",
     "output_type": "stream",
     "text": [
      "Question:  What job did Tesla's father have in Gospic?\n",
      "Answer:  pastor ------- Our Answer:  an older brother named Dane and three sisters , Milka , Angelina and Marica\n"
     ]
    },
    {
     "name": "stderr",
     "output_type": "stream",
     "text": [
      " 12%|█▏        | 1221/10570 [04:12<1:00:15,  2.59it/s]"
     ]
    },
    {
     "name": "stdout",
     "output_type": "stream",
     "text": [
      "Question:  What language were classes held in at Tesla's school?\n",
      "Answer:  German ------- Our Answer:  a school within the Austro-Hungarian Military Frontier\n"
     ]
    },
    {
     "name": "stderr",
     "output_type": "stream",
     "text": [
      " 12%|█▏        | 1230/10570 [04:14<28:18,  5.50it/s]  "
     ]
    },
    {
     "name": "stdout",
     "output_type": "stream",
     "text": [
      "Question:  What disease did Tesla contract in 1873?\n",
      "Answer:  cholera ------- Our Answer:  bedridden for nine months\n"
     ]
    },
    {
     "name": "stderr",
     "output_type": "stream",
     "text": [
      " 12%|█▏        | 1235/10570 [04:16<47:22,  3.28it/s]"
     ]
    },
    {
     "name": "stdout",
     "output_type": "stream",
     "text": [
      "Question:  What was the year when Tesla went back to Smiljan?\n",
      "Answer:  1873 ------- Our Answer:  bedridden for nine months\n"
     ]
    },
    {
     "name": "stderr",
     "output_type": "stream",
     "text": [
      " 12%|█▏        | 1238/10570 [04:17<44:43,  3.48it/s]"
     ]
    },
    {
     "name": "stdout",
     "output_type": "stream",
     "text": [
      "Question:  What was Tesla's father's original plans for Tesla?\n",
      "Answer:  enter the priesthood ------- Our Answer:  to send Smiljan to the best engineering school if Smiljan recovered from the illness\n"
     ]
    },
    {
     "name": "stderr",
     "output_type": "stream",
     "text": [
      " 12%|█▏        | 1239/10570 [04:18<59:31,  2.61it/s]"
     ]
    },
    {
     "name": "stdout",
     "output_type": "stream",
     "text": [
      "Question:  What bargain did his father make with him if Tesla recovered?\n",
      "Answer:  to send him to the best engineering school ------- Our Answer:  to send Smiljan to the best engineering school if Smiljan recovered from the illness\n"
     ]
    },
    {
     "name": "stderr",
     "output_type": "stream",
     "text": [
      " 12%|█▏        | 1244/10570 [04:19<51:34,  3.01it/s]"
     ]
    },
    {
     "name": "stdout",
     "output_type": "stream",
     "text": [
      "Question:  What did Tesla dress in while in Tominaj?\n",
      "Answer:  hunter's garb ------- Our Answer:  being drafted into the Austro-Hungarian Army in Smiljan\n"
     ]
    },
    {
     "name": "stderr",
     "output_type": "stream",
     "text": [
      " 12%|█▏        | 1247/10570 [04:20<39:42,  3.91it/s]"
     ]
    },
    {
     "name": "stdout",
     "output_type": "stream",
     "text": [
      "Question:  What did Tesla do in Tomingaj?\n",
      "Answer:  he explored the mountains in hunter's garb ------- Our Answer:  being drafted into the Austro-Hungarian Army in Smiljan\n"
     ]
    },
    {
     "name": "stderr",
     "output_type": "stream",
     "text": [
      " 12%|█▏        | 1248/10570 [04:20<47:47,  3.25it/s]"
     ]
    },
    {
     "name": "stdout",
     "output_type": "stream",
     "text": [
      "Question:  What author did Tesla credit for his recovery?\n",
      "Answer:  Mark Twain ------- Our Answer:  that this contact with nature made Gračac stronger , both physically and mentally\n"
     ]
    },
    {
     "name": "stderr",
     "output_type": "stream",
     "text": [
      " 12%|█▏        | 1250/10570 [04:23<1:49:14,  1.42it/s]"
     ]
    },
    {
     "name": "stdout",
     "output_type": "stream",
     "text": [
      "Question:  What school did he enroll in during 1875?\n",
      "Answer:  Austrian Polytechnic ------- Our Answer:  a package of letters from his professors\n"
     ]
    },
    {
     "name": "stderr",
     "output_type": "stream",
     "text": [
      " 12%|█▏        | 1252/10570 [04:24<1:52:38,  1.38it/s]"
     ]
    },
    {
     "name": "stdout",
     "output_type": "stream",
     "text": [
      "Question:  What did Tesla struggle with while in school? \n",
      "Answer:  gambling ------- Our Answer:  his scholarship\n"
     ]
    },
    {
     "name": "stderr",
     "output_type": "stream",
     "text": [
      " 12%|█▏        | 1258/10570 [04:26<1:11:10,  2.18it/s]"
     ]
    },
    {
     "name": "stdout",
     "output_type": "stream",
     "text": [
      "Question:  What was Tesla's father afraid would happen to him in school?\n",
      "Answer:  Tesla would be killed through overwork ------- Our Answer:  his scholarship\n"
     ]
    },
    {
     "name": "stderr",
     "output_type": "stream",
     "text": [
      " 12%|█▏        | 1261/10570 [04:27<1:05:59,  2.35it/s]"
     ]
    },
    {
     "name": "stdout",
     "output_type": "stream",
     "text": [
      "Question:  What did Tesla work as after dropping out? \n",
      "Answer:  a draftsman ------- Our Answer:  Graz\n"
     ]
    },
    {
     "name": "stderr",
     "output_type": "stream",
     "text": [
      " 12%|█▏        | 1265/10570 [04:28<52:08,  2.97it/s]  "
     ]
    },
    {
     "name": "stdout",
     "output_type": "stream",
     "text": [
      "Question:  What secret did he sever family ties to keep hidden?\n",
      "Answer:  that he dropped out of school ------- Our Answer:  that Graz had drowned in the Mur River\n"
     ]
    },
    {
     "name": "stderr",
     "output_type": "stream",
     "text": [
      " 12%|█▏        | 1266/10570 [04:29<1:05:03,  2.38it/s]"
     ]
    },
    {
     "name": "stdout",
     "output_type": "stream",
     "text": [
      "Question:  What was Tesla's friends' theory as to what became of him?\n",
      "Answer:  His friends thought that he had drowned in the Mur River. ------- Our Answer:  Graz\n"
     ]
    },
    {
     "name": "stderr",
     "output_type": "stream",
     "text": [
      " 12%|█▏        | 1267/10570 [04:30<1:10:33,  2.20it/s]"
     ]
    },
    {
     "name": "stdout",
     "output_type": "stream",
     "text": [
      "Question:  What did Tesla do in Maribor for work?\n",
      "Answer:  draftsman ------- Our Answer:  Graz\n"
     ]
    },
    {
     "name": "stderr",
     "output_type": "stream",
     "text": [
      " 12%|█▏        | 1268/10570 [04:30<1:15:31,  2.05it/s]"
     ]
    },
    {
     "name": "stdout",
     "output_type": "stream",
     "text": [
      "Question:  What health problem did Tesla have in 1879?\n",
      "Answer:  nervous breakdown ------- Our Answer:  Graz\n"
     ]
    },
    {
     "name": "stderr",
     "output_type": "stream",
     "text": [
      " 12%|█▏        | 1273/10570 [04:31<49:17,  3.14it/s]  "
     ]
    },
    {
     "name": "stdout",
     "output_type": "stream",
     "text": [
      "Question:  what did tesla do at his old school in 1879?\n",
      "Answer:  taught ------- Our Answer:  a large class of students\n"
     ]
    },
    {
     "name": "stderr",
     "output_type": "stream",
     "text": [
      " 12%|█▏        | 1277/10570 [04:32<36:06,  4.29it/s]"
     ]
    },
    {
     "name": "stdout",
     "output_type": "stream",
     "text": [
      "Question:  What was one of theories as to what caused Tesla's father's unspecified illness?\n",
      "Answer:  stroke ------- Our Answer:  a large class of students\n"
     ]
    },
    {
     "name": "stderr",
     "output_type": "stream",
     "text": [
      " 12%|█▏        | 1278/10570 [04:32<42:41,  3.63it/s]"
     ]
    },
    {
     "name": "stdout",
     "output_type": "stream",
     "text": [
      "Question:  What city did Tesla move to in 1880?\n",
      "Answer:  Prague ------- Our Answer:  enough money to help January 1880\n"
     ]
    },
    {
     "name": "stderr",
     "output_type": "stream",
     "text": [
      " 12%|█▏        | 1288/10570 [04:33<20:14,  7.64it/s]"
     ]
    },
    {
     "name": "stdout",
     "output_type": "stream",
     "text": [
      "Question:  What position did Tesla accept at the exchange?\n",
      "Answer:  chief electrician ------- Our Answer:  that the company , then under construction , was not functional\n"
     ]
    },
    {
     "name": "stderr",
     "output_type": "stream",
     "text": [
      " 12%|█▏        | 1289/10570 [04:33<25:05,  6.16it/s]"
     ]
    },
    {
     "name": "stdout",
     "output_type": "stream",
     "text": [
      "Question:  What did Tesla claim to perfect while at the exchange?\n",
      "Answer:  a telephone repeater or amplifier ------- Our Answer:  many improvements to the Central Station equipment\n"
     ]
    },
    {
     "name": "stderr",
     "output_type": "stream",
     "text": [
      " 12%|█▏        | 1290/10570 [04:34<36:09,  4.28it/s]"
     ]
    },
    {
     "name": "stdout",
     "output_type": "stream",
     "text": [
      "Question:  What position did Tesla hold in the Central Telegraph Office?\n",
      "Answer:  draftsman ------- Our Answer:  that the company , then under construction , was not functional\n"
     ]
    },
    {
     "name": "stderr",
     "output_type": "stream",
     "text": [
      " 12%|█▏        | 1293/10570 [04:36<51:04,  3.03it/s]"
     ]
    },
    {
     "name": "stdout",
     "output_type": "stream",
     "text": [
      "Question:  What was the name of the telegraph company Tesla returned to after it became functional?\n",
      "Answer:  Budapest Telephone Exchange ------- Our Answer:  functional\n"
     ]
    },
    {
     "name": "stderr",
     "output_type": "stream",
     "text": [
      " 12%|█▏        | 1294/10570 [04:36<57:55,  2.67it/s]"
     ]
    },
    {
     "name": "stdout",
     "output_type": "stream",
     "text": [
      "Question:  What was Tesla's position at the Budapest Telephone Exchange?\n",
      "Answer:  chief electrician ------- Our Answer:  functional\n"
     ]
    },
    {
     "name": "stderr",
     "output_type": "stream",
     "text": [
      " 12%|█▏        | 1309/10570 [04:40<45:33,  3.39it/s]"
     ]
    },
    {
     "name": "stdout",
     "output_type": "stream",
     "text": [
      "Question:  What was Edison's reply as to what Tesla didn't understand when Tesla asked for payment?\n",
      "Answer:  American humor. ------- Our Answer:  that Tesla could redesign Edison's inefficient motor and generators , making an improvement in both service and economy\n"
     ]
    },
    {
     "name": "stderr",
     "output_type": "stream",
     "text": [
      " 12%|█▏        | 1312/10570 [04:41<33:05,  4.66it/s]"
     ]
    },
    {
     "name": "stdout",
     "output_type": "stream",
     "text": [
      "Correct: 109, out of 500: 21.8%\n",
      "EM: 18, out of 500: 3.6%\n",
      "BLEU: 67.56995938346863, out of 500: 13.513991876693726%\n",
      "Errors:  []\n",
      "Empties:  1 [898]\n"
     ]
    },
    {
     "name": "stderr",
     "output_type": "stream",
     "text": [
      "\n"
     ]
    }
   ],
   "source": [
    "\n",
    "def QuestionStartsWith_Accuracy(dataset, startsWith):\n",
    "\n",
    "    correct = 0\n",
    "    EM = 0\n",
    "    BLEU = 0\n",
    "    total = 0\n",
    "    errors = []\n",
    "    corrects = []\n",
    "    empties = []\n",
    "    kolo = 0\n",
    "    for item in tqdm(dataset):\n",
    "        random_number = random.randint(0, len(dataset))\n",
    "        kolo += 1\n",
    "        included_question = False\n",
    "        try:\n",
    "            context = item['context']\n",
    "            context = re.sub(' +', ' ', context)\n",
    "            \n",
    "            question = item['question']\n",
    "            tempQuestion = question.lower()\n",
    "            question = re.sub(' +', ' ', question)\n",
    "            \n",
    "            answer = item['answers']['text'][0]\n",
    "            title = item['title']\n",
    "    \n",
    "            # check if question starts with startsWith\n",
    "            for start in startsWith:\n",
    "                if tempQuestion.startswith(start):\n",
    "                    included_question = True\n",
    "                    break\n",
    "            \n",
    "            if included_question:\n",
    "    \n",
    "                total += 1\n",
    "                if total == 500:\n",
    "                    break\n",
    "                    \n",
    "                factsDF, questionDF, question_type = process_question_context(question, context)\n",
    "                outputAnswer = get_answer(factsDF, questionDF, question_type)\n",
    "                if outputAnswer == \"\":\n",
    "                    empties.append(kolo)\n",
    "                    outputAnswer = \"No_Answer_Found\"\n",
    "                \n",
    "                # print(\"Question: \" , question)\n",
    "                # print(\"Answer: \", answer, \"-------\" , \"Our Answer: \", outputAnswer)\n",
    "                if outputAnswer in answer or answer in outputAnswer:\n",
    "                    correct += 1\n",
    "                    corrects.append(kolo)\n",
    "                else:\n",
    "                    print(\"Question: \" , question)\n",
    "                    print(\"Answer: \", answer, \"-------\" , \"Our Answer: \", outputAnswer)\n",
    "                if outputAnswer == answer:\n",
    "                    EM += 1\n",
    "\n",
    "                n = min(len(outputAnswer.split()), 4)\n",
    "                if n == 0:\n",
    "                    BLEUscore = 0\n",
    "                else:\n",
    "                    weights = [1.0/n]*n\n",
    "                    smoothie = SmoothingFunction().method4\n",
    "                    BLEUscore = nltk.translate.bleu_score.sentence_bleu([answer], outputAnswer, weights=weights, smoothing_function=smoothie)\n",
    "                    BLEU += BLEUscore\n",
    "                    \n",
    "\n",
    "            if kolo % 1000 == 0:\n",
    "                print(f\"Correct: {correct}, out of {total}: {100*correct/total}%\")\n",
    "                print(f\"EM: {EM}, out of {total}: {100*EM/total}%\")\n",
    "                print(f\"BLEU: {BLEU}, out of {total}: {100*BLEU/total}%\")\n",
    "        \n",
    "        except Exception as e:\n",
    "            print(\"title: \", title)\n",
    "            print(\"Error in question number: \", total)\n",
    "            print(\"Question: \", question)\n",
    "            print(\"Answer: \", answer)\n",
    "            print(\"Error: \", e)\n",
    "            errors.append(total)\n",
    "            # total -= 1\n",
    "            print(\"\\n\\n\")\n",
    "    \n",
    "    if total != 0:\n",
    "        print(f\"Correct: {correct}, out of {total}: {100*correct/total}%\")\n",
    "        print(f\"EM: {EM}, out of {total}: {100*EM/total}%\")\n",
    "        print(f\"BLEU: {BLEU}, out of {total}: {100*BLEU/total}%\")\n",
    "    else:\n",
    "        print(\"No Questions found with the given starting word\")\n",
    "    print(\"Errors: \", errors)\n",
    "    print(\"Empties: \", len(empties), empties)\n",
    "    return correct, total, errors, corrects\n",
    "\n",
    "\n",
    "if __name__ == \"__main__\":\n",
    "\n",
    "    startsWith = [\"what \"]\n",
    "    x = QuestionStartsWith_Accuracy(validation, startsWith)\n",
    "\n"
   ]
  },
  {
   "cell_type": "code",
   "execution_count": 4,
   "metadata": {},
   "outputs": [],
   "source": [
    "# [174, 315, 326, 349, 472, 488, 493, 498, 530, 667]\n",
    "# when: 48%"
   ]
  }
 ],
 "metadata": {
  "kernelspec": {
   "display_name": "base",
   "language": "python",
   "name": "python3"
  },
  "language_info": {
   "codemirror_mode": {
    "name": "ipython",
    "version": 3
   },
   "file_extension": ".py",
   "mimetype": "text/x-python",
   "name": "python",
   "nbconvert_exporter": "python",
   "pygments_lexer": "ipython3",
   "version": "3.11.5"
  }
 },
 "nbformat": 4,
 "nbformat_minor": 2
}
