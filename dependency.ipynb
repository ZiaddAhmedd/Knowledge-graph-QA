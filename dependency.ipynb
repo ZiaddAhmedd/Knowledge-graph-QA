{
 "cells": [
  {
   "cell_type": "code",
   "execution_count": 1,
   "metadata": {},
   "outputs": [
    {
     "name": "stdout",
     "output_type": "stream",
     "text": [
      "WARNING:tensorflow:From c:\\Users\\zisak\\anaconda3\\Lib\\site-packages\\keras\\src\\losses.py:2976: The name tf.losses.sparse_softmax_cross_entropy is deprecated. Please use tf.compat.v1.losses.sparse_softmax_cross_entropy instead.\n",
      "\n"
     ]
    },
    {
     "name": "stderr",
     "output_type": "stream",
     "text": [
      "c:\\Users\\zisak\\anaconda3\\Lib\\site-packages\\transformers\\utils\\generic.py:441: UserWarning: torch.utils._pytree._register_pytree_node is deprecated. Please use torch.utils._pytree.register_pytree_node instead.\n",
      "  _torch_pytree._register_pytree_node(\n"
     ]
    }
   ],
   "source": [
    "import regex as re\n",
    "from pathlib import Path\n",
    "import spacy\n",
    "from spacy import displacy\n",
    "import pandas as pd\n",
    "import numpy as np\n",
    "import coreferee\n",
    "from sentence_transformers import SentenceTransformer, util"
   ]
  },
  {
   "cell_type": "code",
   "execution_count": 2,
   "metadata": {},
   "outputs": [
    {
     "name": "stdout",
     "output_type": "stream",
     "text": [
      "4.36.0\n"
     ]
    }
   ],
   "source": [
    "import transformers\n",
    "print(transformers.__version__)"
   ]
  },
  {
   "cell_type": "markdown",
   "metadata": {},
   "source": [
    "### Old Resolving"
   ]
  },
  {
   "cell_type": "code",
   "execution_count": 3,
   "metadata": {},
   "outputs": [],
   "source": [
    "\n",
    "def resolved(nlp, text, questions_mlhash_lazma=[], title=\"\"):\n",
    "    flag = True\n",
    "\n",
    "    official_subject = title if title else \"Unknown\"\n",
    "\n",
    "    sentences = []\n",
    "    prev_subjs = [title]\n",
    "\n",
    "    text = nlp(text)\n",
    "\n",
    "    for sent in text.sents:\n",
    "        prev_subj, compound_is, last_word = \"\", \"\", \"\"\n",
    "\n",
    "        dep_word = [word.dep_ for word in sent]     # hyraga3 kol kelma no3ha eih (subject, adjective, kda y3ny)\n",
    "        word_dep_count_subj = [dep_word.index(word) for word in dep_word if word in ('nsubj', 'subj', 'nsubjpass')]\n",
    "\n",
    "        try:\n",
    "            word_dep_count_subj = word_dep_count_subj[-1] + 1\n",
    "        except IndexError:\n",
    "            word_dep_count_subj = 1\n",
    "\n",
    "        more_subjs = [word for word in dep_word if word in ('nsubj', 'subj', 'nsubjpass')]\n",
    "        for word in sent:\n",
    "            if len(more_subjs) > 1:\n",
    "                if word.dep_ in more_subjs:\n",
    "                    if word.dep_ in ['nsubjpass']:\n",
    "                        break\n",
    "                    elif word.dep_ in ('nsubj','subj'):\n",
    "                        if word_dep_count_subj > 0:\n",
    "                            if word.dep_ in ('compound') or word.dep_ in ('nmod', 'amod'):\n",
    "                                if compound_is == \"\":\n",
    "                                    compound_is = str(word)\n",
    "                                    word_dep_count_subj = word_dep_count_subj - 1\n",
    "                                else:\n",
    "                                    compound_is = compound_is+ \" \" +str(word)\n",
    "                                    word_dep_count_subj = word_dep_count_subj - 1\n",
    "\n",
    "                            elif word.dep_ in ('nsubj', 'subj', 'nsubjpass'):\n",
    "                                pronoun = [i for i in word.subtree]\n",
    "\n",
    "                                if compound_is == \"\":\n",
    "                                    if str(word) not in ('he', 'she', 'it'):\n",
    "                                        prev_subj = str(word)\n",
    "                                        if str(pronoun[0]) not in ('his','her', 'its'):\n",
    "                                            prev_subjs = [prev_subj]\n",
    "                                            official_subject = prev_subjs[0]\n",
    "                                            word_dep_count_subj = word_dep_count_subj - 1\n",
    "\n",
    "                                else:\n",
    "                                    if str('poss') in [str(i.dep_) for i in word.subtree]:\n",
    "                                        prev_subj = compound_is\n",
    "                                        word_dep_count_subj = word_dep_count_subj - 1\n",
    "                                        prev_subjs = [prev_subj]\n",
    "                                    else:\n",
    "                                        prev_subj = compound_is+\" \"+str(word)\n",
    "                                        word_dep_count_subj = word_dep_count_subj - 1\n",
    "                                        prev_subjs = [prev_subj]\n",
    "                                        official_subject = prev_subjs[0]\n",
    "\n",
    "                                if str(word) in ('he', 'she', 'it'):\n",
    "                                    new_word = prev_subjs[-1]\n",
    "                                    sentences.append(re.sub(r'\\b' + str(word) + r'\\b', str(new_word), str(sent)))\n",
    "                                    flag = False\n",
    "\n",
    "                                if pronoun and str(pronoun[0]) in ('his','her', 'its'):\n",
    "                                    new_word = str(official_subject)+\"\\'s\"\n",
    "                                    sentences.append(re.sub(r'\\b' + str(pronoun[0]) + r'\\b', str(new_word), str(sent)))\n",
    "                                    flag = False\n",
    "\n",
    "\n",
    "                            elif word.dep_ in ('nsubj','subj','nsubjpass') and str(word) not in ('he', 'she', 'it'):\n",
    "                                last_word = word\n",
    "                            else:\n",
    "                                pass\n",
    "            else:\n",
    "                if word_dep_count_subj > 0:\n",
    "                    if word.dep_ in ('compound') or word.dep_ in ('nmod', 'amod'):\n",
    "                        if compound_is == \"\":       # dyh awl kelma fl compound kda\n",
    "                            compound_is = str(word)\n",
    "                            word_dep_count_subj = word_dep_count_subj - 1\n",
    "                        else:   # msh awl kelma, fa zawedha 3l mwgood w 5las\n",
    "                            compound_is = compound_is+ \" \" +str(word)\n",
    "                            word_dep_count_subj = word_dep_count_subj - 1\n",
    "\n",
    "                    elif word.dep_ in ('nsubj', 'subj', 'nsubjpass'):\n",
    "                        pronoun = [i for i in word.subtree]\n",
    "\n",
    "                        if compound_is == \"\":\n",
    "                            if str(word) not in ('he', 'she', 'it'):\n",
    "                                prev_subj = str(word)\n",
    "                                if str(pronoun[0]) not in ('his','her', 'its'):\n",
    "                                    prev_subjs = [prev_subj]\n",
    "                                    official_subject = prev_subjs[0]        # dh el subject bta3 el gomal el b3deeha y3ny\n",
    "                                    word_dep_count_subj = word_dep_count_subj - 1\n",
    "\n",
    "                        else:\n",
    "                            if str('poss') in [str(i.dep_) for i in word.subtree]:  # poss: his, her, kda y3ny\n",
    "                                prev_subj = compound_is\n",
    "                                word_dep_count_subj = word_dep_count_subj - 1\n",
    "                                prev_subjs = [prev_subj]\n",
    "                            else:\n",
    "                                prev_subj = compound_is+\" \"+str(word)\n",
    "                                word_dep_count_subj = word_dep_count_subj - 1\n",
    "                                prev_subjs = [prev_subj]\n",
    "                                official_subject = prev_subjs[0]\n",
    "\n",
    "                        if str(word) in ('he', 'she', 'it'):\n",
    "                            new_word = prev_subjs[-1]\n",
    "                            sentences.append(re.sub(r'\\b' + str(word) + r'\\b', str(new_word), str(sent)))\n",
    "                            flag = False    # 5ly el flag false 3lshan my3mlsh append tany ta7t\n",
    "\n",
    "                        if pronoun and str(pronoun[0]) in ('his','her', 'its'):           # hysheel his w y7ot Leonardo DiCaprio's\n",
    "                            new_word = str(official_subject)+\"\\'s\"\n",
    "                            sentences.append(re.sub(r'\\b' + str(pronoun[0]) + r'\\b', str(new_word), str(sent)))\n",
    "                            flag = False\n",
    "\n",
    "                    elif word.dep_ in ('nsubj','subj','nsubjpass') and str(word) not in ('he', 'she', 'it'):\n",
    "                        last_word = word\n",
    "                    else:\n",
    "                        pass\n",
    "\n",
    "\n",
    "        if flag:\n",
    "            sentences.append(str(sent))     # 3mlnalha append fy 7eta tanya, fa msh hn3ml hena tany\n",
    "        else:\n",
    "            flag = True\n",
    "\n",
    "    resolved_text = \" \".join(sentences)\n",
    "    return resolved_text"
   ]
  },
  {
   "cell_type": "code",
   "execution_count": 4,
   "metadata": {},
   "outputs": [],
   "source": [
    "# text = \"\"\"\n",
    "# Lionel Andrés \"Leo\" Messi was born in 24 June 1987 is an Argentine professional footballer who plays as a forward for and captains both Major League Soccer club Inter Miami and the Argentina national team.\n",
    "# Widely regarded as one of the greatest players of all time, Messi has won a record eight Ballon d'Or awards, a record six European Golden Shoes, and was named the world's best player for a record eight times by FIFA.\n",
    "# Until 2021, he had spent his entire professional career with Barcelona, where he won a club-record 34 trophies, including ten La Liga titles, seven Copa del Rey titles, and the UEFA Champions League four times.\n",
    "# With his country, he won the 2021 Copa América and the 2022 FIFA World Cup. A prolific goalscorer and creative playmaker, Messi holds the records for most goals (474), hat-tricks (36), and assists in La Liga (192). He has the most international goals by a South American male (106). Messi has scored over 800 senior career goals for club and country, and the most goals for a single club.\n",
    "# \"\"\"\n",
    "# # change text to lowercase\n",
    "# text = text.lower()\n",
    "# resolved_text = resolved(nlp, text, title=\"Alice\")\n",
    "# resolved_text"
   ]
  },
  {
   "cell_type": "markdown",
   "metadata": {},
   "source": [
    "This is the universal dependency for English: https://universaldependencies.org/en/dep/index.html"
   ]
  },
  {
   "cell_type": "markdown",
   "metadata": {},
   "source": [
    "### Loading Model"
   ]
  },
  {
   "cell_type": "code",
   "execution_count": 5,
   "metadata": {},
   "outputs": [
    {
     "name": "stderr",
     "output_type": "stream",
     "text": [
      "c:\\Users\\zisak\\anaconda3\\Lib\\site-packages\\transformers\\utils\\generic.py:309: UserWarning: torch.utils._pytree._register_pytree_node is deprecated. Please use torch.utils._pytree.register_pytree_node instead.\n",
      "  _torch_pytree._register_pytree_node(\n",
      "c:\\Users\\zisak\\anaconda3\\Lib\\site-packages\\huggingface_hub\\file_download.py:1132: FutureWarning: `resume_download` is deprecated and will be removed in version 1.0.0. Downloads always resume when possible. If you want to force a new download, use `force_download=True`.\n",
      "  warnings.warn(\n",
      "c:\\Users\\zisak\\anaconda3\\Lib\\site-packages\\transformers\\utils\\generic.py:309: UserWarning: torch.utils._pytree._register_pytree_node is deprecated. Please use torch.utils._pytree.register_pytree_node instead.\n",
      "  _torch_pytree._register_pytree_node(\n",
      "c:\\Users\\zisak\\anaconda3\\Lib\\site-packages\\huggingface_hub\\file_download.py:1132: FutureWarning: `resume_download` is deprecated and will be removed in version 1.0.0. Downloads always resume when possible. If you want to force a new download, use `force_download=True`.\n",
      "  warnings.warn(\n"
     ]
    }
   ],
   "source": [
    "nlp = spacy.load('en_core_web_md')\n",
    "nlp.add_pipe(\"merge_entities\")\n",
    "nlp.add_pipe(\"merge_noun_chunks\")\n",
    "nlp.add_pipe('coreferee')\n",
    "model = SentenceTransformer(\"all-MiniLM-L6-v2\")\n",
    "\n",
    "doc = \"\"\"\n",
    "Lionel Andrés \"Leo\" Messi was born in 24 June 1987 is an Argentine professional footballer plays as a forward for and captains both Major League Soccer club Inter Miami and the Argentina national team.\n",
    "He played in Barcelona in 2010.\n",
    "Widely regarded as one of the greatest players of all time, Messi has won a record eight Ballon d'Or awards, a record six European Golden Shoes, and was named the world's best player for a record eight times by FIFA.\n",
    "Until 2021, he had spent his entire professional career with Barcelona, where he won a club-record 34 trophies, including ten La Liga titles, seven Copa del Rey titles, and the UEFA Champions League four times.\n",
    "With his country, he won the 2021 Copa América and the 2022 FIFA World Cup. A prolific goalscorer and creative playmaker, Messi holds the records for most goals, hat-tricks, and assists in La Liga. He has the most international goals by a South American male. Messi has scored over 800 senior career goals for club and country, and the most goals for a single club.\n",
    "\"\"\"\n",
    "# doc = \"Farah took a trophy. Farah win a cake.\""
   ]
  },
  {
   "cell_type": "markdown",
   "metadata": {},
   "source": [
    "### resolve coreferences"
   ]
  },
  {
   "cell_type": "code",
   "execution_count": 6,
   "metadata": {},
   "outputs": [],
   "source": [
    "\n",
    "def resolve_coreference(text):\n",
    "    doc = nlp(text)\n",
    "    doc_list = list(doc)\n",
    "    doc._.coref_chains.print()\n",
    "    resolving_indecies = []\n",
    "    for _,item in enumerate(doc._.coref_chains):\n",
    "        resolving_indecies.extend(item)\n",
    "        \n",
    "    for word in resolving_indecies:\n",
    "        new_word = \"\"\n",
    "        for index in word:\n",
    "            if doc[index]._.coref_chains.resolve(doc[index]) is not None:\n",
    "                temp = []\n",
    "                for item in doc._.coref_chains.resolve(doc[index]):\n",
    "                    temp.append(str(item))\n",
    "                new_word = \", \".join(temp)\n",
    "            \n",
    "                doc_list[index] = new_word\n",
    "\n",
    "    final_doc = []\n",
    "    for item in doc_list:\n",
    "        final_doc.append(str(item))\n",
    "    return \" \".join(final_doc)\n",
    "        "
   ]
  },
  {
   "cell_type": "markdown",
   "metadata": {},
   "source": [
    "### Preprocess the document"
   ]
  },
  {
   "cell_type": "code",
   "execution_count": 7,
   "metadata": {},
   "outputs": [],
   "source": [
    "def preprocess_context(doc):\n",
    "    text = doc.strip()\n",
    "    text.replace(\".\", \",\")\n",
    "    resolved_text = resolve_coreference(text)\n",
    "    resolved_text = resolved_text.strip()\n",
    "    resolved_text = resolved_text.replace(\"  \", \" \").replace(\" ,\", \",\").replace(\" .\", \".\").replace(\"\\n\", \"\")\n",
    "    return resolved_text"
   ]
  },
  {
   "cell_type": "code",
   "execution_count": 8,
   "metadata": {},
   "outputs": [
    {
     "name": "stdout",
     "output_type": "stream",
     "text": [
      "0: Lionel Andrés \"Leo\" Messi(0), He(18), Messi(35), he(57), he(65), he(83), Messi(96), He(109), Messi(115)\n",
      "1: Barcelona(21), Barcelona(62)\n"
     ]
    }
   ],
   "source": [
    "resolved_doc = preprocess_context(doc)\n",
    "cleaned_doc = nlp(resolved_doc)\n",
    "sentences = [one_sentence.text.strip() for one_sentence in cleaned_doc.sents]"
   ]
  },
  {
   "cell_type": "code",
   "execution_count": 9,
   "metadata": {},
   "outputs": [],
   "source": [
    "excludesPerQuestionType = {\n",
    "    \"when\": \"Times\",\n",
    "    \"where\": \"Locations\",\n",
    "    \"who\": \"Subject\",\n",
    "    \"what\": \"Objects\",\n",
    "    \"how\": \"States\"\n",
    "}"
   ]
  },
  {
   "cell_type": "code",
   "execution_count": 10,
   "metadata": {},
   "outputs": [],
   "source": [
    "question = \"when was messi defeated by Realmadrid?\" \n",
    "answer = \"Ziad said that Farah went to the mall with Boody.\"\n",
    "ans_nlp = nlp(answer)\n",
    "question_nlp = nlp(question)\n",
    "question_type = question_nlp[0].text.lower()\n",
    "# what, when, where, who , --> how, how many"
   ]
  },
  {
   "cell_type": "code",
   "execution_count": 11,
   "metadata": {},
   "outputs": [
    {
     "name": "stdout",
     "output_type": "stream",
     "text": [
      "when - SCONJ - advmod - \n",
      "was - AUX - auxpass - \n",
      "messi - NOUN - nsubjpass - \n",
      "defeated - VERB - ROOT - \n",
      "by - ADP - agent - \n",
      "Realmadrid - PROPN - pobj - PERSON\n",
      "? - PUNCT - punct - \n"
     ]
    }
   ],
   "source": [
    "for token in question_nlp:\n",
    "    \n",
    "    print(token.text, '-',token.pos_,'-', token.dep_,'-', token.ent_type_)\n",
    "        \n",
    "\n",
    "# displacy.render(question_nlp, style=\"dep\")"
   ]
  },
  {
   "cell_type": "code",
   "execution_count": 12,
   "metadata": {},
   "outputs": [
    {
     "name": "stdout",
     "output_type": "stream",
     "text": [
      "Ziad - PROPN - nsubj - PERSON\n",
      "said - VERB - ROOT - \n",
      "that - SCONJ - mark - \n",
      "Farah - PROPN - nsubj - PERSON\n",
      "went - VERB - ccomp - \n",
      "to - ADP - prep - \n",
      "the mall - NOUN - pobj - \n",
      "with - ADP - prep - \n",
      "Boody - PROPN - pobj - PERSON\n",
      ". - PUNCT - punct - \n"
     ]
    }
   ],
   "source": [
    "for token in ans_nlp:\n",
    "    \n",
    "    print(token.text, '-',token.pos_,'-', token.dep_,'-', token.ent_type_)\n",
    "        \n",
    "\n",
    "# displacy.render(ans_nlp, style=\"dep\")"
   ]
  },
  {
   "cell_type": "markdown",
   "metadata": {},
   "source": [
    "### Extracting the entities"
   ]
  },
  {
   "cell_type": "code",
   "execution_count": 13,
   "metadata": {},
   "outputs": [],
   "source": [
    "def extract_subjects(sentence):\n",
    "    subjects = []\n",
    "    for token in sentence:\n",
    "        if token.dep_ in (\"nsubj\",\"csubj\", \"nsubjpass\"):\n",
    "            if token.dep_ == \"nsubjpass\":\n",
    "                verb = token.head\n",
    "                for child in verb.children:\n",
    "                    if child.dep_ == \"agent\":\n",
    "                        subject = [str(t) for t in list(child.children)[0].subtree]\n",
    "                        subject = \" \".join(subject)\n",
    "                        break\n",
    "                    else:\n",
    "                        subject = \"Unknown\"\n",
    "                subjects.append((subject, verb))\n",
    "            else:                       \n",
    "                subtree_tokens = [str(t) for t in token.subtree]\n",
    "                verb = token.head\n",
    "                subjects.append((\" \".join(subtree_tokens), verb))\n",
    "    return subjects\n",
    "\n",
    "def extract_objects(sentence):\n",
    "    objects = []\n",
    "    for token in sentence:\n",
    "        if token.dep_ in (\"dobj\", \"dative\", \"attr\", \"oprd\", \"acomp\",\"ccomp\", \"xcomp\", \"nsubjpass\"):\n",
    "            subtree_tokens = [str(t) for t in token.subtree]\n",
    "            verb = token.head\n",
    "            objects.append((\" \".join(subtree_tokens), verb))\n",
    "    return objects\n",
    "\n",
    "def extract_state(sentence):\n",
    "    states = []\n",
    "    for token in sentence:\n",
    "        if token.pos_ ==\"VERB\" or token.pos_ == \"AUX\":\n",
    "            for child in token.children:\n",
    "                if child.dep_ == \"prep\":\n",
    "                    subtree_tokens = [str(t) for t in child.subtree]\n",
    "                    states.append(((\" \".join(subtree_tokens), token)))\n",
    "    return states\n",
    "\n",
    "def extract_time(sentence):\n",
    "    times = {}\n",
    "    for token in sentence:\n",
    "        if token.pos_ == \"VERB\" or token.pos_ == \"AUX\":\n",
    "            for child in token.subtree:\n",
    "                if child.ent_type_ == \"DATE\" or child.ent_type_ == \"TIME\":\n",
    "                    times[child.text] = token\n",
    "    return list(times.items())\n",
    "\n",
    "def extract_location(sentence):\n",
    "    locations = {}\n",
    "    for token in sentence:\n",
    "        if token.pos_ == \"VERB\" or token.pos_ == \"AUX\":\n",
    "            for child in token.subtree:\n",
    "                if child.ent_type_ in (\"GPE\", \"LOC\", \"FAC\"):\n",
    "                    locations[child.text] = token\n",
    "    return list(locations.items())\n",
    "                    \n",
    "\n",
    "def extract_facts(sentence):\n",
    "    sentence = nlp(sentence)\n",
    "    states = extract_state(sentence)\n",
    "    subjects = extract_subjects(sentence)\n",
    "    objects = extract_objects(sentence)\n",
    "    times = extract_time(sentence)\n",
    "    locations = extract_location(sentence)\n",
    "    print(subjects, objects)\n",
    "    \n",
    "    facts = pd.DataFrame(columns=[\"Subject\", \"Relation\", \"Objects\", \"States\", \"Times\", \"Locations\"])\n",
    "    \n",
    "    for subject in subjects:\n",
    "        verb = subject[1].lemma_\n",
    "        currentSubject = subject[0]\n",
    "        if verb in facts[\"Relation\"].values:\n",
    "            facts.loc[facts[\"Relation\"] == verb, \"Subject\"] = currentSubject\n",
    "        else:\n",
    "            new_row = pd.DataFrame([{\"Subject\": currentSubject, \"Relation\": verb, \"Objects\": [], \"States\": [], \"Times\": [], \"Locations\": []}])\n",
    "            facts = pd.concat([facts, new_row], ignore_index=True)\n",
    "    for obj in objects:\n",
    "        verb = obj[1].lemma_\n",
    "        currentObj = obj[0]\n",
    "        if verb in facts[\"Relation\"].values:\n",
    "            oldObjects = list(facts.loc[facts[\"Relation\"] == verb, \"Objects\"].values[0])\n",
    "            oldObjects.append(currentObj)\n",
    "            facts.loc[facts[\"Relation\"] == verb, \"Objects\"] = [oldObjects] \n",
    "            \n",
    "\n",
    "    for state in states:\n",
    "        verb = state[1].lemma_\n",
    "        currentState = state[0]\n",
    "        if verb in facts[\"Relation\"].values:\n",
    "            oldStates = list(facts.loc[facts[\"Relation\"] == verb, \"States\"].values[0])\n",
    "            oldStates.append(currentState)\n",
    "            facts.loc[facts[\"Relation\"] == verb, \"States\"] = [oldStates]\n",
    "            \n",
    "    for time in times:\n",
    "        verb = time[1].lemma_\n",
    "        currentTime = time[0]\n",
    "        if verb in facts[\"Relation\"].values:\n",
    "            oldTimes = list(facts.loc[facts[\"Relation\"] == verb, \"Times\"].values[0])\n",
    "            oldTimes.append(currentTime)\n",
    "            facts.loc[facts[\"Relation\"] == verb, \"Times\"] = [oldTimes]\n",
    "            \n",
    "    for location in locations:\n",
    "        verb = location[1].lemma_\n",
    "        currentLocation = location[0]\n",
    "        if verb in facts[\"Relation\"].values:\n",
    "            oldLocations = list(facts.loc[facts[\"Relation\"] == verb, \"Locations\"].values[0])\n",
    "            oldLocations.append(currentLocation)\n",
    "            facts.loc[facts[\"Relation\"] == verb, \"Locations\"] = [oldLocations]\n",
    "            \n",
    "    return facts"
   ]
  },
  {
   "cell_type": "code",
   "execution_count": 14,
   "metadata": {},
   "outputs": [
    {
     "name": "stdout",
     "output_type": "stream",
     "text": [
      "[('Realmadrid', defeated)] [('messi', defeated)]\n"
     ]
    }
   ],
   "source": [
    "questionDF = extract_facts(question)"
   ]
  },
  {
   "cell_type": "code",
   "execution_count": 15,
   "metadata": {},
   "outputs": [],
   "source": [
    "def join_sentences_facts(sentences):\n",
    "    all_facts = pd.DataFrame(columns=[\"Subject\", \"Relation\", \"Objects\", \"States\", \"Times\", \"Locations\"])\n",
    "    for sentence in sentences:\n",
    "        facts = extract_facts(sentence)\n",
    "        all_facts = pd.concat([all_facts, facts])\n",
    "    all_facts = all_facts.groupby([\"Subject\", \"Relation\"], as_index=False).agg({\n",
    "        \"Objects\": lambda x: [item for sublist in x for item in sublist],\n",
    "        \"States\": lambda x: [item for sublist in x for item in sublist],\n",
    "        \"Times\": lambda x: [item for sublist in x for item in sublist],\n",
    "        \"Locations\": lambda x: [item for sublist in x for item in sublist]\n",
    "    })\n",
    "    return all_facts"
   ]
  },
  {
   "cell_type": "code",
   "execution_count": 16,
   "metadata": {},
   "outputs": [
    {
     "name": "stdout",
     "output_type": "stream",
     "text": [
      "[('Unknown', born), ('an Argentine professional footballer', plays)] [('Lionel Andrés \"Leo\" Messi', born), ('an Argentine professional footballer plays as a forward for and captains both Major League Soccer club Inter Miami and the Argentina national team', is)]\n",
      "[('Lionel Andrés \"Leo\" Messi', played)] []\n",
      "[('Lionel Andrés \"Leo\" Messi', won)] [(\"a record eight Ballon d'Or awards , a record six European Golden Shoes\", won), (\"the world's best player\", named)]\n",
      "[('Lionel Andrés \"Leo\" Messi', spent), ('Lionel Andrés \"Leo\" Messi', won)] [('his entire professional career', spent), ('a club-record 34 trophies', won)]\n",
      "[('Lionel Andrés \"Leo\" Messi', won)] [('the 2021 Copa América and the 2022 FIFA World Cup', won)]\n",
      "[('Lionel Andrés \"Leo\" Messi', holds)] [('the records for most goals , hat-tricks', holds)]\n",
      "[('Lionel Andrés \"Leo\" Messi', has)] [('the most international goals by a South American male', has)]\n",
      "[('Lionel Andrés \"Leo\" Messi', scored)] [('over 800 senior career goals for club and country , and the most goals for a single club', scored)]\n"
     ]
    }
   ],
   "source": [
    "factsDF = join_sentences_facts(sentences)"
   ]
  },
  {
   "cell_type": "code",
   "execution_count": 17,
   "metadata": {},
   "outputs": [],
   "source": [
    "# iterate the dataframe and change the subject to [Subject] and the relation to [Relation]\n",
    "def change_subject_relation(factsDF):\n",
    "    for index, row in factsDF.iterrows():\n",
    "        factsDF.loc[index, \"Subject\"] = [row['Subject']]\n",
    "        factsDF.loc[index, \"Relation\"] = [row['Relation']]\n",
    "    return factsDF"
   ]
  },
  {
   "cell_type": "code",
   "execution_count": 18,
   "metadata": {},
   "outputs": [
    {
     "data": {
      "text/html": [
       "<div>\n",
       "<style scoped>\n",
       "    .dataframe tbody tr th:only-of-type {\n",
       "        vertical-align: middle;\n",
       "    }\n",
       "\n",
       "    .dataframe tbody tr th {\n",
       "        vertical-align: top;\n",
       "    }\n",
       "\n",
       "    .dataframe thead th {\n",
       "        text-align: right;\n",
       "    }\n",
       "</style>\n",
       "<table border=\"1\" class=\"dataframe\">\n",
       "  <thead>\n",
       "    <tr style=\"text-align: right;\">\n",
       "      <th></th>\n",
       "      <th>Subject</th>\n",
       "      <th>Relation</th>\n",
       "      <th>Objects</th>\n",
       "      <th>States</th>\n",
       "      <th>Times</th>\n",
       "      <th>Locations</th>\n",
       "    </tr>\n",
       "  </thead>\n",
       "  <tbody>\n",
       "    <tr>\n",
       "      <th>0</th>\n",
       "      <td>[Lionel Andrés \"Leo\" Messi]</td>\n",
       "      <td>[have]</td>\n",
       "      <td>[the most international goals by a South Ameri...</td>\n",
       "      <td>[]</td>\n",
       "      <td>[]</td>\n",
       "      <td>[]</td>\n",
       "    </tr>\n",
       "    <tr>\n",
       "      <th>1</th>\n",
       "      <td>[Lionel Andrés \"Leo\" Messi]</td>\n",
       "      <td>[hold]</td>\n",
       "      <td>[the records for most goals , hat-tricks]</td>\n",
       "      <td>[]</td>\n",
       "      <td>[]</td>\n",
       "      <td>[La Liga]</td>\n",
       "    </tr>\n",
       "    <tr>\n",
       "      <th>2</th>\n",
       "      <td>[Lionel Andrés \"Leo\" Messi]</td>\n",
       "      <td>[play]</td>\n",
       "      <td>[]</td>\n",
       "      <td>[in Barcelona, in 2010]</td>\n",
       "      <td>[2010]</td>\n",
       "      <td>[Barcelona]</td>\n",
       "    </tr>\n",
       "    <tr>\n",
       "      <th>3</th>\n",
       "      <td>[Lionel Andrés \"Leo\" Messi]</td>\n",
       "      <td>[score]</td>\n",
       "      <td>[over 800 senior career goals for club and cou...</td>\n",
       "      <td>[]</td>\n",
       "      <td>[]</td>\n",
       "      <td>[]</td>\n",
       "    </tr>\n",
       "    <tr>\n",
       "      <th>4</th>\n",
       "      <td>[Lionel Andrés \"Leo\" Messi]</td>\n",
       "      <td>[spend]</td>\n",
       "      <td>[his entire professional career]</td>\n",
       "      <td>[Until 2021, with Barcelona , where Lionel And...</td>\n",
       "      <td>[2021]</td>\n",
       "      <td>[Barcelona]</td>\n",
       "    </tr>\n",
       "    <tr>\n",
       "      <th>5</th>\n",
       "      <td>[Lionel Andrés \"Leo\" Messi]</td>\n",
       "      <td>[win]</td>\n",
       "      <td>[a record eight Ballon d'Or awards , a record ...</td>\n",
       "      <td>[including ten La Liga titles , seven Copa del...</td>\n",
       "      <td>[]</td>\n",
       "      <td>[]</td>\n",
       "    </tr>\n",
       "    <tr>\n",
       "      <th>6</th>\n",
       "      <td>[Unknown]</td>\n",
       "      <td>[bear]</td>\n",
       "      <td>[Lionel Andrés \"Leo\" Messi]</td>\n",
       "      <td>[in 24 June 1987]</td>\n",
       "      <td>[24 June 1987]</td>\n",
       "      <td>[]</td>\n",
       "    </tr>\n",
       "    <tr>\n",
       "      <th>7</th>\n",
       "      <td>[an Argentine professional footballer]</td>\n",
       "      <td>[play]</td>\n",
       "      <td>[]</td>\n",
       "      <td>[as a forward, for]</td>\n",
       "      <td>[]</td>\n",
       "      <td>[]</td>\n",
       "    </tr>\n",
       "  </tbody>\n",
       "</table>\n",
       "</div>"
      ],
      "text/plain": [
       "                                  Subject Relation  \\\n",
       "0             [Lionel Andrés \"Leo\" Messi]   [have]   \n",
       "1             [Lionel Andrés \"Leo\" Messi]   [hold]   \n",
       "2             [Lionel Andrés \"Leo\" Messi]   [play]   \n",
       "3             [Lionel Andrés \"Leo\" Messi]  [score]   \n",
       "4             [Lionel Andrés \"Leo\" Messi]  [spend]   \n",
       "5             [Lionel Andrés \"Leo\" Messi]    [win]   \n",
       "6                               [Unknown]   [bear]   \n",
       "7  [an Argentine professional footballer]   [play]   \n",
       "\n",
       "                                             Objects  \\\n",
       "0  [the most international goals by a South Ameri...   \n",
       "1          [the records for most goals , hat-tricks]   \n",
       "2                                                 []   \n",
       "3  [over 800 senior career goals for club and cou...   \n",
       "4                   [his entire professional career]   \n",
       "5  [a record eight Ballon d'Or awards , a record ...   \n",
       "6                        [Lionel Andrés \"Leo\" Messi]   \n",
       "7                                                 []   \n",
       "\n",
       "                                              States           Times  \\\n",
       "0                                                 []              []   \n",
       "1                                                 []              []   \n",
       "2                            [in Barcelona, in 2010]          [2010]   \n",
       "3                                                 []              []   \n",
       "4  [Until 2021, with Barcelona , where Lionel And...          [2021]   \n",
       "5  [including ten La Liga titles , seven Copa del...              []   \n",
       "6                                  [in 24 June 1987]  [24 June 1987]   \n",
       "7                                [as a forward, for]              []   \n",
       "\n",
       "     Locations  \n",
       "0           []  \n",
       "1    [La Liga]  \n",
       "2  [Barcelona]  \n",
       "3           []  \n",
       "4  [Barcelona]  \n",
       "5           []  \n",
       "6           []  \n",
       "7           []  "
      ]
     },
     "execution_count": 18,
     "metadata": {},
     "output_type": "execute_result"
    }
   ],
   "source": [
    "newFactsDF = change_subject_relation(factsDF)\n",
    "newFactsDF"
   ]
  },
  {
   "cell_type": "code",
   "execution_count": 19,
   "metadata": {},
   "outputs": [
    {
     "data": {
      "text/html": [
       "<div>\n",
       "<style scoped>\n",
       "    .dataframe tbody tr th:only-of-type {\n",
       "        vertical-align: middle;\n",
       "    }\n",
       "\n",
       "    .dataframe tbody tr th {\n",
       "        vertical-align: top;\n",
       "    }\n",
       "\n",
       "    .dataframe thead th {\n",
       "        text-align: right;\n",
       "    }\n",
       "</style>\n",
       "<table border=\"1\" class=\"dataframe\">\n",
       "  <thead>\n",
       "    <tr style=\"text-align: right;\">\n",
       "      <th></th>\n",
       "      <th>Subject</th>\n",
       "      <th>Relation</th>\n",
       "      <th>Objects</th>\n",
       "      <th>States</th>\n",
       "      <th>Times</th>\n",
       "      <th>Locations</th>\n",
       "    </tr>\n",
       "  </thead>\n",
       "  <tbody>\n",
       "    <tr>\n",
       "      <th>0</th>\n",
       "      <td>[Realmadrid]</td>\n",
       "      <td>[defeat]</td>\n",
       "      <td>[messi]</td>\n",
       "      <td>[]</td>\n",
       "      <td>[]</td>\n",
       "      <td>[]</td>\n",
       "    </tr>\n",
       "  </tbody>\n",
       "</table>\n",
       "</div>"
      ],
      "text/plain": [
       "        Subject  Relation  Objects States Times Locations\n",
       "0  [Realmadrid]  [defeat]  [messi]     []    []        []"
      ]
     },
     "execution_count": 19,
     "metadata": {},
     "output_type": "execute_result"
    }
   ],
   "source": [
    "newQuestionDF = change_subject_relation(questionDF)\n",
    "newQuestionDF"
   ]
  },
  {
   "cell_type": "code",
   "execution_count": 20,
   "metadata": {},
   "outputs": [],
   "source": [
    "def similarity(factRow, questionRow, column):\n",
    "    if len(factRow[column]) == 0 or len(questionRow[column]) == 0:\n",
    "        return 0\n",
    "    columnString = \" \".join(factRow[column])\n",
    "    questionString = \" \".join(questionRow[column])\n",
    "    embeddingFact = model.encode(columnString)\n",
    "    embeddingQuestion = model.encode(questionString)\n",
    "    return util.cos_sim(embeddingFact, embeddingQuestion)"
   ]
  },
  {
   "cell_type": "code",
   "execution_count": 21,
   "metadata": {},
   "outputs": [],
   "source": [
    "def cost_function(factsDf, questionFact, excludeColumns=[]):\n",
    "    cost = 0\n",
    "    maxFactIdx = 0\n",
    "    columnNames = [\"Subject\",\"Relation\", \"Objects\", \"States\", \"Times\", \"Locations\"]\n",
    "    for column in excludeColumns:\n",
    "        columnNames.remove(column)\n",
    "    for factIdx, factRow in factsDf.iterrows():\n",
    "        currCost = 0\n",
    "        for _, questionRow in questionFact.iterrows():\n",
    "            for column in columnNames:\n",
    "                currCost += similarity(factRow, questionRow, column)\n",
    "        if currCost > cost:\n",
    "            cost = currCost\n",
    "            maxFactIdx = factIdx\n",
    "    return maxFactIdx, cost.item()/len(columnNames)\n",
    "        "
   ]
  },
  {
   "cell_type": "code",
   "execution_count": 22,
   "metadata": {},
   "outputs": [
    {
     "data": {
      "text/plain": [
       "'24 June 1987'"
      ]
     },
     "execution_count": 22,
     "metadata": {},
     "output_type": "execute_result"
    }
   ],
   "source": [
    "correctIdx, _ = cost_function(factsDF, questionDF, excludeColumns=[excludesPerQuestionType[question_type]])\n",
    "WhenAnswer = factsDF.loc[correctIdx, excludesPerQuestionType[question_type]]\n",
    "\" \".join(WhenAnswer)"
   ]
  },
  {
   "cell_type": "code",
   "execution_count": 23,
   "metadata": {},
   "outputs": [],
   "source": [
    "text = 'Lionel Andrés Leo Messi was born in 24 June 1987 is an Argentine professional footballer plays as a forward for and captains both Major League Soccer club Inter Miami and the Argentina national team.'\n",
    "nlp_md = spacy.load(\"en_core_web_md\")\n",
    "nlp_md.add_pipe(\"merge_entities\")\n",
    "nlp_md.add_pipe(\"merge_noun_chunks\")\n",
    "doc_md = nlp_md(text)"
   ]
  },
  {
   "cell_type": "code",
   "execution_count": 24,
   "metadata": {},
   "outputs": [],
   "source": [
    "messi1 = \"Lionel Andrés Leo Messi\"\n",
    "messi2 = \"Vegetables\"\n",
    "# to lower case\n",
    "messi1 = messi1.lower()\n",
    "messi2 = messi2.lower()\n",
    "nlp_messi1 = nlp_md(messi1)\n",
    "nlp_messi2 = nlp_md(messi2)"
   ]
  },
  {
   "cell_type": "code",
   "execution_count": 25,
   "metadata": {},
   "outputs": [
    {
     "data": {
      "text/plain": [
       "0.0102947485"
      ]
     },
     "execution_count": 25,
     "metadata": {},
     "output_type": "execute_result"
    }
   ],
   "source": [
    "# make cosine similarity between the two vectors and normailze it\n",
    "similarity = nlp_messi1.vector @ nlp_messi2.vector / (np.linalg.norm(nlp_messi1.vector) * np.linalg.norm(nlp_messi2.vector))\n",
    "similarity"
   ]
  },
  {
   "cell_type": "code",
   "execution_count": 26,
   "metadata": {},
   "outputs": [
    {
     "name": "stderr",
     "output_type": "stream",
     "text": [
      "c:\\Users\\zisak\\anaconda3\\Lib\\site-packages\\huggingface_hub\\file_download.py:1132: FutureWarning: `resume_download` is deprecated and will be removed in version 1.0.0. Downloads always resume when possible. If you want to force a new download, use `force_download=True`.\n",
      "  warnings.warn(\n"
     ]
    }
   ],
   "source": [
    "model = SentenceTransformer(\"all-MiniLM-L6-v2\")"
   ]
  },
  {
   "cell_type": "code",
   "execution_count": 27,
   "metadata": {},
   "outputs": [
    {
     "name": "stdout",
     "output_type": "stream",
     "text": [
      "Cosine-Similarity: 1.0000001192092896\n"
     ]
    }
   ],
   "source": [
    "emb1 = model.encode(\"win\")\n",
    "emb2 = model.encode(\"win\")\n",
    "\n",
    "cos_sim = util.cos_sim(emb1, emb2)\n",
    "print(\"Cosine-Similarity:\", cos_sim.item())"
   ]
  },
  {
   "cell_type": "code",
   "execution_count": 28,
   "metadata": {},
   "outputs": [
    {
     "name": "stdout",
     "output_type": "stream",
     "text": [
      "Lionel Andrés Leo Messi\n",
      "was\n",
      "born\n",
      "in\n",
      "24 June 1987\n",
      "is\n",
      "an Argentine professional footballer\n",
      "plays\n",
      "as\n",
      "a forward\n",
      "for\n",
      "and\n",
      "captains\n",
      "both Major League Soccer club Inter Miami\n",
      "and\n",
      "the Argentina national team\n",
      ".\n"
     ]
    }
   ],
   "source": [
    "for token in doc_md:\n",
    "    print(token.text)"
   ]
  },
  {
   "cell_type": "code",
   "execution_count": 29,
   "metadata": {},
   "outputs": [
    {
     "data": {
      "text/plain": [
       "('CARDINAL',\n",
       " 'DATE',\n",
       " 'EVENT',\n",
       " 'FAC',\n",
       " 'GPE',\n",
       " 'LANGUAGE',\n",
       " 'LAW',\n",
       " 'LOC',\n",
       " 'MONEY',\n",
       " 'NORP',\n",
       " 'ORDINAL',\n",
       " 'ORG',\n",
       " 'PERCENT',\n",
       " 'PERSON',\n",
       " 'PRODUCT',\n",
       " 'QUANTITY',\n",
       " 'TIME',\n",
       " 'WORK_OF_ART')"
      ]
     },
     "execution_count": 29,
     "metadata": {},
     "output_type": "execute_result"
    }
   ],
   "source": [
    "nlp = spacy.load(\"en_core_web_sm\")\n",
    "nlp.get_pipe(\"ner\").labels"
   ]
  }
 ],
 "metadata": {
  "kernelspec": {
   "display_name": "base",
   "language": "python",
   "name": "python3"
  },
  "language_info": {
   "codemirror_mode": {
    "name": "ipython",
    "version": 3
   },
   "file_extension": ".py",
   "mimetype": "text/x-python",
   "name": "python",
   "nbconvert_exporter": "python",
   "pygments_lexer": "ipython3",
   "version": "3.11.5"
  }
 },
 "nbformat": 4,
 "nbformat_minor": 2
}
