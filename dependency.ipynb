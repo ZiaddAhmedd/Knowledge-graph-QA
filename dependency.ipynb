{
 "cells": [
  {
   "cell_type": "code",
   "execution_count": 47,
   "metadata": {},
   "outputs": [],
   "source": [
    "import regex as re\n",
    "from pathlib import Path\n",
    "import spacy\n",
    "from spacy import displacy\n",
    "import pandas as pd\n",
    "import numpy as np\n",
    "import coreferee\n",
    "from sentence_transformers import SentenceTransformer, util\n",
    "import getopt\n",
    "import sys\n",
    "import pandas as pd\n",
    "from datasets import load_dataset\n",
    "import json \n",
    "import regex as re\n",
    "from tqdm import tqdm\n",
    "import nltk\n",
    "\n",
    "\n"
   ]
  },
  {
   "cell_type": "markdown",
   "metadata": {},
   "source": [
    "This is the universal dependency for English: https://universaldependencies.org/en/dep/index.html"
   ]
  },
  {
   "cell_type": "markdown",
   "metadata": {},
   "source": [
    "### Loading Model"
   ]
  },
  {
   "cell_type": "code",
   "execution_count": 48,
   "metadata": {},
   "outputs": [
    {
     "name": "stderr",
     "output_type": "stream",
     "text": [
      "c:\\Users\\zisak\\anaconda3\\Lib\\site-packages\\huggingface_hub\\file_download.py:1132: FutureWarning: `resume_download` is deprecated and will be removed in version 1.0.0. Downloads always resume when possible. If you want to force a new download, use `force_download=True`.\n",
      "  warnings.warn(\n"
     ]
    }
   ],
   "source": [
    "nlp = spacy.load('en_core_web_md')\n",
    "nlp.add_pipe(\"merge_entities\")\n",
    "nlp.add_pipe(\"merge_noun_chunks\")\n",
    "nlp.add_pipe('coreferee')\n",
    "model = SentenceTransformer(\"all-MiniLM-L6-v2\")\n",
    "\n",
    "doc = \"\"\"\n",
    "Super Bowl 50 was an American football game to determine the champion of the National Football League (NFL) for the 2015 season. The American Football Conference (AFC) champion Denver Broncos defeated the National Football Conference (NFC) champion Carolina Panthers 24–10 to earn their third Super Bowl title. The game was played on February 7, 2016, at Levi's Stadium in the San Francisco Bay Area at Santa Clara, California. As this was the 50th Super Bowl, the league emphasized the golden anniversary with various gold-themed initiatives, as well as temporarily suspending the tradition of naming each Super Bowl game with Roman numerals (under which the game would have been known as Super Bowl L), so that the logo could prominently feature the Arabic numerals 50.\n",
    "\"\"\"\n",
    "# doc = \"Farah took a trophy. Farah win a cake.\""
   ]
  },
  {
   "cell_type": "markdown",
   "metadata": {},
   "source": [
    "### resolve coreferences"
   ]
  },
  {
   "cell_type": "code",
   "execution_count": 49,
   "metadata": {},
   "outputs": [],
   "source": [
    "\n",
    "def resolve_coreference(text):\n",
    "    doc = nlp(text)\n",
    "    doc_list = list(doc)\n",
    "    doc._.coref_chains.print()\n",
    "    resolving_indecies = []\n",
    "    for _,item in enumerate(doc._.coref_chains):\n",
    "        resolving_indecies.extend(item)\n",
    "        \n",
    "    for word in resolving_indecies:\n",
    "        new_word = \"\"\n",
    "        for index in word:\n",
    "            if doc[index]._.coref_chains.resolve(doc[index]) is not None:\n",
    "                temp = []\n",
    "                for item in doc._.coref_chains.resolve(doc[index]):\n",
    "                    temp.append(str(item))\n",
    "                new_word = \", \".join(temp)\n",
    "            \n",
    "                doc_list[index] = new_word\n",
    "\n",
    "    final_doc = []\n",
    "    for item in doc_list:\n",
    "        final_doc.append(str(item))\n",
    "    return \" \".join(final_doc)\n",
    "        "
   ]
  },
  {
   "cell_type": "markdown",
   "metadata": {},
   "source": [
    "### Preprocess the document"
   ]
  },
  {
   "cell_type": "code",
   "execution_count": 50,
   "metadata": {},
   "outputs": [],
   "source": [
    "def preprocess_context(doc):\n",
    "    text = doc.strip()\n",
    "    text.replace(\".\", \",\")\n",
    "    resolved_text = resolve_coreference(text)\n",
    "    resolved_text = resolved_text.strip()\n",
    "    resolved_text = resolved_text.replace(\"  \", \" \").replace(\" ,\", \",\").replace(\" .\", \".\").replace(\"\\n\", \"\")\n",
    "    return resolved_text"
   ]
  },
  {
   "cell_type": "code",
   "execution_count": 51,
   "metadata": {},
   "outputs": [
    {
     "name": "stdout",
     "output_type": "stream",
     "text": [
      "\n"
     ]
    }
   ],
   "source": [
    "resolved_doc = preprocess_context(doc)\n",
    "cleaned_doc = nlp(resolved_doc)\n",
    "sentences = [one_sentence.text.strip() for one_sentence in cleaned_doc.sents]"
   ]
  },
  {
   "cell_type": "code",
   "execution_count": 88,
   "metadata": {},
   "outputs": [
    {
     "data": {
      "text/plain": [
       "{'be',\n",
       " 'could',\n",
       " 'defeat',\n",
       " 'determine',\n",
       " 'earn',\n",
       " 'emphasize',\n",
       " 'feature',\n",
       " 'have',\n",
       " 'know',\n",
       " 'name',\n",
       " 'play',\n",
       " 'suspend',\n",
       " 'would'}"
      ]
     },
     "execution_count": 88,
     "metadata": {},
     "output_type": "execute_result"
    }
   ],
   "source": [
    "# get all verbs in the sentences\n",
    "verbs = set()\n",
    "for sentence in sentences:\n",
    "    doc = nlp(sentence)\n",
    "    for token in doc:\n",
    "        if token.pos_ == \"VERB\" or token.pos_ == \"AUX\":\n",
    "            verbs.add(token.lemma_)\n",
    "            \n",
    "verbs\n",
    "# verbs2 = [\"earn\"]\n",
    "# # loop on sentences and get the sentences that have verbs woth lemmas in those [earn, have, suspend]\n",
    "# sentences_with_verbs = []\n",
    "# for sentence in sentences:\n",
    "#     doc = nlp(sentence)\n",
    "#     for token in doc:\n",
    "#         if token.lemma_ in verbs2:\n",
    "#             sentences_with_verbs.append(sentence)\n",
    "#             break\n",
    "        \n",
    "# sentences_with_verbs\n",
    "# [earn, have, suspend]\n"
   ]
  },
  {
   "cell_type": "code",
   "execution_count": 53,
   "metadata": {},
   "outputs": [],
   "source": [
    "excludesPerQuestionType = {\n",
    "    \"when\": \"Times\",\n",
    "    \"where\": \"Locations\",\n",
    "    \"who\": \"Subject\",\n",
    "    \"what\": \"Objects\",\n",
    "    \"how\": \"States\"\n",
    "}"
   ]
  },
  {
   "cell_type": "code",
   "execution_count": 253,
   "metadata": {},
   "outputs": [
    {
     "data": {
      "text/plain": [
       "'what'"
      ]
     },
     "execution_count": 253,
     "metadata": {},
     "output_type": "execute_result"
    }
   ],
   "source": [
    "question = \"What color was used to emphasize the 50th anniversary of the Super Bowl?\" \n",
    "# answer = \"He talked to him to secure the account.\"\n",
    "answer = \"The American Football Conference (AFC) champion Denver Broncos defeated the National Football Conference (NFC) champion Carolina Panthers 24–10 to earn their third Super Bowl title.\"\n",
    "answer = \"As this was the 50th Super Bowl, the league emphasized the golden anniversary with various gold-themed initiatives, as well as temporarily suspending the tradition of naming each Super Bowl game with Roman numerals ( under which the game would have been known as Super Bowl L ), so that the logo could prominently feature the Arabic numerals 50.\"\n",
    "answer = \"Aly is happy because Ziad is good.\"\n",
    "ans_nlp = nlp(answer)\n",
    "splitted_question = question.split(\" \")\n",
    "question_type = splitted_question[0].lower()\n",
    "question_nlp = nlp(question)\n",
    "if question_nlp[0].ent_type_ == \"DATE\":\n",
    "    question_type = \"when\"\n",
    "\n",
    "question_type"
   ]
  },
  {
   "cell_type": "code",
   "execution_count": 254,
   "metadata": {},
   "outputs": [
    {
     "name": "stdout",
     "output_type": "stream",
     "text": [
      "What color - NOUN - nsubjpass - \n",
      "was - AUX - auxpass - \n",
      "used - VERB - ROOT - \n",
      "to - PART - aux - \n",
      "emphasize - VERB - xcomp - \n",
      "the 50th anniversary - NOUN - dobj - \n",
      "of - ADP - prep - \n",
      "the Super Bowl - PROPN - pobj - EVENT\n",
      "? - PUNCT - punct - \n"
     ]
    },
    {
     "data": {
      "text/html": [
       "<span class=\"tex2jax_ignore\"><svg xmlns=\"http://www.w3.org/2000/svg\" xmlns:xlink=\"http://www.w3.org/1999/xlink\" xml:lang=\"en\" id=\"eed6617652d34bc3a38a80bd2934fc3b-0\" class=\"displacy\" width=\"1450\" height=\"312.0\" direction=\"ltr\" style=\"max-width: none; height: 312.0px; color: #000000; background: #ffffff; font-family: Arial; direction: ltr\">\n",
       "<text class=\"displacy-token\" fill=\"currentColor\" text-anchor=\"middle\" y=\"222.0\">\n",
       "    <tspan class=\"displacy-word\" fill=\"currentColor\" x=\"50\">What color</tspan>\n",
       "    <tspan class=\"displacy-tag\" dy=\"2em\" fill=\"currentColor\" x=\"50\">NOUN</tspan>\n",
       "</text>\n",
       "\n",
       "<text class=\"displacy-token\" fill=\"currentColor\" text-anchor=\"middle\" y=\"222.0\">\n",
       "    <tspan class=\"displacy-word\" fill=\"currentColor\" x=\"225\">was</tspan>\n",
       "    <tspan class=\"displacy-tag\" dy=\"2em\" fill=\"currentColor\" x=\"225\">AUX</tspan>\n",
       "</text>\n",
       "\n",
       "<text class=\"displacy-token\" fill=\"currentColor\" text-anchor=\"middle\" y=\"222.0\">\n",
       "    <tspan class=\"displacy-word\" fill=\"currentColor\" x=\"400\">used</tspan>\n",
       "    <tspan class=\"displacy-tag\" dy=\"2em\" fill=\"currentColor\" x=\"400\">VERB</tspan>\n",
       "</text>\n",
       "\n",
       "<text class=\"displacy-token\" fill=\"currentColor\" text-anchor=\"middle\" y=\"222.0\">\n",
       "    <tspan class=\"displacy-word\" fill=\"currentColor\" x=\"575\">to</tspan>\n",
       "    <tspan class=\"displacy-tag\" dy=\"2em\" fill=\"currentColor\" x=\"575\">PART</tspan>\n",
       "</text>\n",
       "\n",
       "<text class=\"displacy-token\" fill=\"currentColor\" text-anchor=\"middle\" y=\"222.0\">\n",
       "    <tspan class=\"displacy-word\" fill=\"currentColor\" x=\"750\">emphasize</tspan>\n",
       "    <tspan class=\"displacy-tag\" dy=\"2em\" fill=\"currentColor\" x=\"750\">VERB</tspan>\n",
       "</text>\n",
       "\n",
       "<text class=\"displacy-token\" fill=\"currentColor\" text-anchor=\"middle\" y=\"222.0\">\n",
       "    <tspan class=\"displacy-word\" fill=\"currentColor\" x=\"925\">the 50th anniversary</tspan>\n",
       "    <tspan class=\"displacy-tag\" dy=\"2em\" fill=\"currentColor\" x=\"925\">NOUN</tspan>\n",
       "</text>\n",
       "\n",
       "<text class=\"displacy-token\" fill=\"currentColor\" text-anchor=\"middle\" y=\"222.0\">\n",
       "    <tspan class=\"displacy-word\" fill=\"currentColor\" x=\"1100\">of</tspan>\n",
       "    <tspan class=\"displacy-tag\" dy=\"2em\" fill=\"currentColor\" x=\"1100\">ADP</tspan>\n",
       "</text>\n",
       "\n",
       "<text class=\"displacy-token\" fill=\"currentColor\" text-anchor=\"middle\" y=\"222.0\">\n",
       "    <tspan class=\"displacy-word\" fill=\"currentColor\" x=\"1275\">the Super Bowl?</tspan>\n",
       "    <tspan class=\"displacy-tag\" dy=\"2em\" fill=\"currentColor\" x=\"1275\">PROPN</tspan>\n",
       "</text>\n",
       "\n",
       "<g class=\"displacy-arrow\">\n",
       "    <path class=\"displacy-arc\" id=\"arrow-eed6617652d34bc3a38a80bd2934fc3b-0-0\" stroke-width=\"2px\" d=\"M70,177.0 C70,2.0 400.0,2.0 400.0,177.0\" fill=\"none\" stroke=\"currentColor\"/>\n",
       "    <text dy=\"1.25em\" style=\"font-size: 0.8em; letter-spacing: 1px\">\n",
       "        <textPath xlink:href=\"#arrow-eed6617652d34bc3a38a80bd2934fc3b-0-0\" class=\"displacy-label\" startOffset=\"50%\" side=\"left\" fill=\"currentColor\" text-anchor=\"middle\">nsubjpass</textPath>\n",
       "    </text>\n",
       "    <path class=\"displacy-arrowhead\" d=\"M70,179.0 L62,167.0 78,167.0\" fill=\"currentColor\"/>\n",
       "</g>\n",
       "\n",
       "<g class=\"displacy-arrow\">\n",
       "    <path class=\"displacy-arc\" id=\"arrow-eed6617652d34bc3a38a80bd2934fc3b-0-1\" stroke-width=\"2px\" d=\"M245,177.0 C245,89.5 395.0,89.5 395.0,177.0\" fill=\"none\" stroke=\"currentColor\"/>\n",
       "    <text dy=\"1.25em\" style=\"font-size: 0.8em; letter-spacing: 1px\">\n",
       "        <textPath xlink:href=\"#arrow-eed6617652d34bc3a38a80bd2934fc3b-0-1\" class=\"displacy-label\" startOffset=\"50%\" side=\"left\" fill=\"currentColor\" text-anchor=\"middle\">auxpass</textPath>\n",
       "    </text>\n",
       "    <path class=\"displacy-arrowhead\" d=\"M245,179.0 L237,167.0 253,167.0\" fill=\"currentColor\"/>\n",
       "</g>\n",
       "\n",
       "<g class=\"displacy-arrow\">\n",
       "    <path class=\"displacy-arc\" id=\"arrow-eed6617652d34bc3a38a80bd2934fc3b-0-2\" stroke-width=\"2px\" d=\"M595,177.0 C595,89.5 745.0,89.5 745.0,177.0\" fill=\"none\" stroke=\"currentColor\"/>\n",
       "    <text dy=\"1.25em\" style=\"font-size: 0.8em; letter-spacing: 1px\">\n",
       "        <textPath xlink:href=\"#arrow-eed6617652d34bc3a38a80bd2934fc3b-0-2\" class=\"displacy-label\" startOffset=\"50%\" side=\"left\" fill=\"currentColor\" text-anchor=\"middle\">aux</textPath>\n",
       "    </text>\n",
       "    <path class=\"displacy-arrowhead\" d=\"M595,179.0 L587,167.0 603,167.0\" fill=\"currentColor\"/>\n",
       "</g>\n",
       "\n",
       "<g class=\"displacy-arrow\">\n",
       "    <path class=\"displacy-arc\" id=\"arrow-eed6617652d34bc3a38a80bd2934fc3b-0-3\" stroke-width=\"2px\" d=\"M420,177.0 C420,2.0 750.0,2.0 750.0,177.0\" fill=\"none\" stroke=\"currentColor\"/>\n",
       "    <text dy=\"1.25em\" style=\"font-size: 0.8em; letter-spacing: 1px\">\n",
       "        <textPath xlink:href=\"#arrow-eed6617652d34bc3a38a80bd2934fc3b-0-3\" class=\"displacy-label\" startOffset=\"50%\" side=\"left\" fill=\"currentColor\" text-anchor=\"middle\">xcomp</textPath>\n",
       "    </text>\n",
       "    <path class=\"displacy-arrowhead\" d=\"M750.0,179.0 L758.0,167.0 742.0,167.0\" fill=\"currentColor\"/>\n",
       "</g>\n",
       "\n",
       "<g class=\"displacy-arrow\">\n",
       "    <path class=\"displacy-arc\" id=\"arrow-eed6617652d34bc3a38a80bd2934fc3b-0-4\" stroke-width=\"2px\" d=\"M770,177.0 C770,89.5 920.0,89.5 920.0,177.0\" fill=\"none\" stroke=\"currentColor\"/>\n",
       "    <text dy=\"1.25em\" style=\"font-size: 0.8em; letter-spacing: 1px\">\n",
       "        <textPath xlink:href=\"#arrow-eed6617652d34bc3a38a80bd2934fc3b-0-4\" class=\"displacy-label\" startOffset=\"50%\" side=\"left\" fill=\"currentColor\" text-anchor=\"middle\">dobj</textPath>\n",
       "    </text>\n",
       "    <path class=\"displacy-arrowhead\" d=\"M920.0,179.0 L928.0,167.0 912.0,167.0\" fill=\"currentColor\"/>\n",
       "</g>\n",
       "\n",
       "<g class=\"displacy-arrow\">\n",
       "    <path class=\"displacy-arc\" id=\"arrow-eed6617652d34bc3a38a80bd2934fc3b-0-5\" stroke-width=\"2px\" d=\"M945,177.0 C945,89.5 1095.0,89.5 1095.0,177.0\" fill=\"none\" stroke=\"currentColor\"/>\n",
       "    <text dy=\"1.25em\" style=\"font-size: 0.8em; letter-spacing: 1px\">\n",
       "        <textPath xlink:href=\"#arrow-eed6617652d34bc3a38a80bd2934fc3b-0-5\" class=\"displacy-label\" startOffset=\"50%\" side=\"left\" fill=\"currentColor\" text-anchor=\"middle\">prep</textPath>\n",
       "    </text>\n",
       "    <path class=\"displacy-arrowhead\" d=\"M1095.0,179.0 L1103.0,167.0 1087.0,167.0\" fill=\"currentColor\"/>\n",
       "</g>\n",
       "\n",
       "<g class=\"displacy-arrow\">\n",
       "    <path class=\"displacy-arc\" id=\"arrow-eed6617652d34bc3a38a80bd2934fc3b-0-6\" stroke-width=\"2px\" d=\"M1120,177.0 C1120,89.5 1270.0,89.5 1270.0,177.0\" fill=\"none\" stroke=\"currentColor\"/>\n",
       "    <text dy=\"1.25em\" style=\"font-size: 0.8em; letter-spacing: 1px\">\n",
       "        <textPath xlink:href=\"#arrow-eed6617652d34bc3a38a80bd2934fc3b-0-6\" class=\"displacy-label\" startOffset=\"50%\" side=\"left\" fill=\"currentColor\" text-anchor=\"middle\">pobj</textPath>\n",
       "    </text>\n",
       "    <path class=\"displacy-arrowhead\" d=\"M1270.0,179.0 L1278.0,167.0 1262.0,167.0\" fill=\"currentColor\"/>\n",
       "</g>\n",
       "</svg></span>"
      ],
      "text/plain": [
       "<IPython.core.display.HTML object>"
      ]
     },
     "metadata": {},
     "output_type": "display_data"
    }
   ],
   "source": [
    "for token in question_nlp:\n",
    "    print(token.text, '-',token.pos_,'-', token.dep_,'-', token.ent_type_)\n",
    "\n",
    "    \n",
    "displacy.render(question_nlp, style=\"dep\")"
   ]
  },
  {
   "cell_type": "code",
   "execution_count": 255,
   "metadata": {},
   "outputs": [
    {
     "name": "stdout",
     "output_type": "stream",
     "text": [
      "Aly - PROPN - nsubj - PERSON\n",
      "is - AUX - ROOT - \n",
      "happy - ADJ - acomp - \n",
      "because - SCONJ - mark - \n",
      "Ziad - PROPN - nsubj - PERSON\n",
      "is - AUX - advcl - \n",
      "good - ADJ - acomp - \n",
      ". - PUNCT - punct - \n"
     ]
    },
    {
     "data": {
      "text/html": [
       "<span class=\"tex2jax_ignore\"><svg xmlns=\"http://www.w3.org/2000/svg\" xmlns:xlink=\"http://www.w3.org/1999/xlink\" xml:lang=\"en\" id=\"ebc9fa5166a34ed9a0343c0467033276-0\" class=\"displacy\" width=\"1275\" height=\"399.5\" direction=\"ltr\" style=\"max-width: none; height: 399.5px; color: #000000; background: #ffffff; font-family: Arial; direction: ltr\">\n",
       "<text class=\"displacy-token\" fill=\"currentColor\" text-anchor=\"middle\" y=\"309.5\">\n",
       "    <tspan class=\"displacy-word\" fill=\"currentColor\" x=\"50\">Aly</tspan>\n",
       "    <tspan class=\"displacy-tag\" dy=\"2em\" fill=\"currentColor\" x=\"50\">PROPN</tspan>\n",
       "</text>\n",
       "\n",
       "<text class=\"displacy-token\" fill=\"currentColor\" text-anchor=\"middle\" y=\"309.5\">\n",
       "    <tspan class=\"displacy-word\" fill=\"currentColor\" x=\"225\">is</tspan>\n",
       "    <tspan class=\"displacy-tag\" dy=\"2em\" fill=\"currentColor\" x=\"225\">AUX</tspan>\n",
       "</text>\n",
       "\n",
       "<text class=\"displacy-token\" fill=\"currentColor\" text-anchor=\"middle\" y=\"309.5\">\n",
       "    <tspan class=\"displacy-word\" fill=\"currentColor\" x=\"400\">happy</tspan>\n",
       "    <tspan class=\"displacy-tag\" dy=\"2em\" fill=\"currentColor\" x=\"400\">ADJ</tspan>\n",
       "</text>\n",
       "\n",
       "<text class=\"displacy-token\" fill=\"currentColor\" text-anchor=\"middle\" y=\"309.5\">\n",
       "    <tspan class=\"displacy-word\" fill=\"currentColor\" x=\"575\">because</tspan>\n",
       "    <tspan class=\"displacy-tag\" dy=\"2em\" fill=\"currentColor\" x=\"575\">SCONJ</tspan>\n",
       "</text>\n",
       "\n",
       "<text class=\"displacy-token\" fill=\"currentColor\" text-anchor=\"middle\" y=\"309.5\">\n",
       "    <tspan class=\"displacy-word\" fill=\"currentColor\" x=\"750\">Ziad</tspan>\n",
       "    <tspan class=\"displacy-tag\" dy=\"2em\" fill=\"currentColor\" x=\"750\">PROPN</tspan>\n",
       "</text>\n",
       "\n",
       "<text class=\"displacy-token\" fill=\"currentColor\" text-anchor=\"middle\" y=\"309.5\">\n",
       "    <tspan class=\"displacy-word\" fill=\"currentColor\" x=\"925\">is</tspan>\n",
       "    <tspan class=\"displacy-tag\" dy=\"2em\" fill=\"currentColor\" x=\"925\">AUX</tspan>\n",
       "</text>\n",
       "\n",
       "<text class=\"displacy-token\" fill=\"currentColor\" text-anchor=\"middle\" y=\"309.5\">\n",
       "    <tspan class=\"displacy-word\" fill=\"currentColor\" x=\"1100\">good.</tspan>\n",
       "    <tspan class=\"displacy-tag\" dy=\"2em\" fill=\"currentColor\" x=\"1100\">ADJ</tspan>\n",
       "</text>\n",
       "\n",
       "<g class=\"displacy-arrow\">\n",
       "    <path class=\"displacy-arc\" id=\"arrow-ebc9fa5166a34ed9a0343c0467033276-0-0\" stroke-width=\"2px\" d=\"M70,264.5 C70,177.0 215.0,177.0 215.0,264.5\" fill=\"none\" stroke=\"currentColor\"/>\n",
       "    <text dy=\"1.25em\" style=\"font-size: 0.8em; letter-spacing: 1px\">\n",
       "        <textPath xlink:href=\"#arrow-ebc9fa5166a34ed9a0343c0467033276-0-0\" class=\"displacy-label\" startOffset=\"50%\" side=\"left\" fill=\"currentColor\" text-anchor=\"middle\">nsubj</textPath>\n",
       "    </text>\n",
       "    <path class=\"displacy-arrowhead\" d=\"M70,266.5 L62,254.5 78,254.5\" fill=\"currentColor\"/>\n",
       "</g>\n",
       "\n",
       "<g class=\"displacy-arrow\">\n",
       "    <path class=\"displacy-arc\" id=\"arrow-ebc9fa5166a34ed9a0343c0467033276-0-1\" stroke-width=\"2px\" d=\"M245,264.5 C245,177.0 390.0,177.0 390.0,264.5\" fill=\"none\" stroke=\"currentColor\"/>\n",
       "    <text dy=\"1.25em\" style=\"font-size: 0.8em; letter-spacing: 1px\">\n",
       "        <textPath xlink:href=\"#arrow-ebc9fa5166a34ed9a0343c0467033276-0-1\" class=\"displacy-label\" startOffset=\"50%\" side=\"left\" fill=\"currentColor\" text-anchor=\"middle\">acomp</textPath>\n",
       "    </text>\n",
       "    <path class=\"displacy-arrowhead\" d=\"M390.0,266.5 L398.0,254.5 382.0,254.5\" fill=\"currentColor\"/>\n",
       "</g>\n",
       "\n",
       "<g class=\"displacy-arrow\">\n",
       "    <path class=\"displacy-arc\" id=\"arrow-ebc9fa5166a34ed9a0343c0467033276-0-2\" stroke-width=\"2px\" d=\"M595,264.5 C595,89.5 920.0,89.5 920.0,264.5\" fill=\"none\" stroke=\"currentColor\"/>\n",
       "    <text dy=\"1.25em\" style=\"font-size: 0.8em; letter-spacing: 1px\">\n",
       "        <textPath xlink:href=\"#arrow-ebc9fa5166a34ed9a0343c0467033276-0-2\" class=\"displacy-label\" startOffset=\"50%\" side=\"left\" fill=\"currentColor\" text-anchor=\"middle\">mark</textPath>\n",
       "    </text>\n",
       "    <path class=\"displacy-arrowhead\" d=\"M595,266.5 L587,254.5 603,254.5\" fill=\"currentColor\"/>\n",
       "</g>\n",
       "\n",
       "<g class=\"displacy-arrow\">\n",
       "    <path class=\"displacy-arc\" id=\"arrow-ebc9fa5166a34ed9a0343c0467033276-0-3\" stroke-width=\"2px\" d=\"M770,264.5 C770,177.0 915.0,177.0 915.0,264.5\" fill=\"none\" stroke=\"currentColor\"/>\n",
       "    <text dy=\"1.25em\" style=\"font-size: 0.8em; letter-spacing: 1px\">\n",
       "        <textPath xlink:href=\"#arrow-ebc9fa5166a34ed9a0343c0467033276-0-3\" class=\"displacy-label\" startOffset=\"50%\" side=\"left\" fill=\"currentColor\" text-anchor=\"middle\">nsubj</textPath>\n",
       "    </text>\n",
       "    <path class=\"displacy-arrowhead\" d=\"M770,266.5 L762,254.5 778,254.5\" fill=\"currentColor\"/>\n",
       "</g>\n",
       "\n",
       "<g class=\"displacy-arrow\">\n",
       "    <path class=\"displacy-arc\" id=\"arrow-ebc9fa5166a34ed9a0343c0467033276-0-4\" stroke-width=\"2px\" d=\"M245,264.5 C245,2.0 925.0,2.0 925.0,264.5\" fill=\"none\" stroke=\"currentColor\"/>\n",
       "    <text dy=\"1.25em\" style=\"font-size: 0.8em; letter-spacing: 1px\">\n",
       "        <textPath xlink:href=\"#arrow-ebc9fa5166a34ed9a0343c0467033276-0-4\" class=\"displacy-label\" startOffset=\"50%\" side=\"left\" fill=\"currentColor\" text-anchor=\"middle\">advcl</textPath>\n",
       "    </text>\n",
       "    <path class=\"displacy-arrowhead\" d=\"M925.0,266.5 L933.0,254.5 917.0,254.5\" fill=\"currentColor\"/>\n",
       "</g>\n",
       "\n",
       "<g class=\"displacy-arrow\">\n",
       "    <path class=\"displacy-arc\" id=\"arrow-ebc9fa5166a34ed9a0343c0467033276-0-5\" stroke-width=\"2px\" d=\"M945,264.5 C945,177.0 1090.0,177.0 1090.0,264.5\" fill=\"none\" stroke=\"currentColor\"/>\n",
       "    <text dy=\"1.25em\" style=\"font-size: 0.8em; letter-spacing: 1px\">\n",
       "        <textPath xlink:href=\"#arrow-ebc9fa5166a34ed9a0343c0467033276-0-5\" class=\"displacy-label\" startOffset=\"50%\" side=\"left\" fill=\"currentColor\" text-anchor=\"middle\">acomp</textPath>\n",
       "    </text>\n",
       "    <path class=\"displacy-arrowhead\" d=\"M1090.0,266.5 L1098.0,254.5 1082.0,254.5\" fill=\"currentColor\"/>\n",
       "</g>\n",
       "</svg></span>"
      ],
      "text/plain": [
       "<IPython.core.display.HTML object>"
      ]
     },
     "metadata": {},
     "output_type": "display_data"
    }
   ],
   "source": [
    "for token in ans_nlp:\n",
    "    \n",
    "    print(token.text, '-',token.pos_,'-', token.dep_,'-', token.ent_type_)\n",
    "        \n",
    "\n",
    "displacy.render(ans_nlp, style=\"dep\")"
   ]
  },
  {
   "cell_type": "markdown",
   "metadata": {},
   "source": [
    "### Extracting the entities"
   ]
  },
  {
   "cell_type": "code",
   "execution_count": 258,
   "metadata": {},
   "outputs": [],
   "source": [
    "def extract_subjects(sentence):\n",
    "    subjects = {}\n",
    "    \n",
    "    for token in sentence:\n",
    "        if token.pos_ == \"VERB\" or token.pos_ == \"AUX\":\n",
    "            subjectFlag = False\n",
    "            verb = token\n",
    "            for child in token.children:\n",
    "                if child.dep_ in (\"nsubj\", \"csubj\"):\n",
    "                    subtree_tokens = [str(t) for t in child.subtree]\n",
    "                    subjects[token] = \" \".join(subtree_tokens)\n",
    "                    subjectFlag = True\n",
    "                elif child.dep_ == \"nsubjpass\":\n",
    "                    for child in verb.children:\n",
    "                        if child.dep_ == \"agent\" and len(list(child.children)) > 0:\n",
    "                            subject = [str(t) for t in list(child.children)[0].subtree]\n",
    "                            subject = \" \".join(subject)\n",
    "                            break\n",
    "                        else:\n",
    "                            subject = \"Unknown\"\n",
    "                    subjects[verb] = subject\n",
    "                    subjectFlag = True\n",
    "            if not subjectFlag:  # didn't find a normal subject\n",
    "                if token.dep_ == \"relcl\":\n",
    "                    subject = str(token.head)\n",
    "                    subjects[token] = subject  # should get the subtree of the subject\n",
    "                elif token.dep_ in (\"advcl\", \"conj\"):\n",
    "                    verb = token.head\n",
    "                    subjects[token] = subjects[verb]\n",
    "                elif token.dep_ == \"xcomp\":\n",
    "                    verb = token.head\n",
    "                    subjects[token] = subjects[verb]\n",
    "                    for child in verb.subtree:\n",
    "                        if child.dep_ in (\"dobj\", \"dative\", \"pobj\"):\n",
    "                            subtree_tokens = [str(t) for t in child.subtree]\n",
    "                            subjects[token] = \" \".join(subtree_tokens)\n",
    "                            break\n",
    "                        \n",
    "                    \n",
    "                    \n",
    "    return [(v, k) for k, v in subjects.items()]\n",
    "                        \n",
    "                            \n",
    "# def extract_subjects(sentence):\n",
    "#     subjects = []\n",
    "#     for token in sentence:\n",
    "#         if token.dep_ in (\"nsubj\",\"csubj\", \"nsubjpass\",\"relcl\"):\n",
    "#             if token.dep_ == \"relcl\":\n",
    "#                 # The head of the token with the \"relcl\" dependency is the noun that the relative clause is modifying\n",
    "#                 subject = str(token.head)\n",
    "#                 verb = token\n",
    "#                 subjects.append((subject, verb))\n",
    "#             elif token.dep_ == \"nsubjpass\":\n",
    "#                 verb = token.head\n",
    "#                 for child in verb.children:\n",
    "#                     if child.dep_ == \"agent\" and len(list(child.children)) > 0:\n",
    "#                         subject = [str(t) for t in list(child.children)[0].subtree]\n",
    "#                         subject = \" \".join(subject)\n",
    "#                         break\n",
    "#                     else:\n",
    "#                         subject = \"Unknown\"\n",
    "#                 subjects.append((subject, verb))\n",
    "#             else:                       \n",
    "#                 subtree_tokens = [str(t) for t in token.subtree]\n",
    "#                 verb = token.head\n",
    "#                 subjects.append((\" \".join(subtree_tokens), verb))\n",
    "#     return subjects\n",
    "\n",
    "def extract_objects(sentence):\n",
    "    objects = []\n",
    "    for token in sentence:\n",
    "        if token.dep_ in (\"dobj\", \"dative\", \"attr\", \"oprd\", \"acomp\",\"ccomp\", \"xcomp\", \"nsubjpass\"):\n",
    "            subtree_tokens = [str(t) for t in token.subtree]\n",
    "            verb = token.head\n",
    "            objects.append((\" \".join(subtree_tokens), verb))\n",
    "    return objects\n",
    "\n",
    "def extract_state(sentence):\n",
    "    states = []\n",
    "    for token in sentence:\n",
    "        if token.pos_ ==\"VERB\" or token.pos_ == \"AUX\":\n",
    "            for child in token.children:\n",
    "                if child.dep_ == \"prep\":\n",
    "                    subtree_tokens = [str(t) for t in child.subtree]\n",
    "                    states.append(((\" \".join(subtree_tokens), token)))\n",
    "    return states\n",
    "\n",
    "def extract_time(sentence):\n",
    "    times = {}\n",
    "    for token in sentence:\n",
    "        if token.pos_ == \"VERB\" or token.pos_ == \"AUX\":\n",
    "            for child in token.subtree:\n",
    "                if child.ent_type_ == \"DATE\" or child.ent_type_ == \"TIME\":\n",
    "                    times[child.text] = token\n",
    "    return list(times.items())\n",
    "\n",
    "def extract_location(sentence):\n",
    "    locations = {}\n",
    "    for token in sentence:\n",
    "        if token.pos_ == \"VERB\" or token.pos_ == \"AUX\":\n",
    "            for child in token.subtree:\n",
    "                if child.ent_type_ in (\"GPE\", \"LOC\", \"FAC\"):\n",
    "                    locations[child.text] = token\n",
    "    return list(locations.items())\n",
    "                    \n",
    "\n",
    "def extract_facts(sentence):\n",
    "    sentence = nlp(sentence)\n",
    "    states = extract_state(sentence)\n",
    "    subjects = extract_subjects(sentence)\n",
    "    objects = extract_objects(sentence)\n",
    "    times = extract_time(sentence)\n",
    "    locations = extract_location(sentence)\n",
    "    print(\"Subjects: \",subjects, objects)\n",
    "    print(\"states: \" ,states, \"times: \", times,\"locations: \", locations)\n",
    "    \n",
    "    facts = pd.DataFrame(columns=[\"Subject\", \"Relation\", \"Objects\", \"States\", \"Times\", \"Locations\"])\n",
    "    \n",
    "    for subject in subjects: #(Ziad, is), (Aly, is)\n",
    "        verb = subject[1].lemma_\n",
    "        currentSubject = subject[0]\n",
    "        if verb in facts[\"Relation\"].values:\n",
    "            facts.loc[facts[\"Relation\"] == verb, \"Subject\"] = currentSubject\n",
    "        else:\n",
    "            new_row = pd.DataFrame([{\"Subject\": currentSubject, \"Relation\": verb, \"Objects\": [], \"States\": [], \"Times\": [], \"Locations\": []}])\n",
    "            facts = pd.concat([facts, new_row], ignore_index=True)\n",
    "    for obj in objects:\n",
    "        verb = obj[1].lemma_\n",
    "        currentObj = obj[0]\n",
    "        if verb in facts[\"Relation\"].values:\n",
    "            oldObjects = list(facts.loc[facts[\"Relation\"] == verb, \"Objects\"].values[0])\n",
    "            oldObjects.append(currentObj)\n",
    "            facts.loc[facts[\"Relation\"] == verb, \"Objects\"] = [oldObjects] \n",
    "            \n",
    "\n",
    "    for state in states:\n",
    "        verb = state[1].lemma_\n",
    "        currentState = state[0]\n",
    "        if verb in facts[\"Relation\"].values:\n",
    "            oldStates = list(facts.loc[facts[\"Relation\"] == verb, \"States\"].values[0])\n",
    "            oldStates.append(currentState)\n",
    "            facts.loc[facts[\"Relation\"] == verb, \"States\"] = [oldStates]\n",
    "            \n",
    "    for time in times:\n",
    "        verb = time[1].lemma_\n",
    "        currentTime = time[0]\n",
    "        if verb in facts[\"Relation\"].values:\n",
    "            oldTimes = list(facts.loc[facts[\"Relation\"] == verb, \"Times\"].values[0])\n",
    "            oldTimes.append(currentTime)\n",
    "            facts.loc[facts[\"Relation\"] == verb, \"Times\"] = [oldTimes]\n",
    "            \n",
    "    for location in locations:\n",
    "        verb = location[1].lemma_\n",
    "        currentLocation = location[0]\n",
    "        if verb in facts[\"Relation\"].values:\n",
    "            oldLocations = list(facts.loc[facts[\"Relation\"] == verb, \"Locations\"].values[0])\n",
    "            oldLocations.append(currentLocation)\n",
    "            facts.loc[facts[\"Relation\"] == verb, \"Locations\"] = [oldLocations]\n",
    "            \n",
    "    return facts"
   ]
  },
  {
   "cell_type": "code",
   "execution_count": 259,
   "metadata": {},
   "outputs": [
    {
     "name": "stdout",
     "output_type": "stream",
     "text": [
      "Subjects:  [('Aly', is), ('Ziad', is)] [('happy', is), ('good', is)]\n",
      "states:  [] times:  [] locations:  []\n"
     ]
    },
    {
     "data": {
      "text/html": [
       "<div>\n",
       "<style scoped>\n",
       "    .dataframe tbody tr th:only-of-type {\n",
       "        vertical-align: middle;\n",
       "    }\n",
       "\n",
       "    .dataframe tbody tr th {\n",
       "        vertical-align: top;\n",
       "    }\n",
       "\n",
       "    .dataframe thead th {\n",
       "        text-align: right;\n",
       "    }\n",
       "</style>\n",
       "<table border=\"1\" class=\"dataframe\">\n",
       "  <thead>\n",
       "    <tr style=\"text-align: right;\">\n",
       "      <th></th>\n",
       "      <th>Subject</th>\n",
       "      <th>Relation</th>\n",
       "      <th>Objects</th>\n",
       "      <th>States</th>\n",
       "      <th>Times</th>\n",
       "      <th>Locations</th>\n",
       "    </tr>\n",
       "  </thead>\n",
       "  <tbody>\n",
       "    <tr>\n",
       "      <th>0</th>\n",
       "      <td>Ziad</td>\n",
       "      <td>be</td>\n",
       "      <td>[happy, good]</td>\n",
       "      <td>[]</td>\n",
       "      <td>[]</td>\n",
       "      <td>[]</td>\n",
       "    </tr>\n",
       "  </tbody>\n",
       "</table>\n",
       "</div>"
      ],
      "text/plain": [
       "  Subject Relation        Objects States Times Locations\n",
       "0    Ziad       be  [happy, good]     []    []        []"
      ]
     },
     "execution_count": 259,
     "metadata": {},
     "output_type": "execute_result"
    }
   ],
   "source": [
    "extract_facts(answer)"
   ]
  },
  {
   "cell_type": "code",
   "execution_count": 247,
   "metadata": {},
   "outputs": [
    {
     "name": "stdout",
     "output_type": "stream",
     "text": [
      "Subjects:  [('Unknown', used), ('the 50th anniversary of the Super Bowl', emphasize)] [('What color', used), ('to emphasize the 50th anniversary of the Super Bowl', used), ('the 50th anniversary of the Super Bowl', emphasize)]\n",
      "states:  [] times:  [] locations:  []\n"
     ]
    }
   ],
   "source": [
    "questionDF = extract_facts(question)"
   ]
  },
  {
   "cell_type": "code",
   "execution_count": 248,
   "metadata": {},
   "outputs": [],
   "source": [
    "def join_sentences_facts(sentences):\n",
    "    all_facts = pd.DataFrame(columns=[\"Subject\", \"Relation\", \"Objects\", \"States\", \"Times\", \"Locations\"])\n",
    "    for sentence in sentences:\n",
    "        facts = extract_facts(sentence)\n",
    "        all_facts = pd.concat([all_facts, facts])\n",
    "    all_facts = all_facts.groupby([\"Subject\", \"Relation\"], as_index=False).agg({\n",
    "        \"Objects\": lambda x: [item for sublist in x for item in sublist],\n",
    "        \"States\": lambda x: [item for sublist in x for item in sublist],\n",
    "        \"Times\": lambda x: [item for sublist in x for item in sublist],\n",
    "        \"Locations\": lambda x: [item for sublist in x for item in sublist]\n",
    "    })\n",
    "    return all_facts"
   ]
  },
  {
   "cell_type": "code",
   "execution_count": 249,
   "metadata": {},
   "outputs": [
    {
     "name": "stdout",
     "output_type": "stream",
     "text": [
      "Subjects:  [('Super Bowl 50', was), ('an American football game', determine)] [('an American football game to determine the champion of the National Football League ( NFL ) for the 2015 season', was), ('the champion of the National Football League ( NFL )', determine)]\n",
      "states:  [('for the 2015 season', determine)] times:  [('the 2015 season', determine)] locations:  []\n",
      "Subjects:  [('The American Football Conference (AFC) champion Denver Broncos', defeated), ('The American Football Conference (AFC) champion Denver Broncos', earn)] [('the National Football Conference (NFC) champion Carolina Panthers 24–10', defeated), ('their third Super Bowl title', earn)]\n",
      "states:  [] times:  [] locations:  []\n",
      "Subjects:  [('Unknown', played)] [('The game', played)]\n",
      "states:  [('on February 7, 2016', played), (\"at Levi's Stadium in the San Francisco Bay Area at Santa Clara , California\", played)] times:  [('February 7, 2016', played)] locations:  [('the San Francisco Bay Area', played), ('Santa Clara', played), ('California', played)]\n",
      "Subjects:  [('this', was), ('the league', emphasized), ('the league', suspending), ('Unknown', known), ('the logo', feature)] [('the 50th Super Bowl', was), ('the golden anniversary with various gold-themed initiatives ,', emphasized), ('the tradition of naming each Super Bowl game with Roman numerals ( under which the game would have been known as Super Bowl L )', suspending), ('each Super Bowl game', naming), ('the game', known), ('the Arabic numerals', feature), ('50', feature)]\n",
      "states:  [('with Roman numerals ( under which the game would have been known as Super Bowl L )', naming), ('under which', known), ('as Super Bowl L', known)] times:  [] locations:  []\n"
     ]
    }
   ],
   "source": [
    "factsDF = join_sentences_facts(sentences)"
   ]
  },
  {
   "cell_type": "code",
   "execution_count": 250,
   "metadata": {},
   "outputs": [],
   "source": [
    "# iterate the dataframe and change the subject to [Subject] and the relation to [Relation]\n",
    "def change_subject_relation(factsDF):\n",
    "    for index, row in factsDF.iterrows():\n",
    "        factsDF.loc[index, \"Subject\"] = [row['Subject']]\n",
    "        factsDF.loc[index, \"Relation\"] = [row['Relation']]\n",
    "    return factsDF"
   ]
  },
  {
   "cell_type": "code",
   "execution_count": 251,
   "metadata": {},
   "outputs": [],
   "source": [
    "newFactsDF = change_subject_relation(factsDF)\n",
    "#save in csv\n",
    "newFactsDF.to_csv(\"facts2.csv\")"
   ]
  },
  {
   "cell_type": "code",
   "execution_count": 252,
   "metadata": {},
   "outputs": [
    {
     "data": {
      "text/html": [
       "<div>\n",
       "<style scoped>\n",
       "    .dataframe tbody tr th:only-of-type {\n",
       "        vertical-align: middle;\n",
       "    }\n",
       "\n",
       "    .dataframe tbody tr th {\n",
       "        vertical-align: top;\n",
       "    }\n",
       "\n",
       "    .dataframe thead th {\n",
       "        text-align: right;\n",
       "    }\n",
       "</style>\n",
       "<table border=\"1\" class=\"dataframe\">\n",
       "  <thead>\n",
       "    <tr style=\"text-align: right;\">\n",
       "      <th></th>\n",
       "      <th>Subject</th>\n",
       "      <th>Relation</th>\n",
       "      <th>Objects</th>\n",
       "      <th>States</th>\n",
       "      <th>Times</th>\n",
       "      <th>Locations</th>\n",
       "    </tr>\n",
       "  </thead>\n",
       "  <tbody>\n",
       "    <tr>\n",
       "      <th>0</th>\n",
       "      <td>[Super Bowl 50]</td>\n",
       "      <td>[be]</td>\n",
       "      <td>[an American football game to determine the ch...</td>\n",
       "      <td>[]</td>\n",
       "      <td>[]</td>\n",
       "      <td>[]</td>\n",
       "    </tr>\n",
       "    <tr>\n",
       "      <th>1</th>\n",
       "      <td>[The American Football Conference (AFC) champi...</td>\n",
       "      <td>[defeat]</td>\n",
       "      <td>[the National Football Conference (NFC) champi...</td>\n",
       "      <td>[]</td>\n",
       "      <td>[]</td>\n",
       "      <td>[]</td>\n",
       "    </tr>\n",
       "    <tr>\n",
       "      <th>2</th>\n",
       "      <td>[The American Football Conference (AFC) champi...</td>\n",
       "      <td>[earn]</td>\n",
       "      <td>[their third Super Bowl title]</td>\n",
       "      <td>[]</td>\n",
       "      <td>[]</td>\n",
       "      <td>[]</td>\n",
       "    </tr>\n",
       "    <tr>\n",
       "      <th>3</th>\n",
       "      <td>[Unknown]</td>\n",
       "      <td>[know]</td>\n",
       "      <td>[the game]</td>\n",
       "      <td>[under which, as Super Bowl L]</td>\n",
       "      <td>[]</td>\n",
       "      <td>[]</td>\n",
       "    </tr>\n",
       "    <tr>\n",
       "      <th>4</th>\n",
       "      <td>[Unknown]</td>\n",
       "      <td>[play]</td>\n",
       "      <td>[The game]</td>\n",
       "      <td>[on February 7, 2016, at Levi's Stadium in the...</td>\n",
       "      <td>[February 7, 2016]</td>\n",
       "      <td>[the San Francisco Bay Area, Santa Clara, Cali...</td>\n",
       "    </tr>\n",
       "    <tr>\n",
       "      <th>5</th>\n",
       "      <td>[an American football game]</td>\n",
       "      <td>[determine]</td>\n",
       "      <td>[the champion of the National Football League ...</td>\n",
       "      <td>[for the 2015 season]</td>\n",
       "      <td>[the 2015 season]</td>\n",
       "      <td>[]</td>\n",
       "    </tr>\n",
       "    <tr>\n",
       "      <th>6</th>\n",
       "      <td>[the league]</td>\n",
       "      <td>[emphasize]</td>\n",
       "      <td>[the golden anniversary with various gold-them...</td>\n",
       "      <td>[]</td>\n",
       "      <td>[]</td>\n",
       "      <td>[]</td>\n",
       "    </tr>\n",
       "    <tr>\n",
       "      <th>7</th>\n",
       "      <td>[the league]</td>\n",
       "      <td>[suspend]</td>\n",
       "      <td>[the tradition of naming each Super Bowl game ...</td>\n",
       "      <td>[]</td>\n",
       "      <td>[]</td>\n",
       "      <td>[]</td>\n",
       "    </tr>\n",
       "    <tr>\n",
       "      <th>8</th>\n",
       "      <td>[the logo]</td>\n",
       "      <td>[feature]</td>\n",
       "      <td>[the Arabic numerals, 50]</td>\n",
       "      <td>[]</td>\n",
       "      <td>[]</td>\n",
       "      <td>[]</td>\n",
       "    </tr>\n",
       "    <tr>\n",
       "      <th>9</th>\n",
       "      <td>[this]</td>\n",
       "      <td>[be]</td>\n",
       "      <td>[the 50th Super Bowl]</td>\n",
       "      <td>[]</td>\n",
       "      <td>[]</td>\n",
       "      <td>[]</td>\n",
       "    </tr>\n",
       "  </tbody>\n",
       "</table>\n",
       "</div>"
      ],
      "text/plain": [
       "                                             Subject     Relation  \\\n",
       "0                                    [Super Bowl 50]         [be]   \n",
       "1  [The American Football Conference (AFC) champi...     [defeat]   \n",
       "2  [The American Football Conference (AFC) champi...       [earn]   \n",
       "3                                          [Unknown]       [know]   \n",
       "4                                          [Unknown]       [play]   \n",
       "5                        [an American football game]  [determine]   \n",
       "6                                       [the league]  [emphasize]   \n",
       "7                                       [the league]    [suspend]   \n",
       "8                                         [the logo]    [feature]   \n",
       "9                                             [this]         [be]   \n",
       "\n",
       "                                             Objects  \\\n",
       "0  [an American football game to determine the ch...   \n",
       "1  [the National Football Conference (NFC) champi...   \n",
       "2                     [their third Super Bowl title]   \n",
       "3                                         [the game]   \n",
       "4                                         [The game]   \n",
       "5  [the champion of the National Football League ...   \n",
       "6  [the golden anniversary with various gold-them...   \n",
       "7  [the tradition of naming each Super Bowl game ...   \n",
       "8                          [the Arabic numerals, 50]   \n",
       "9                              [the 50th Super Bowl]   \n",
       "\n",
       "                                              States               Times  \\\n",
       "0                                                 []                  []   \n",
       "1                                                 []                  []   \n",
       "2                                                 []                  []   \n",
       "3                     [under which, as Super Bowl L]                  []   \n",
       "4  [on February 7, 2016, at Levi's Stadium in the...  [February 7, 2016]   \n",
       "5                              [for the 2015 season]   [the 2015 season]   \n",
       "6                                                 []                  []   \n",
       "7                                                 []                  []   \n",
       "8                                                 []                  []   \n",
       "9                                                 []                  []   \n",
       "\n",
       "                                           Locations  \n",
       "0                                                 []  \n",
       "1                                                 []  \n",
       "2                                                 []  \n",
       "3                                                 []  \n",
       "4  [the San Francisco Bay Area, Santa Clara, Cali...  \n",
       "5                                                 []  \n",
       "6                                                 []  \n",
       "7                                                 []  \n",
       "8                                                 []  \n",
       "9                                                 []  "
      ]
     },
     "execution_count": 252,
     "metadata": {},
     "output_type": "execute_result"
    }
   ],
   "source": [
    "newFactsDF"
   ]
  },
  {
   "cell_type": "code",
   "execution_count": 65,
   "metadata": {},
   "outputs": [
    {
     "data": {
      "text/html": [
       "<div>\n",
       "<style scoped>\n",
       "    .dataframe tbody tr th:only-of-type {\n",
       "        vertical-align: middle;\n",
       "    }\n",
       "\n",
       "    .dataframe tbody tr th {\n",
       "        vertical-align: top;\n",
       "    }\n",
       "\n",
       "    .dataframe thead th {\n",
       "        text-align: right;\n",
       "    }\n",
       "</style>\n",
       "<table border=\"1\" class=\"dataframe\">\n",
       "  <thead>\n",
       "    <tr style=\"text-align: right;\">\n",
       "      <th></th>\n",
       "      <th>Subject</th>\n",
       "      <th>Relation</th>\n",
       "      <th>Objects</th>\n",
       "      <th>States</th>\n",
       "      <th>Times</th>\n",
       "      <th>Locations</th>\n",
       "    </tr>\n",
       "  </thead>\n",
       "  <tbody>\n",
       "    <tr>\n",
       "      <th>0</th>\n",
       "      <td>[Unknown]</td>\n",
       "      <td>[use]</td>\n",
       "      <td>[What color, to emphasize the 50th anniversary...</td>\n",
       "      <td>[]</td>\n",
       "      <td>[]</td>\n",
       "      <td>[]</td>\n",
       "    </tr>\n",
       "  </tbody>\n",
       "</table>\n",
       "</div>"
      ],
      "text/plain": [
       "     Subject Relation                                            Objects  \\\n",
       "0  [Unknown]    [use]  [What color, to emphasize the 50th anniversary...   \n",
       "\n",
       "  States Times Locations  \n",
       "0     []    []        []  "
      ]
     },
     "execution_count": 65,
     "metadata": {},
     "output_type": "execute_result"
    }
   ],
   "source": [
    "newQuestionDF = change_subject_relation(questionDF)\n",
    "newQuestionDF"
   ]
  },
  {
   "cell_type": "code",
   "execution_count": 66,
   "metadata": {},
   "outputs": [],
   "source": [
    "def similarity(factRow, questionRow, column):\n",
    "    if len(factRow[column]) == 0 or len(questionRow[column]) == 0:\n",
    "        return 0\n",
    "    columnString = \" \".join(factRow[column])\n",
    "    questionString = \" \".join(questionRow[column])\n",
    "    embeddingFact = model.encode(columnString)\n",
    "    embeddingQuestion = model.encode(questionString)\n",
    "    return util.cos_sim(embeddingFact, embeddingQuestion)"
   ]
  },
  {
   "cell_type": "code",
   "execution_count": 67,
   "metadata": {},
   "outputs": [],
   "source": [
    "def cost_function(factsDf, questionFact, excludeColumns=[]):\n",
    "    score = 0\n",
    "    maxFactIdx = 0\n",
    "    columnNames = [\"Subject\",\"Relation\", \"Objects\", \"States\", \"Times\", \"Locations\"]\n",
    "    for column in excludeColumns:\n",
    "        columnNames.remove(column)\n",
    "    for factIdx, factRow in factsDf.iterrows():\n",
    "        currScore = 0\n",
    "        for _, questionRow in questionFact.iterrows():\n",
    "            if len(factRow[excludeColumns[0]]) == 0:\n",
    "                continue\n",
    "            for column in columnNames:\n",
    "                currScore += similarity(factRow, questionRow, column)\n",
    "        if currScore > score:\n",
    "            score = currScore\n",
    "            maxFactIdx = factIdx\n",
    "    return maxFactIdx, score\n",
    "        "
   ]
  },
  {
   "cell_type": "code",
   "execution_count": 68,
   "metadata": {},
   "outputs": [
    {
     "data": {
      "text/plain": [
       "'The game'"
      ]
     },
     "execution_count": 68,
     "metadata": {},
     "output_type": "execute_result"
    }
   ],
   "source": [
    "correctIdx, _ = cost_function(factsDF, questionDF, excludeColumns=[excludesPerQuestionType[question_type]])\n",
    "WhenAnswer = factsDF.loc[correctIdx, excludesPerQuestionType[question_type]]\n",
    "if WhenAnswer == []:\n",
    "    WhenAnswer = factsDF.loc[correctIdx, \"States\"]    \n",
    "\" \".join(WhenAnswer)"
   ]
  },
  {
   "cell_type": "code",
   "execution_count": 69,
   "metadata": {},
   "outputs": [
    {
     "name": "stderr",
     "output_type": "stream",
     "text": [
      "c:\\Users\\zisak\\anaconda3\\Lib\\site-packages\\huggingface_hub\\file_download.py:1132: FutureWarning: `resume_download` is deprecated and will be removed in version 1.0.0. Downloads always resume when possible. If you want to force a new download, use `force_download=True`.\n",
      "  warnings.warn(\n"
     ]
    }
   ],
   "source": [
    "model = SentenceTransformer(\"all-MiniLM-L6-v2\")"
   ]
  },
  {
   "cell_type": "code",
   "execution_count": 70,
   "metadata": {},
   "outputs": [
    {
     "name": "stdout",
     "output_type": "stream",
     "text": [
      "Cosine-Similarity: 0.014753999188542366\n"
     ]
    }
   ],
   "source": [
    "emb1 = model.encode(\"the champion of the National Football League ( NFL )\")\n",
    "emb2 = model.encode(\"place\")\n",
    "\n",
    "cos_sim = util.cos_sim(emb1, emb2)\n",
    "print(\"Cosine-Similarity:\", cos_sim.item())"
   ]
  },
  {
   "cell_type": "code",
   "execution_count": 71,
   "metadata": {},
   "outputs": [
    {
     "data": {
      "text/plain": [
       "('CARDINAL',\n",
       " 'DATE',\n",
       " 'EVENT',\n",
       " 'FAC',\n",
       " 'GPE',\n",
       " 'LANGUAGE',\n",
       " 'LAW',\n",
       " 'LOC',\n",
       " 'MONEY',\n",
       " 'NORP',\n",
       " 'ORDINAL',\n",
       " 'ORG',\n",
       " 'PERCENT',\n",
       " 'PERSON',\n",
       " 'PRODUCT',\n",
       " 'QUANTITY',\n",
       " 'TIME',\n",
       " 'WORK_OF_ART')"
      ]
     },
     "execution_count": 71,
     "metadata": {},
     "output_type": "execute_result"
    }
   ],
   "source": [
    "nlp.get_pipe(\"ner\").labels"
   ]
  }
 ],
 "metadata": {
  "kernelspec": {
   "display_name": "base",
   "language": "python",
   "name": "python3"
  },
  "language_info": {
   "codemirror_mode": {
    "name": "ipython",
    "version": 3
   },
   "file_extension": ".py",
   "mimetype": "text/x-python",
   "name": "python",
   "nbconvert_exporter": "python",
   "pygments_lexer": "ipython3",
   "version": "3.11.5"
  }
 },
 "nbformat": 4,
 "nbformat_minor": 2
}
